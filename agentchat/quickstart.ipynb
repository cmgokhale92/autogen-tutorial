{
 "cells": [
  {
   "cell_type": "markdown",
   "id": "1f048e26",
   "metadata": {},
   "source": [
    "# Quickstart\n",
    "\n",
    "Build applications quickly using **preset agents**. First example - build agent that uses tools.\n",
    "\n",
    "Below we use open-ai model. To use any other, simple change *model_client*. Check more at [models](https://microsoft.github.io/autogen/stable//user-guide/agentchat-user-guide/tutorial/models.html)"
   ]
  },
  {
   "cell_type": "code",
   "execution_count": 1,
   "id": "92c61f1b",
   "metadata": {},
   "outputs": [
    {
     "data": {
      "text/plain": [
       "True"
      ]
     },
     "execution_count": 1,
     "metadata": {},
     "output_type": "execute_result"
    }
   ],
   "source": [
    "from dotenv import load_dotenv\n",
    "\n",
    "load_dotenv()"
   ]
  },
  {
   "cell_type": "code",
   "execution_count": 34,
   "id": "9a3f0de6",
   "metadata": {},
   "outputs": [
    {
     "name": "stdout",
     "output_type": "stream",
     "text": [
      "---------- TextMessage (user) ----------\n",
      "What is the weather in New York?\n",
      "---------- ToolCallRequestEvent (weather_agent) ----------\n",
      "[FunctionCall(id='call_KGqmBu6EPZf3taOazrsAMoOQ', arguments='{\"city\":\"New York\"}', name='get_weather')]\n",
      "---------- ToolCallExecutionEvent (weather_agent) ----------\n",
      "[FunctionExecutionResult(content='The weather in New York is 73 degrees and Sunny.', name='get_weather', call_id='call_KGqmBu6EPZf3taOazrsAMoOQ', is_error=False)]\n",
      "---------- ModelClientStreamingChunkEvent (weather_agent) ----------\n",
      "The weather in New York is currently 73 degrees and sunny.\n"
     ]
    }
   ],
   "source": [
    "from autogen_agentchat.agents import AssistantAgent\n",
    "from autogen_agentchat.ui import Console\n",
    "from autogen_ext.models.openai import OpenAIChatCompletionClient\n",
    "\n",
    "# Define a model client. You can use other model client that implements\n",
    "# the `ChatCompletionClient` interface.\n",
    "model_client = OpenAIChatCompletionClient(\n",
    "    model=\"gpt-4o-mini\",\n",
    "    # api_key=\"YOUR_API_KEY\",\n",
    ")\n",
    "\n",
    "\n",
    "# Define a simple function tool that the agent can use.\n",
    "# For this example, we use a fake weather tool for demonstration purposes.\n",
    "async def get_weather(city: str) -> str:\n",
    "    \"\"\"Get the weather for a given city.\"\"\"\n",
    "    return f\"The weather in {city} is 73 degrees and Sunny.\"\n",
    "\n",
    "\n",
    "# Define an AssistantAgent with the model, tool, system message, and reflection enabled.\n",
    "# The system message instructs the agent via natural language.\n",
    "agent = AssistantAgent(\n",
    "    name=\"weather_agent\",\n",
    "    model_client=model_client,\n",
    "    tools=[get_weather],\n",
    "    system_message=\"You are a helpful assistant.\",\n",
    "    reflect_on_tool_use=True,\n",
    "    model_client_stream=True,  # Enable streaming tokens from the model client.\n",
    ")\n",
    "\n",
    "\n",
    "# Run the agent and stream the messages to the console.\n",
    "async def main() -> None:\n",
    "    await Console(agent.run_stream(task=\"What is the weather in New York?\"))\n",
    "    # Close the connection to the model client.\n",
    "    await model_client.close()\n",
    "\n",
    "\n",
    "# NOTE: if running this inside a Python script you'll need to use asyncio.run(main()).\n",
    "await main()"
   ]
  },
  {
   "cell_type": "markdown",
   "id": "09234a61-ad5a-4cab-9cd3-aafa9ed446d3",
   "metadata": {},
   "source": [
    "### Playing around with above code"
   ]
  },
  {
   "cell_type": "code",
   "execution_count": 35,
   "id": "384bb6ad-88c8-4006-ad19-4ed8ab040248",
   "metadata": {},
   "outputs": [
    {
     "name": "stdout",
     "output_type": "stream",
     "text": [
      "---------- TextMessage (user) ----------\n",
      "What is the factorial of 5?\n",
      "---------- ToolCallRequestEvent (factorial_creator) ----------\n",
      "[FunctionCall(id='call_wpLjDwnZ3zRQFu1Kaw35msnN', arguments='{\"n\":5}', name='factorial')]\n",
      "---------- ToolCallExecutionEvent (factorial_creator) ----------\n",
      "[FunctionExecutionResult(content='120', name='factorial', call_id='call_wpLjDwnZ3zRQFu1Kaw35msnN', is_error=False)]\n",
      "---------- ModelClientStreamingChunkEvent (factorial_creator) ----------\n",
      "The factorial of 5, written as 5!, is 120.\n"
     ]
    }
   ],
   "source": [
    "from autogen_agentchat.agents import AssistantAgent\n",
    "from autogen_agentchat.ui import Console\n",
    "from autogen_ext.models.openai import OpenAIChatCompletionClient\n",
    "\n",
    "model = OpenAIChatCompletionClient(model='gpt-4o-mini')\n",
    "\n",
    "# function that calculates factorial\n",
    "async def factorial(n : int) -> int:\n",
    "    \"\"\" This function returns the factorial of an input integer \"\"\"\n",
    "    if n < 2:\n",
    "        return 1\n",
    "    else:\n",
    "        return n * await factorial(n-1)\n",
    "\n",
    "\n",
    "agent = AssistantAgent(\n",
    "    name=\"factorial_creator\",\n",
    "    model_client=model,\n",
    "    tools=[factorial],\n",
    "    system_message=\"You are a math wizard. Specifically, a factorial creator.\",\n",
    "    reflect_on_tool_use=True,\n",
    "    model_client_stream=True\n",
    ")\n",
    "\n",
    "async def main() -> None:\n",
    "    await Console(agent.run_stream(task=\"What is the factorial of 5?\"))\n",
    "    await model.close()\n",
    "\n",
    "await main()"
   ]
  },
  {
   "cell_type": "markdown",
   "id": "1923279b-39dd-4d51-a16f-b6b6f01af8c4",
   "metadata": {},
   "source": [
    "### Conceptually, agent is like a person with\n",
    "1. System message : Character of the person\n",
    "2. Tools : what all it can do apart from speaking about the vast info available through the model\n",
    "3. Model : its heart / brain"
   ]
  }
 ],
 "metadata": {
  "kernelspec": {
   "display_name": "Python 3 (ipykernel)",
   "language": "python",
   "name": "python3"
  },
  "language_info": {
   "codemirror_mode": {
    "name": "ipython",
    "version": 3
   },
   "file_extension": ".py",
   "mimetype": "text/x-python",
   "name": "python",
   "nbconvert_exporter": "python",
   "pygments_lexer": "ipython3",
   "version": "3.13.3"
  }
 },
 "nbformat": 4,
 "nbformat_minor": 5
}
