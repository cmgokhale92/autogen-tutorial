{
 "cells": [
  {
   "cell_type": "markdown",
   "id": "7a1ccb34-f246-468d-b029-c56b5b808166",
   "metadata": {},
   "source": [
    "# <u>Teams</u>\n",
    "\n",
    "AgentChat creates [**agent teams**](https://microsoft.github.io/autogen/stable//user-guide/agentchat-user-guide/tutorial/teams.html) for them to interact with each other.\n",
    "\n",
    "Each team achieves **a goal** by working together.\n",
    "\n",
    "**First we will**\n",
    "1. Create a team\n",
    "2. Run a team\n",
    "\n",
    "While doing this we will <u>**observe team's behavior**</u>, which is crucial along with common **operations to <u>control team's behavior**</u>\n",
    "\n",
    "**Team presets**\n",
    "1. **RoundRobinGroupChat** - runs group chat with agents participating sequentially (covered here)\n",
    "2. **SelectorGroupChat** - (advanced) team that selects the next participant using a judge (LLM)\n",
    "3. **MagneticOneGroupChat** - (advanced) generalist multi-agent to solve open ended web and file-based tasks\n",
    "4. **Swarm** - (advanced)\n",
    "\n",
    "**When to use a team?**\n",
    "\n",
    "First start with single agent. Use all it's resources and if it still fails to solve the problem, use a team.\n",
    "\n",
    "## <u>RoundRobinGroupChat</u>\n",
    "\n",
    "### <u>Creating a team</u>\n",
    "\n",
    "All agents share the same context.\n",
    "\n",
    "All agents take turn to answer sequentially.\n",
    "\n",
    "Each agent broadcasts its answer to all other agents.\n",
    "\n",
    "Example below : 2 Agents, *reflection pattern*, TextMentionTermination."
   ]
  },
  {
   "cell_type": "code",
   "execution_count": 1,
   "id": "a9994638-bd3a-4949-a851-2fc497fcddb3",
   "metadata": {},
   "outputs": [
    {
     "data": {
      "text/plain": [
       "True"
      ]
     },
     "execution_count": 1,
     "metadata": {},
     "output_type": "execute_result"
    }
   ],
   "source": [
    "from dotenv import load_dotenv\n",
    "\n",
    "load_dotenv()"
   ]
  },
  {
   "cell_type": "code",
   "execution_count": 2,
   "id": "8de90ef2-a532-46cc-b5e8-ecc99cbced72",
   "metadata": {},
   "outputs": [],
   "source": [
    "import asyncio\n",
    "\n",
    "from autogen_agentchat.agents import AssistantAgent\n",
    "from autogen_agentchat.base import TaskResult\n",
    "from autogen_agentchat.conditions import ExternalTermination, TextMentionTermination\n",
    "from autogen_agentchat.teams import RoundRobinGroupChat\n",
    "from autogen_agentchat.ui import Console\n",
    "from autogen_core import CancellationToken\n",
    "from autogen_ext.models.openai import OpenAIChatCompletionClient\n",
    "\n",
    "model_client = OpenAIChatCompletionClient(\n",
    "    model=\"gpt-4o-mini\"\n",
    ")\n",
    "\n",
    "vendor_agent = AssistantAgent(\n",
    "    \"vendor\",\n",
    "    model_client=model_client,\n",
    "    system_message=\"You are a vegetable vendor from Pune, India. Once some vegetables are sold, reply with 'THANK YOU'\",\n",
    ")\n",
    "\n",
    "buyer_agent = AssistantAgent(\n",
    "    \"buyer\",\n",
    "    model_client=model_client,\n",
    "    system_message=\"You are vegetable buyer conversing with a vendor in subji mandi. Ask for the vegetables you want and buy them at appropriate price.\",\n",
    ")\n",
    "\n",
    "text_termination = TextMentionTermination(\"THANK YOU\")\n",
    "\n",
    "team = RoundRobinGroupChat([vendor_agent, buyer_agent], termination_condition=text_termination)"
   ]
  },
  {
   "cell_type": "markdown",
   "id": "9d081ec0-4ffc-41fd-baa9-b320cf2e422f",
   "metadata": {},
   "source": [
    "### RUn"
   ]
  },
  {
   "cell_type": "code",
   "execution_count": 5,
   "id": "95f9e4e3-f374-4e4e-a370-7caa1516f936",
   "metadata": {},
   "outputs": [
    {
     "name": "stdout",
     "output_type": "stream",
     "text": [
      "messages=[TextMessage(id='e2044a54-ccd2-4a8e-a435-de7d634572b7', source='user', models_usage=None, metadata={}, created_at=datetime.datetime(2025, 9, 20, 5, 57, 12, 504326, tzinfo=datetime.timezone.utc), content='Write a short poem about the fall season.', type='TextMessage'), TextMessage(id='4b71d157-30f5-4079-90be-5e83419a0fbc', source='vendor', models_usage=RequestUsage(prompt_tokens=43, completion_tokens=83), metadata={}, created_at=datetime.datetime(2025, 9, 20, 5, 57, 16, 829651, tzinfo=datetime.timezone.utc), content=\"In fall's embrace, the leaves do dance,  \\nIn shades of amber, gold, and chance.  \\nThe crisp air whispers, nature's song,  \\nAs harvest tales of autumn prolong.  \\n\\nPumpkins glow in the twilight's hue,  \\nAnd breezes carry a scent so true.  \\nGather and cherish, the bounty's call,  \\nIn the heart of the season, we find our all.  \", type='TextMessage'), TextMessage(id='c580662d-dd0b-47a3-a057-437cc030172a', source='buyer', models_usage=RequestUsage(prompt_tokens=137, completion_tokens=41), metadata={}, created_at=datetime.datetime(2025, 9, 20, 5, 57, 18, 568003, tzinfo=datetime.timezone.utc), content='That was lovely! Now, speaking of autumn, I could use some fresh vegetables for the season. Do you have any pumpkins, sweet potatoes, or perhaps some hearty greens? What are your prices today?', type='TextMessage'), TextMessage(id='4585eb07-6c0d-4968-888f-7319fdc8ed37', source='vendor', models_usage=RequestUsage(prompt_tokens=177, completion_tokens=45), metadata={}, created_at=datetime.datetime(2025, 9, 20, 5, 57, 19, 799842, tzinfo=datetime.timezone.utc), content='Yes, I have fresh pumpkins available for ₹30 each, sweet potatoes for ₹40 per kg, and hearty greens like spinach and mustard greens for ₹20 per bunch. Would you like to buy any of these veggies? ', type='TextMessage'), TextMessage(id='400eae20-ad96-434d-a7ba-1664fb9c3132', source='buyer', models_usage=RequestUsage(prompt_tokens=233, completion_tokens=40), metadata={}, created_at=datetime.datetime(2025, 9, 20, 5, 57, 21, 479553, tzinfo=datetime.timezone.utc), content=\"Great prices! I’d like to take 2 pumpkins and 2 kg of sweet potatoes, please. And let's add 3 bunches of mustard greens. What will that come to in total?\", type='TextMessage'), TextMessage(id='46a2ca34-2f84-4249-adaa-06d53b15ecd7', source='vendor', models_usage=RequestUsage(prompt_tokens=272, completion_tokens=87), metadata={}, created_at=datetime.datetime(2025, 9, 20, 5, 57, 23, 604304, tzinfo=datetime.timezone.utc), content='Your total would be as follows:\\n\\n- 2 pumpkins at ₹30 each: ₹60  \\n- 2 kg of sweet potatoes at ₹40 per kg: ₹80  \\n- 3 bunches of mustard greens at ₹20 per bunch: ₹60  \\n\\nAdding that up:  \\n₹60 + ₹80 + ₹60 = ₹200  \\n\\nSo, the total comes to ₹200. Would you like to proceed with the purchase?', type='TextMessage'), TextMessage(id='e30bae9c-2e8d-4ddf-835e-7d1f8579b4aa', source='buyer', models_usage=RequestUsage(prompt_tokens=370, completion_tokens=25), metadata={}, created_at=datetime.datetime(2025, 9, 20, 5, 57, 24, 726817, tzinfo=datetime.timezone.utc), content='Yes, that sounds perfect! Here’s ₹200 for the vegetables. Thank you! Can you pack them nicely for me?', type='TextMessage'), TextMessage(id='21be98d9-4e6c-4d58-a51a-8d64863e41e3', source='vendor', models_usage=RequestUsage(prompt_tokens=394, completion_tokens=16), metadata={}, created_at=datetime.datetime(2025, 9, 20, 5, 57, 25, 439427, tzinfo=datetime.timezone.utc), content='THANK YOU! I’ll pack them nicely for you. Enjoy your fresh vegetables!', type='TextMessage')] stop_reason=\"Text 'THANK YOU' mentioned\"\n"
     ]
    }
   ],
   "source": [
    "result = await team.run(task=\"Write a short poem about the fall season.\")\n",
    "print(result)\n",
    "print(\"\\n\")\n",
    "print(\"Type of result is : \", type(result))"
   ]
  },
  {
   "cell_type": "markdown",
   "id": "aae3eca9-5291-434a-826b-0914ca0a6e7c",
   "metadata": {},
   "source": [
    "### <u>result from teams.run</u>\n",
    "\n",
    "We see above that teams.run gives us a TaskResult object.\n",
    "\n",
    "Find below 5 characteristics of this object\n",
    "\n",
    "<img src=\"images/image_13.png\" width=\"600\">"
   ]
  },
  {
   "cell_type": "code",
   "execution_count": 21,
   "id": "c2d2d3a0-f3c1-4678-b42a-dac3d561ed22",
   "metadata": {},
   "outputs": [
    {
     "data": {
      "text/plain": [
       "dict_keys(['messages', 'stop_reason'])"
      ]
     },
     "execution_count": 21,
     "metadata": {},
     "output_type": "execute_result"
    }
   ],
   "source": [
    "result.__dict__.keys()"
   ]
  },
  {
   "cell_type": "code",
   "execution_count": 23,
   "id": "f8830db6-4bb0-4e00-9f74-d280abe88457",
   "metadata": {},
   "outputs": [
    {
     "name": "stdout",
     "output_type": "stream",
     "text": [
      "STOP REASON :  Text 'THANK YOU' mentioned\n"
     ]
    }
   ],
   "source": [
    "print(\"STOP REASON : \", result.stop_reason)"
   ]
  },
  {
   "cell_type": "code",
   "execution_count": 24,
   "id": "d18d3c3e-6bf2-442e-9bd9-9fd15fc74a97",
   "metadata": {},
   "outputs": [
    {
     "name": "stdout",
     "output_type": "stream",
     "text": [
      "\n",
      "Types of result.messages contents is : \n",
      "\n",
      "<class 'autogen_agentchat.messages.TextMessage'>\n",
      "<class 'autogen_agentchat.messages.TextMessage'>\n",
      "<class 'autogen_agentchat.messages.TextMessage'>\n",
      "<class 'autogen_agentchat.messages.TextMessage'>\n",
      "<class 'autogen_agentchat.messages.TextMessage'>\n",
      "<class 'autogen_agentchat.messages.TextMessage'>\n",
      "<class 'autogen_agentchat.messages.TextMessage'>\n",
      "<class 'autogen_agentchat.messages.TextMessage'>\n"
     ]
    },
    {
     "data": {
      "text/plain": [
       "[None, None, None, None, None, None, None, None]"
      ]
     },
     "execution_count": 24,
     "metadata": {},
     "output_type": "execute_result"
    }
   ],
   "source": [
    "print(\"\\nTypes of result.messages contents is : \\n\")\n",
    "[print(type(i)) for i in result.messages]"
   ]
  },
  {
   "cell_type": "code",
   "execution_count": 4,
   "id": "592aef1e-630e-467e-89bb-e89ffe4187a4",
   "metadata": {},
   "outputs": [
    {
     "name": "stdout",
     "output_type": "stream",
     "text": [
      "user \n",
      " ---------- \n",
      " Write a short poem about the fall season. \n",
      "\n",
      "vendor \n",
      " ---------- \n",
      " In fall's embrace, the leaves do dance,  \n",
      "In shades of amber, gold, and chance.  \n",
      "The crisp air whispers, nature's song,  \n",
      "As harvest tales of autumn prolong.  \n",
      "\n",
      "Pumpkins glow in the twilight's hue,  \n",
      "And breezes carry a scent so true.  \n",
      "Gather and cherish, the bounty's call,  \n",
      "In the heart of the season, we find our all.   \n",
      "\n",
      "buyer \n",
      " ---------- \n",
      " That was lovely! Now, speaking of autumn, I could use some fresh vegetables for the season. Do you have any pumpkins, sweet potatoes, or perhaps some hearty greens? What are your prices today? \n",
      "\n",
      "vendor \n",
      " ---------- \n",
      " Yes, I have fresh pumpkins available for ₹30 each, sweet potatoes for ₹40 per kg, and hearty greens like spinach and mustard greens for ₹20 per bunch. Would you like to buy any of these veggies?  \n",
      "\n",
      "buyer \n",
      " ---------- \n",
      " Great prices! I’d like to take 2 pumpkins and 2 kg of sweet potatoes, please. And let's add 3 bunches of mustard greens. What will that come to in total? \n",
      "\n",
      "vendor \n",
      " ---------- \n",
      " Your total would be as follows:\n",
      "\n",
      "- 2 pumpkins at ₹30 each: ₹60  \n",
      "- 2 kg of sweet potatoes at ₹40 per kg: ₹80  \n",
      "- 3 bunches of mustard greens at ₹20 per bunch: ₹60  \n",
      "\n",
      "Adding that up:  \n",
      "₹60 + ₹80 + ₹60 = ₹200  \n",
      "\n",
      "So, the total comes to ₹200. Would you like to proceed with the purchase? \n",
      "\n",
      "buyer \n",
      " ---------- \n",
      " Yes, that sounds perfect! Here’s ₹200 for the vegetables. Thank you! Can you pack them nicely for me? \n",
      "\n",
      "vendor \n",
      " ---------- \n",
      " THANK YOU! I’ll pack them nicely for you. Enjoy your fresh vegetables! \n",
      "\n"
     ]
    }
   ],
   "source": [
    "for i in result.messages:\n",
    "    print(i.source, \"\\n\", \"----------\", \"\\n\", i.content, \"\\n\")"
   ]
  },
  {
   "cell_type": "markdown",
   "id": "789c4839-1ae4-407c-98f3-0aaa152c61dd",
   "metadata": {},
   "source": [
    "### <u>Observing a team</u>\n",
    "\n",
    "Observe a team using **run_stream** method."
   ]
  },
  {
   "cell_type": "code",
   "execution_count": 26,
   "id": "78a747dd-1faf-4868-a03d-3a0fea80e620",
   "metadata": {},
   "outputs": [
    {
     "name": "stdout",
     "output_type": "stream",
     "text": [
      "id='f7d0fe42-49e1-4fa0-837f-29bf2017dbd3' source='user' models_usage=None metadata={} created_at=datetime.datetime(2025, 9, 20, 6, 27, 43, 511319, tzinfo=datetime.timezone.utc) content='Start the task of buying vegetables. Mention vegetables local to maharashtra' type='TextMessage'\n",
      "\n",
      "\n",
      "id='310a3e39-3014-4607-b69d-0d2e522afc4d' source='vendor' models_usage=RequestUsage(prompt_tokens=48, completion_tokens=120) metadata={} created_at=datetime.datetime(2025, 9, 20, 6, 27, 47, 468887, tzinfo=datetime.timezone.utc) content='Sure! Here are some local vegetables from Maharashtra that you might find interesting:\\n\\n1. Bhindi (Okra)\\n2. Vangi (Brinjal/Eggplant)\\n3. Batata (Potato)\\n4. Kanda (Onion)\\n5. Tamata (Tomato)\\n6. Paatal (Turmeric)\\n7. Pothole Bhaji (Drumstick greens)\\n8. Kothimbir (Coriander leaves)\\n9. Methi (Fenugreek)\\n10. Palak (Spinach)\\n\\nLet me know what you would like to buy!' type='TextMessage'\n",
      "\n",
      "\n",
      "id='703fb329-6549-41f6-a428-e9ee6ce75a18' source='buyer' models_usage=RequestUsage(prompt_tokens=179, completion_tokens=106) metadata={} created_at=datetime.datetime(2025, 9, 20, 6, 27, 49, 851296, tzinfo=datetime.timezone.utc) content=\"I'd like to buy the following vegetables:\\n\\n1. 1 kg of Bhindi (Okra)\\n2. 1 kg of Vangi (Brinjal)\\n3. 2 kg of Batata (Potato)\\n4. 1 kg of Kanda (Onion)\\n5. 1 kg of Tamata (Tomato)\\n6. A bunch of Kothimbir (Coriander leaves)\\n7. 250 grams of Methi (Fenugreek)\\n\\nWhat will be the total price for these?\" type='TextMessage'\n",
      "\n",
      "\n",
      "id='3383ca46-ad96-4471-bff6-3f3c37a775ad' source='vendor' models_usage=RequestUsage(prompt_tokens=284, completion_tokens=265) metadata={} created_at=datetime.datetime(2025, 9, 20, 6, 27, 55, 607525, tzinfo=datetime.timezone.utc) content=\"I'll provide you with an estimated price for each vegetable (prices may vary based on the market):\\n\\n1. Bhindi (Okra): ₹60/kg\\n2. Vangi (Brinjal): ₹50/kg\\n3. Batata (Potato): ₹30/kg\\n4. Kanda (Onion): ₹30/kg\\n5. Tamata (Tomato): ₹40/kg\\n6. Kothimbir (Coriander leaves): ₹20/bunch\\n7. Methi (Fenugreek): ₹40/250 grams\\n\\nNow, let's calculate the total price:\\n\\n- Bhindi: ₹60 x 1 kg = ₹60\\n- Vangi: ₹50 x 1 kg = ₹50\\n- Batata: ₹30 x 2 kg = ₹60\\n- Kanda: ₹30 x 1 kg = ₹30\\n- Tamata: ₹40 x 1 kg = ₹40\\n- Kothimbir: ₹20 x 1 bunch = ₹20\\n- Methi: ₹40 x 1 = ₹40\\n\\n**Total Price: ₹60 + ₹50 + ₹60 + ₹30 + ₹40 + ₹20 + ₹40 = ₹300**\\n\\nSo, the total comes to ₹300. Would you like to proceed with the purchase?\" type='TextMessage'\n",
      "\n",
      "\n",
      "id='8ab92eeb-d043-455d-a7e4-c603edcf14a9' source='buyer' models_usage=RequestUsage(prompt_tokens=560, completion_tokens=34) metadata={} created_at=datetime.datetime(2025, 9, 20, 6, 27, 56, 852365, tzinfo=datetime.timezone.utc) content=\"Yes, I would like to proceed with the purchase. Here's the total again to confirm: ₹300 for all the vegetables. \\n\\nCan you pack them up for me?\" type='TextMessage'\n",
      "\n",
      "\n",
      "id='7a199c9a-9125-4870-bf8b-86e3be1065b9' source='vendor' models_usage=RequestUsage(prompt_tokens=593, completion_tokens=113) metadata={} created_at=datetime.datetime(2025, 9, 20, 6, 28, 0, 399023, tzinfo=datetime.timezone.utc) content=\"Sure! I'll pack the following vegetables for you:\\n\\n1. 1 kg of Bhindi (Okra)\\n2. 1 kg of Vangi (Brinjal)\\n3. 2 kg of Batata (Potato)\\n4. 1 kg of Kanda (Onion)\\n5. 1 kg of Tamata (Tomato)\\n6. A bunch of Kothimbir (Coriander leaves)\\n7. 250 grams of Methi (Fenugreek)\\n\\nYour total is indeed ₹300. \\n\\nThank you for your purchase!\" type='TextMessage'\n",
      "\n",
      "\n",
      "id='d7bd0854-7381-4677-b749-72d75e7447fa' source='buyer' models_usage=RequestUsage(prompt_tokens=717, completion_tokens=34) metadata={} created_at=datetime.datetime(2025, 9, 20, 6, 28, 2, 354759, tzinfo=datetime.timezone.utc) content=\"Thank you! Here's ₹300 for the vegetables. \\n\\nI appreciate your help, and I look forward to using these fresh veggies in my cooking. Have a great day!\" type='TextMessage'\n",
      "\n",
      "\n",
      "id='314a83ee-0d96-4909-a98d-fd4c2216a32f' source='vendor' models_usage=RequestUsage(prompt_tokens=750, completion_tokens=39) metadata={} created_at=datetime.datetime(2025, 9, 20, 6, 28, 4, 20819, tzinfo=datetime.timezone.utc) content=\"THANK YOU! I'm glad I could help you with your vegetable shopping. Enjoy your cooking with the fresh veggies, and have a wonderful day! If you need anything else, feel free to ask!\" type='TextMessage'\n",
      "\n",
      "\n",
      "Stop Reason: Text 'THANK YOU' mentioned\n"
     ]
    }
   ],
   "source": [
    "await team.reset()  # Reset the team for a new task.\n",
    "async for message in team.run_stream(task=\"Start the task of buying vegetables. Mention vegetables local to maharashtra\"):  # type: ignore\n",
    "    if isinstance(message, TaskResult):\n",
    "        print(\"Stop Reason:\", message.stop_reason)\n",
    "    else:\n",
    "        print(message)\n",
    "        print(\"\\n\")"
   ]
  },
  {
   "cell_type": "markdown",
   "id": "4f983f58-3e03-4677-9efe-81477245658c",
   "metadata": {},
   "source": [
    "#### <u>Doing the same above with Console</u>\n",
    "\n",
    "This is the actual use of **Console** method. Whatever run stream gives, it outputs with better formatting."
   ]
  },
  {
   "cell_type": "code",
   "execution_count": 27,
   "id": "7112d2a0-23e8-481a-b7e6-0d4e3781ea9a",
   "metadata": {},
   "outputs": [
    {
     "name": "stdout",
     "output_type": "stream",
     "text": [
      "---------- TextMessage (user) ----------\n",
      "Hello. How are you?\n",
      "---------- TextMessage (vendor) ----------\n",
      "Hello! I’m doing well, thank you. How can I assist you today with vegetables?\n",
      "---------- TextMessage (buyer) ----------\n",
      "I’m looking to buy some fresh vegetables for the week. Can you please show me your best quality tomatoes, onions, and spinach? What are your prices for these?\n",
      "---------- TextMessage (vendor) ----------\n",
      "Sure! Here are my best quality vegetables and their prices:\n",
      "\n",
      "- **Tomatoes**: ₹40 per kg\n",
      "- **Onions**: ₹30 per kg\n",
      "- **Spinach**: ₹20 per bunch\n",
      "\n",
      "Let me know how much you would like to buy!\n",
      "---------- TextMessage (buyer) ----------\n",
      "Great! I would like to buy 2 kg of tomatoes, 3 kg of onions, and 5 bunches of spinach. Can you give me the total price for that?\n",
      "---------- TextMessage (vendor) ----------\n",
      "Sure! Here’s the total for your order:\n",
      "\n",
      "- **Tomatoes (2 kg)**: ₹80\n",
      "- **Onions (3 kg)**: ₹90\n",
      "- **Spinach (5 bunches)**: ₹100\n",
      "\n",
      "**Total Price:** ₹270\n",
      "\n",
      "Would you like to proceed with the purchase?\n",
      "---------- TextMessage (buyer) ----------\n",
      "Yes, I’d like to proceed with the purchase. Here is ₹270. Thank you for the vegetables!\n",
      "---------- TextMessage (vendor) ----------\n",
      "THANK YOU! Enjoy your fresh vegetables!\n"
     ]
    },
    {
     "data": {
      "text/plain": [
       "TaskResult(messages=[TextMessage(id='72b9e660-8452-4abc-b3a5-a886a8d51fdc', source='user', models_usage=None, metadata={}, created_at=datetime.datetime(2025, 9, 20, 6, 29, 47, 355265, tzinfo=datetime.timezone.utc), content='Hello. How are you?', type='TextMessage'), TextMessage(id='985c217d-3dbe-4b95-819b-14051a4efc20', source='vendor', models_usage=RequestUsage(prompt_tokens=40, completion_tokens=19), metadata={}, created_at=datetime.datetime(2025, 9, 20, 6, 29, 48, 436613, tzinfo=datetime.timezone.utc), content='Hello! I’m doing well, thank you. How can I assist you today with vegetables?', type='TextMessage'), TextMessage(id='9f542d42-de14-4f59-a054-cee860970fb9', source='buyer', models_usage=RequestUsage(prompt_tokens=70, completion_tokens=34), metadata={}, created_at=datetime.datetime(2025, 9, 20, 6, 29, 49, 642606, tzinfo=datetime.timezone.utc), content='I’m looking to buy some fresh vegetables for the week. Can you please show me your best quality tomatoes, onions, and spinach? What are your prices for these?', type='TextMessage'), TextMessage(id='f90236a4-0693-4c85-865c-7798fa9bb781', source='vendor', models_usage=RequestUsage(prompt_tokens=103, completion_tokens=56), metadata={}, created_at=datetime.datetime(2025, 9, 20, 6, 29, 52, 111988, tzinfo=datetime.timezone.utc), content='Sure! Here are my best quality vegetables and their prices:\\n\\n- **Tomatoes**: ₹40 per kg\\n- **Onions**: ₹30 per kg\\n- **Spinach**: ₹20 per bunch\\n\\nLet me know how much you would like to buy!', type='TextMessage'), TextMessage(id='8cdca1fd-bdb6-4278-991e-361d1178cba3', source='buyer', models_usage=RequestUsage(prompt_tokens=170, completion_tokens=37), metadata={}, created_at=datetime.datetime(2025, 9, 20, 6, 29, 53, 177311, tzinfo=datetime.timezone.utc), content='Great! I would like to buy 2 kg of tomatoes, 3 kg of onions, and 5 bunches of spinach. Can you give me the total price for that?', type='TextMessage'), TextMessage(id='55faedad-bc0c-446a-a8aa-cd49c1f120e3', source='vendor', models_usage=RequestUsage(prompt_tokens=206, completion_tokens=63), metadata={}, created_at=datetime.datetime(2025, 9, 20, 6, 29, 55, 12611, tzinfo=datetime.timezone.utc), content='Sure! Here’s the total for your order:\\n\\n- **Tomatoes (2 kg)**: ₹80\\n- **Onions (3 kg)**: ₹90\\n- **Spinach (5 bunches)**: ₹100\\n\\n**Total Price:** ₹270\\n\\nWould you like to proceed with the purchase?', type='TextMessage'), TextMessage(id='1627df4a-38fa-49c1-8ac5-e1f0ffe87322', source='buyer', models_usage=RequestUsage(prompt_tokens=280, completion_tokens=22), metadata={}, created_at=datetime.datetime(2025, 9, 20, 6, 29, 56, 284591, tzinfo=datetime.timezone.utc), content='Yes, I’d like to proceed with the purchase. Here is ₹270. Thank you for the vegetables!', type='TextMessage'), TextMessage(id='f24433bf-c2b5-44ed-ab1e-d9ab25177bcf', source='vendor', models_usage=RequestUsage(prompt_tokens=301, completion_tokens=8), metadata={}, created_at=datetime.datetime(2025, 9, 20, 6, 29, 57, 248303, tzinfo=datetime.timezone.utc), content='THANK YOU! Enjoy your fresh vegetables!', type='TextMessage')], stop_reason=\"Text 'THANK YOU' mentioned\")"
      ]
     },
     "execution_count": 27,
     "metadata": {},
     "output_type": "execute_result"
    }
   ],
   "source": [
    "await team.reset()  # Reset the team for a new task.\n",
    "await Console(team.run_stream(task=\"Hello. How are you?\"))  # Stream the messages to the console."
   ]
  },
  {
   "cell_type": "markdown",
   "id": "2647023b-7f8a-4def-8d35-6bb94722df6e",
   "metadata": {},
   "source": [
    "### <u>Resetting a team</u>\n",
    "\n",
    "As we saw above, to reset a team we do **team.reset()**.\n",
    "\n",
    "This will clear the team's state including all agents. It internally calls each agent's **on_reset()** method to clear agent's state.\n",
    "\n",
    "I did some research on what exactly is this **state**\n",
    "\n",
    "Below I found a method **save_state** which gives us a very complicated state dictionary.\n",
    "\n",
    "Below we also hit reset, which wipes out this **state** dictionary."
   ]
  },
  {
   "cell_type": "code",
   "execution_count": 29,
   "id": "f1f6d889-0468-45ca-b197-9a499b66f678",
   "metadata": {},
   "outputs": [
    {
     "name": "stdout",
     "output_type": "stream",
     "text": [
      "['DEFAULT_DESCRIPTION', 'DEFAULT_NAME', '__abstractmethods__', '__annotations__', '__class__', '__class_getitem__', '__delattr__', '__dict__', '__dir__', '__doc__', '__eq__', '__firstlineno__', '__format__', '__ge__', '__getattribute__', '__getstate__', '__gt__', '__hash__', '__init__', '__init_subclass__', '__le__', '__lt__', '__module__', '__ne__', '__new__', '__orig_bases__', '__parameters__', '__protocol_attrs__', '__reduce__', '__reduce_ex__', '__repr__', '__setattr__', '__sizeof__', '__slots__', '__static_attributes__', '__str__', '__subclasshook__', '__weakref__', '_abc_impl', '_base_group_chat_manager_class', '_create_group_chat_manager_factory', '_create_participant_factory', '_description', '_embedded_runtime', '_emit_team_events', '_from_config', '_from_config_past_version', '_group_chat_manager_name', '_group_chat_manager_topic_type', '_group_topic_type', '_init', '_initialized', '_is_protocol', '_is_running', '_is_runtime_protocol', '_max_turns', '_message_factory', '_name', '_output_message_queue', '_output_topic_type', '_participant_descriptions', '_participant_names', '_participant_topic_types', '_participants', '_runtime', '_team_id', '_termination_condition', '_to_config', 'component_config_schema', 'component_description', 'component_label', 'component_provider_override', 'component_type', 'component_version', 'description', 'dump_component', 'load_component', 'load_state', 'name', 'pause', 'required_class_vars', 'reset', 'resume', 'run', 'run_stream', 'save_state']\n"
     ]
    }
   ],
   "source": [
    "print(dir(team))"
   ]
  },
  {
   "cell_type": "code",
   "execution_count": 37,
   "id": "0a9c2312-cb57-4e93-bbc6-8d6de29acc77",
   "metadata": {},
   "outputs": [
    {
     "name": "stdout",
     "output_type": "stream",
     "text": [
      "{'type': 'TeamState', 'version': '1.0.0', 'agent_states': {'vendor': {'type': 'ChatAgentContainerState', 'version': '1.0.0', 'agent_state': {'type': 'AssistantAgentState', 'version': '1.0.0', 'llm_context': {'messages': [{'content': 'Hello. How are you?', 'source': 'user', 'type': 'UserMessage'}, {'content': 'Hello! I’m doing well, thank you. How can I assist you today with vegetables?', 'thought': None, 'source': 'vendor', 'type': 'AssistantMessage'}, {'content': 'I’m looking to buy some fresh vegetables for the week. Can you please show me your best quality tomatoes, onions, and spinach? What are your prices for these?', 'source': 'buyer', 'type': 'UserMessage'}, {'content': 'Sure! Here are my best quality vegetables and their prices:\\n\\n- **Tomatoes**: ₹40 per kg\\n- **Onions**: ₹30 per kg\\n- **Spinach**: ₹20 per bunch\\n\\nLet me know how much you would like to buy!', 'thought': None, 'source': 'vendor', 'type': 'AssistantMessage'}, {'content': 'Great! I would like to buy 2 kg of tomatoes, 3 kg of onions, and 5 bunches of spinach. Can you give me the total price for that?', 'source': 'buyer', 'type': 'UserMessage'}, {'content': 'Sure! Here’s the total for your order:\\n\\n- **Tomatoes (2 kg)**: ₹80\\n- **Onions (3 kg)**: ₹90\\n- **Spinach (5 bunches)**: ₹100\\n\\n**Total Price:** ₹270\\n\\nWould you like to proceed with the purchase?', 'thought': None, 'source': 'vendor', 'type': 'AssistantMessage'}, {'content': 'Yes, I’d like to proceed with the purchase. Here is ₹270. Thank you for the vegetables!', 'source': 'buyer', 'type': 'UserMessage'}, {'content': 'THANK YOU! Enjoy your fresh vegetables!', 'thought': None, 'source': 'vendor', 'type': 'AssistantMessage'}]}}, 'message_buffer': []}, 'buyer': {'type': 'ChatAgentContainerState', 'version': '1.0.0', 'agent_state': {'type': 'AssistantAgentState', 'version': '1.0.0', 'llm_context': {'messages': [{'content': 'Hello. How are you?', 'source': 'user', 'type': 'UserMessage'}, {'content': 'Hello! I’m doing well, thank you. How can I assist you today with vegetables?', 'source': 'vendor', 'type': 'UserMessage'}, {'content': 'I’m looking to buy some fresh vegetables for the week. Can you please show me your best quality tomatoes, onions, and spinach? What are your prices for these?', 'thought': None, 'source': 'buyer', 'type': 'AssistantMessage'}, {'content': 'Sure! Here are my best quality vegetables and their prices:\\n\\n- **Tomatoes**: ₹40 per kg\\n- **Onions**: ₹30 per kg\\n- **Spinach**: ₹20 per bunch\\n\\nLet me know how much you would like to buy!', 'source': 'vendor', 'type': 'UserMessage'}, {'content': 'Great! I would like to buy 2 kg of tomatoes, 3 kg of onions, and 5 bunches of spinach. Can you give me the total price for that?', 'thought': None, 'source': 'buyer', 'type': 'AssistantMessage'}, {'content': 'Sure! Here’s the total for your order:\\n\\n- **Tomatoes (2 kg)**: ₹80\\n- **Onions (3 kg)**: ₹90\\n- **Spinach (5 bunches)**: ₹100\\n\\n**Total Price:** ₹270\\n\\nWould you like to proceed with the purchase?', 'source': 'vendor', 'type': 'UserMessage'}, {'content': 'Yes, I’d like to proceed with the purchase. Here is ₹270. Thank you for the vegetables!', 'thought': None, 'source': 'buyer', 'type': 'AssistantMessage'}]}}, 'message_buffer': [{'id': 'f24433bf-c2b5-44ed-ab1e-d9ab25177bcf', 'source': 'vendor', 'models_usage': {'prompt_tokens': 301, 'completion_tokens': 8}, 'metadata': {}, 'created_at': '2025-09-20T06:29:57.248303Z', 'content': 'THANK YOU! Enjoy your fresh vegetables!', 'type': 'TextMessage'}]}, 'RoundRobinGroupChatManager': {'type': 'RoundRobinManagerState', 'version': '1.0.0', 'message_thread': [{'id': '72b9e660-8452-4abc-b3a5-a886a8d51fdc', 'source': 'user', 'models_usage': None, 'metadata': {}, 'created_at': '2025-09-20T06:29:47.355265Z', 'content': 'Hello. How are you?', 'type': 'TextMessage'}, {'id': '985c217d-3dbe-4b95-819b-14051a4efc20', 'source': 'vendor', 'models_usage': {'prompt_tokens': 40, 'completion_tokens': 19}, 'metadata': {}, 'created_at': '2025-09-20T06:29:48.436613Z', 'content': 'Hello! I’m doing well, thank you. How can I assist you today with vegetables?', 'type': 'TextMessage'}, {'id': '9f542d42-de14-4f59-a054-cee860970fb9', 'source': 'buyer', 'models_usage': {'prompt_tokens': 70, 'completion_tokens': 34}, 'metadata': {}, 'created_at': '2025-09-20T06:29:49.642606Z', 'content': 'I’m looking to buy some fresh vegetables for the week. Can you please show me your best quality tomatoes, onions, and spinach? What are your prices for these?', 'type': 'TextMessage'}, {'id': 'f90236a4-0693-4c85-865c-7798fa9bb781', 'source': 'vendor', 'models_usage': {'prompt_tokens': 103, 'completion_tokens': 56}, 'metadata': {}, 'created_at': '2025-09-20T06:29:52.111988Z', 'content': 'Sure! Here are my best quality vegetables and their prices:\\n\\n- **Tomatoes**: ₹40 per kg\\n- **Onions**: ₹30 per kg\\n- **Spinach**: ₹20 per bunch\\n\\nLet me know how much you would like to buy!', 'type': 'TextMessage'}, {'id': '8cdca1fd-bdb6-4278-991e-361d1178cba3', 'source': 'buyer', 'models_usage': {'prompt_tokens': 170, 'completion_tokens': 37}, 'metadata': {}, 'created_at': '2025-09-20T06:29:53.177311Z', 'content': 'Great! I would like to buy 2 kg of tomatoes, 3 kg of onions, and 5 bunches of spinach. Can you give me the total price for that?', 'type': 'TextMessage'}, {'id': '55faedad-bc0c-446a-a8aa-cd49c1f120e3', 'source': 'vendor', 'models_usage': {'prompt_tokens': 206, 'completion_tokens': 63}, 'metadata': {}, 'created_at': '2025-09-20T06:29:55.012611Z', 'content': 'Sure! Here’s the total for your order:\\n\\n- **Tomatoes (2 kg)**: ₹80\\n- **Onions (3 kg)**: ₹90\\n- **Spinach (5 bunches)**: ₹100\\n\\n**Total Price:** ₹270\\n\\nWould you like to proceed with the purchase?', 'type': 'TextMessage'}, {'id': '1627df4a-38fa-49c1-8ac5-e1f0ffe87322', 'source': 'buyer', 'models_usage': {'prompt_tokens': 280, 'completion_tokens': 22}, 'metadata': {}, 'created_at': '2025-09-20T06:29:56.284591Z', 'content': 'Yes, I’d like to proceed with the purchase. Here is ₹270. Thank you for the vegetables!', 'type': 'TextMessage'}, {'id': 'f24433bf-c2b5-44ed-ab1e-d9ab25177bcf', 'source': 'vendor', 'models_usage': {'prompt_tokens': 301, 'completion_tokens': 8}, 'metadata': {}, 'created_at': '2025-09-20T06:29:57.248303Z', 'content': 'THANK YOU! Enjoy your fresh vegetables!', 'type': 'TextMessage'}], 'current_turn': 0, 'next_speaker_index': 1}}}\n"
     ]
    },
    {
     "name": "stderr",
     "output_type": "stream",
     "text": [
      "C:\\Users\\chaitanya.gokhale\\AppData\\Local\\Temp\\ipykernel_11628\\3881202841.py:1: RuntimeWarning: coroutine 'BaseGroupChat.save_state' was never awaited\n",
      "  team_state = await team.save_state()\n",
      "RuntimeWarning: Enable tracemalloc to get the object allocation traceback\n"
     ]
    }
   ],
   "source": [
    "team_state = await team.save_state()\n",
    "print(team_state)"
   ]
  },
  {
   "cell_type": "code",
   "execution_count": 38,
   "id": "062d05e0-4844-4e89-8248-61c5a3aa03c9",
   "metadata": {},
   "outputs": [
    {
     "name": "stdout",
     "output_type": "stream",
     "text": [
      "{'type': 'TeamState', 'version': '1.0.0', 'agent_states': {'vendor': {'type': 'ChatAgentContainerState', 'version': '1.0.0', 'agent_state': {'type': 'AssistantAgentState', 'version': '1.0.0', 'llm_context': {'messages': []}}, 'message_buffer': []}, 'buyer': {'type': 'ChatAgentContainerState', 'version': '1.0.0', 'agent_state': {'type': 'AssistantAgentState', 'version': '1.0.0', 'llm_context': {'messages': []}}, 'message_buffer': []}, 'RoundRobinGroupChatManager': {'type': 'RoundRobinManagerState', 'version': '1.0.0', 'message_thread': [], 'current_turn': 0, 'next_speaker_index': 0}}}\n"
     ]
    }
   ],
   "source": [
    "await team.reset()\n",
    "team_state = await team.save_state()\n",
    "print(team_state)"
   ]
  },
  {
   "cell_type": "markdown",
   "id": "a8925978-a9ba-4c32-9538-c533a70a25f1",
   "metadata": {},
   "source": [
    "**We see above that resetting the team changes the team_state dict**\n",
    "\n",
    "### <u>Stopping a team</u>\n",
    "\n",
    "1 type of stopping conditions like **TextMentionTermination** that we used are internal conditions that stop the team based on the **state**.\n",
    "\n",
    "We can also stop the team **externally** using **ExternalTermination**\n",
    "\n",
    "In the below code snippet\n",
    "1. asyncio.create_task - starting task in the background\n",
    "2. asyncio.sleep(5) - if the task gets complete (THANK YOU received) in 5 seconds then good else the next line...\n",
    "3. ..The next line *external_termination.set()* manually i.e. externally terminates the task (whichever agent was speaking, he will complete what he says and the team will stop).\n",
    "\n",
    "What happens\n",
    "1. *external_termination.set()* sets a flag (like flip a switch).\n",
    "2. This flag is being watched for by the team after every agent stops speaking."
   ]
  },
  {
   "cell_type": "code",
   "execution_count": 40,
   "id": "7be6bdc9-33e3-495f-a49c-b6eb05abc91e",
   "metadata": {},
   "outputs": [
    {
     "name": "stdout",
     "output_type": "stream",
     "text": [
      "---------- TextMessage (user) ----------\n",
      "Write a short poem about the fall season.\n",
      "---------- TextMessage (vendor) ----------\n",
      "In the season of fall, the leaves gently sway,  \n",
      "A tapestry of colors in a grand display.  \n",
      "Golden and crimson, they dance in the breeze,  \n",
      "Whispers of autumn rustle through the trees.  \n",
      "\n",
      "The air turns crisp, and the days grow short,  \n",
      "Harvest time comes, a joyful report.  \n",
      "Pumpkins and apples, so ripe and so sweet,  \n",
      "Nature's embrace, a cozy retreat.  \n",
      "\n",
      "As the sun dips low and the nights grow long,  \n",
      "We gather around, where hearts feel strong.  \n",
      "In the warmth of the season, let laughter resound,  \n",
      "For in the beauty of fall, joy can be found.  \n",
      "---------- TextMessage (buyer) ----------\n",
      "That’s a lovely poem about fall! Now, speaking of the season, I’m looking to buy some fresh vegetables for my kitchen. Can you tell me the prices for the following items: pumpkins, apples, and any seasonal greens you have?\n",
      "---------- TextMessage (vendor) ----------\n",
      "Sure! Here are the prices for the fresh vegetables and fruits:\n",
      "\n",
      "- Pumpkins: ₹40 per kg\n",
      "- Apples: ₹100 per kg\n",
      "- Seasonal greens (like spinach and fenugreek): ₹30 per bunch\n",
      "\n",
      "Let me know how much you'd like to buy! THANK YOU\n"
     ]
    },
    {
     "data": {
      "text/plain": [
       "TaskResult(messages=[TextMessage(id='53aafb3d-e797-46bc-abe3-6f5ff08725fc', source='user', models_usage=None, metadata={}, created_at=datetime.datetime(2025, 9, 20, 7, 16, 20, 87382, tzinfo=datetime.timezone.utc), content='Write a short poem about the fall season.', type='TextMessage'), TextMessage(id='6c2d929c-adea-4cab-ade7-b3b1f809ccac', source='vendor', models_usage=RequestUsage(prompt_tokens=43, completion_tokens=134), metadata={}, created_at=datetime.datetime(2025, 9, 20, 7, 16, 23, 31683, tzinfo=datetime.timezone.utc), content=\"In the season of fall, the leaves gently sway,  \\nA tapestry of colors in a grand display.  \\nGolden and crimson, they dance in the breeze,  \\nWhispers of autumn rustle through the trees.  \\n\\nThe air turns crisp, and the days grow short,  \\nHarvest time comes, a joyful report.  \\nPumpkins and apples, so ripe and so sweet,  \\nNature's embrace, a cozy retreat.  \\n\\nAs the sun dips low and the nights grow long,  \\nWe gather around, where hearts feel strong.  \\nIn the warmth of the season, let laughter resound,  \\nFor in the beauty of fall, joy can be found.  \", type='TextMessage'), TextMessage(id='d76002de-970a-4990-891d-f05a01596f8d', source='buyer', models_usage=RequestUsage(prompt_tokens=188, completion_tokens=49), metadata={}, created_at=datetime.datetime(2025, 9, 20, 7, 16, 24, 739400, tzinfo=datetime.timezone.utc), content='That’s a lovely poem about fall! Now, speaking of the season, I’m looking to buy some fresh vegetables for my kitchen. Can you tell me the prices for the following items: pumpkins, apples, and any seasonal greens you have?', type='TextMessage'), TextMessage(id='7bca64a1-5c3a-4092-8324-a93b8f0034fd', source='vendor', models_usage=RequestUsage(prompt_tokens=236, completion_tokens=58), metadata={}, created_at=datetime.datetime(2025, 9, 20, 7, 16, 26, 682425, tzinfo=datetime.timezone.utc), content=\"Sure! Here are the prices for the fresh vegetables and fruits:\\n\\n- Pumpkins: ₹40 per kg\\n- Apples: ₹100 per kg\\n- Seasonal greens (like spinach and fenugreek): ₹30 per bunch\\n\\nLet me know how much you'd like to buy! THANK YOU\", type='TextMessage')], stop_reason=\"External termination requested, Text 'THANK YOU' mentioned\")"
      ]
     },
     "execution_count": 40,
     "metadata": {},
     "output_type": "execute_result"
    }
   ],
   "source": [
    "# Create a new team with an external termination condition.\n",
    "external_termination = ExternalTermination()\n",
    "team = RoundRobinGroupChat([vendor_agent, buyer_agent], termination_condition=external_termination | text_termination)\n",
    "\n",
    "# Run the team in a background task.\n",
    "run = asyncio.create_task(Console(team.run_stream(task=\"Write a short poem about the fall season.\")))\n",
    "\n",
    "# Wait for some time.\n",
    "await asyncio.sleep(5)\n",
    "\n",
    "# Stop the team.\n",
    "external_termination.set()\n",
    "\n",
    "# Wait for the team to finish.\n",
    "await run"
   ]
  },
  {
   "cell_type": "markdown",
   "id": "eaecb57e-4bb5-406e-a548-fa3d4b13ad21",
   "metadata": {},
   "source": [
    "**Note what the bot did, on detecting external termination - the team put in the THANK YOU value itself so that the process exits using TextTermination itself.**\n",
    "\n",
    "continue from resuming the team"
   ]
  },
  {
   "cell_type": "code",
   "execution_count": null,
   "id": "09876743-6187-44ee-b4f1-961a5444e2e8",
   "metadata": {},
   "outputs": [],
   "source": []
  }
 ],
 "metadata": {
  "kernelspec": {
   "display_name": "Python 3 (ipykernel)",
   "language": "python",
   "name": "python3"
  },
  "language_info": {
   "codemirror_mode": {
    "name": "ipython",
    "version": 3
   },
   "file_extension": ".py",
   "mimetype": "text/x-python",
   "name": "python",
   "nbconvert_exporter": "python",
   "pygments_lexer": "ipython3",
   "version": "3.13.3"
  }
 },
 "nbformat": 4,
 "nbformat_minor": 5
}
