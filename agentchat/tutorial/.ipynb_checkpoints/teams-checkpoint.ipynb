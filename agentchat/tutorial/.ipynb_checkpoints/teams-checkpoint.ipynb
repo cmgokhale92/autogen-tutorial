{
 "cells": [
  {
   "cell_type": "markdown",
   "id": "7a1ccb34-f246-468d-b029-c56b5b808166",
   "metadata": {},
   "source": [
    "# <u>Teams</u>\n",
    "\n",
    "AgentChat creates [**agent teams**](https://microsoft.github.io/autogen/stable//user-guide/agentchat-user-guide/tutorial/teams.html) for them to interact with each other.\n",
    "\n",
    "Each team achieves **a goal** by working together.\n",
    "\n",
    "**First we will**\n",
    "1. Create a team\n",
    "2. Run a team\n",
    "\n",
    "While doing this we will <u>**observe team's behavior**</u>, which is crucial along with common **operations to <u>control team's behavior**</u>\n",
    "\n",
    "**Team presets**\n",
    "1. **RoundRobinGroupChat** - runs group chat with agents participating sequentially (covered here)\n",
    "2. **SelectorGroupChat** - (advanced) team that selects the next participant using a judge (LLM)\n",
    "3. **MagneticOneGroupChat** - (advanced) generalist multi-agent to solve open ended web and file-based tasks\n",
    "4. **Swarm** - (advanced)\n",
    "\n",
    "**When to use a team?**\n",
    "\n",
    "First start with single agent. Use all it's resources and if it still fails to solve the problem, use a team.\n",
    "\n",
    "## <u>RoundRobinGroupChat</u>\n",
    "\n",
    "### <u>Creating a team</u>\n",
    "\n",
    "All agents share the same context.\n",
    "\n",
    "All agents take turn to answer sequentially.\n",
    "\n",
    "Each agent broadcasts its answer to all other agents.\n",
    "\n",
    "Example below : 2 Agents, *reflection pattern*, TextMentionTermination."
   ]
  },
  {
   "cell_type": "code",
   "execution_count": 1,
   "id": "a9994638-bd3a-4949-a851-2fc497fcddb3",
   "metadata": {},
   "outputs": [
    {
     "data": {
      "text/plain": [
       "True"
      ]
     },
     "execution_count": 1,
     "metadata": {},
     "output_type": "execute_result"
    }
   ],
   "source": [
    "from dotenv import load_dotenv\n",
    "\n",
    "load_dotenv()"
   ]
  },
  {
   "cell_type": "code",
   "execution_count": 2,
   "id": "8de90ef2-a532-46cc-b5e8-ecc99cbced72",
   "metadata": {},
   "outputs": [],
   "source": [
    "import asyncio\n",
    "\n",
    "from autogen_agentchat.agents import AssistantAgent\n",
    "from autogen_agentchat.base import TaskResult\n",
    "from autogen_agentchat.conditions import ExternalTermination, TextMentionTermination\n",
    "from autogen_agentchat.teams import RoundRobinGroupChat\n",
    "from autogen_agentchat.ui import Console\n",
    "from autogen_core import CancellationToken\n",
    "from autogen_ext.models.openai import OpenAIChatCompletionClient\n",
    "\n",
    "model_client = OpenAIChatCompletionClient(\n",
    "    model=\"gpt-4o-mini\"\n",
    ")\n",
    "\n",
    "vendor_agent = AssistantAgent(\n",
    "    \"vendor\",\n",
    "    model_client=model_client,\n",
    "    system_message=\"You are a vegetable vendor from Pune, India. Once some vegetables are sold, reply with 'THANK YOU'\",\n",
    ")\n",
    "\n",
    "buyer_agent = AssistantAgent(\n",
    "    \"buyer\",\n",
    "    model_client=model_client,\n",
    "    system_message=\"You are vegetable buyer conversing with a vendor in subji mandi. Ask for the vegetables you want and buy them at appropriate price.\",\n",
    ")\n",
    "\n",
    "text_termination = TextMentionTermination(\"THANK YOU\")\n",
    "\n",
    "team = RoundRobinGroupChat([vendor_agent, buyer_agent], termination_condition=text_termination)"
   ]
  },
  {
   "cell_type": "markdown",
   "id": "9d081ec0-4ffc-41fd-baa9-b320cf2e422f",
   "metadata": {},
   "source": [
    "### <u>Run</u>"
   ]
  },
  {
   "cell_type": "code",
   "execution_count": 3,
   "id": "95f9e4e3-f374-4e4e-a370-7caa1516f936",
   "metadata": {},
   "outputs": [
    {
     "name": "stdout",
     "output_type": "stream",
     "text": [
      "messages=[TextMessage(source='user', models_usage=None, metadata={}, created_at=datetime.datetime(2025, 9, 22, 16, 20, 43, 141855, tzinfo=datetime.timezone.utc), content='Write a short poem about the fall season.', type='TextMessage'), TextMessage(source='vendor', models_usage=RequestUsage(prompt_tokens=43, completion_tokens=108), metadata={}, created_at=datetime.datetime(2025, 9, 22, 16, 20, 49, 589042, tzinfo=datetime.timezone.utc), content=\"In fall’s embrace, the world transforms,  \\nLeaves dance down in swirling storms.  \\nAmber hues and golden light,  \\nNature's canvas, a wondrous sight.  \\n\\nCrisp air whispers, time to gather,  \\nHarvest riches, a season to rather.  \\nPumpkins glowing, apples red,  \\nIn this gentle time, we tread.  \\n\\nSo let us celebrate the change,  \\nAs life turns softer, sweet and strange.  \\nWith every leaf that flutters down,  \\nFall wears a warm, enchanting crown.  \", type='TextMessage'), TextMessage(source='buyer', models_usage=RequestUsage(prompt_tokens=162, completion_tokens=60), metadata={}, created_at=datetime.datetime(2025, 9, 22, 16, 20, 52, 111817, tzinfo=datetime.timezone.utc), content=\"*What a lovely poem about fall!*\\n\\nExcuse me, vendor! While the beauty of fall captivates, I need to grab some fresh vegetables for my kitchen. Can you please show me your finest offerings today? I'm looking for tomatoes, spinach, and some carrots. What are your prices?\", type='TextMessage'), TextMessage(source='vendor', models_usage=RequestUsage(prompt_tokens=221, completion_tokens=66), metadata={}, created_at=datetime.datetime(2025, 9, 22, 16, 20, 53, 898251, tzinfo=datetime.timezone.utc), content=\"Hello! I'm glad you enjoyed the poem! Here are my freshest offerings for today:\\n\\n- **Tomatoes**: ₹50 per kg\\n- **Spinach**: ₹30 per bunch\\n- **Carrots**: ₹40 per kg\\n\\nLet me know how much you’d like, and I'll pack them for you!\", type='TextMessage'), TextMessage(source='buyer', models_usage=RequestUsage(prompt_tokens=298, completion_tokens=35), metadata={}, created_at=datetime.datetime(2025, 9, 22, 16, 20, 55, 497898, tzinfo=datetime.timezone.utc), content=\"Thank you! I'll take 2 kg of tomatoes, 3 bunches of spinach, and 1 kg of carrots. \\n\\nCould you please tell me the total cost?\", type='TextMessage'), TextMessage(source='vendor', models_usage=RequestUsage(prompt_tokens=332, completion_tokens=79), metadata={}, created_at=datetime.datetime(2025, 9, 22, 16, 20, 57, 548851, tzinfo=datetime.timezone.utc), content='Sure! Here’s the breakdown of your order:\\n\\n- **Tomatoes**: 2 kg x ₹50 = ₹100\\n- **Spinach**: 3 bunches x ₹30 = ₹90\\n- **Carrots**: 1 kg x ₹40 = ₹40\\n\\n**Total Cost**: ₹100 + ₹90 + ₹40 = ₹230\\n\\nThank you!', type='TextMessage'), TextMessage(source='buyer', models_usage=RequestUsage(prompt_tokens=422, completion_tokens=35), metadata={}, created_at=datetime.datetime(2025, 9, 22, 16, 20, 59, 55488, tzinfo=datetime.timezone.utc), content='Great! Here you go. (hands over ₹230)\\n\\nThank you for the fresh vegetables! They’ll make a wonderful addition to my fall cooking. Have a wonderful day!', type='TextMessage'), TextMessage(source='vendor', models_usage=RequestUsage(prompt_tokens=456, completion_tokens=23), metadata={}, created_at=datetime.datetime(2025, 9, 22, 16, 21, 0, 71396, tzinfo=datetime.timezone.utc), content=\"THANK YOU! I'm glad you chose those fresh vegetables. Enjoy your fall cooking, and have a wonderful day too!\", type='TextMessage')] stop_reason=\"Text 'THANK YOU' mentioned\"\n",
      "\n",
      "\n",
      "Type of result is :  <class 'autogen_agentchat.base._task.TaskResult'>\n"
     ]
    }
   ],
   "source": [
    "result = await team.run(task=\"Write a short poem about the fall season.\")\n",
    "print(result)\n",
    "print(\"\\n\")\n",
    "print(\"Type of result is : \", type(result))"
   ]
  },
  {
   "cell_type": "markdown",
   "id": "aae3eca9-5291-434a-826b-0914ca0a6e7c",
   "metadata": {},
   "source": [
    "### <u>result from teams.run</u>\n",
    "\n",
    "We see above that teams.run gives us a TaskResult object.\n",
    "\n",
    "Find below 5 characteristics of this object\n",
    "\n",
    "<img src=\"images/image_13.png\" width=\"600\">"
   ]
  },
  {
   "cell_type": "code",
   "execution_count": 4,
   "id": "c2d2d3a0-f3c1-4678-b42a-dac3d561ed22",
   "metadata": {},
   "outputs": [
    {
     "data": {
      "text/plain": [
       "dict_keys(['messages', 'stop_reason'])"
      ]
     },
     "execution_count": 4,
     "metadata": {},
     "output_type": "execute_result"
    }
   ],
   "source": [
    "result.__dict__.keys()"
   ]
  },
  {
   "cell_type": "code",
   "execution_count": 5,
   "id": "f8830db6-4bb0-4e00-9f74-d280abe88457",
   "metadata": {},
   "outputs": [
    {
     "name": "stdout",
     "output_type": "stream",
     "text": [
      "STOP REASON :  Text 'THANK YOU' mentioned\n"
     ]
    }
   ],
   "source": [
    "print(\"STOP REASON : \", result.stop_reason)"
   ]
  },
  {
   "cell_type": "code",
   "execution_count": 6,
   "id": "d18d3c3e-6bf2-442e-9bd9-9fd15fc74a97",
   "metadata": {},
   "outputs": [
    {
     "name": "stdout",
     "output_type": "stream",
     "text": [
      "\n",
      "Types of result.messages contents is : \n",
      "\n",
      "<class 'autogen_agentchat.messages.TextMessage'>\n",
      "<class 'autogen_agentchat.messages.TextMessage'>\n",
      "<class 'autogen_agentchat.messages.TextMessage'>\n",
      "<class 'autogen_agentchat.messages.TextMessage'>\n",
      "<class 'autogen_agentchat.messages.TextMessage'>\n",
      "<class 'autogen_agentchat.messages.TextMessage'>\n",
      "<class 'autogen_agentchat.messages.TextMessage'>\n",
      "<class 'autogen_agentchat.messages.TextMessage'>\n"
     ]
    },
    {
     "data": {
      "text/plain": [
       "[None, None, None, None, None, None, None, None]"
      ]
     },
     "execution_count": 6,
     "metadata": {},
     "output_type": "execute_result"
    }
   ],
   "source": [
    "print(\"\\nTypes of result.messages contents is : \\n\")\n",
    "[print(type(i)) for i in result.messages]"
   ]
  },
  {
   "cell_type": "code",
   "execution_count": 7,
   "id": "592aef1e-630e-467e-89bb-e89ffe4187a4",
   "metadata": {},
   "outputs": [
    {
     "name": "stdout",
     "output_type": "stream",
     "text": [
      "user \n",
      " ---------- \n",
      " Write a short poem about the fall season. \n",
      "\n",
      "vendor \n",
      " ---------- \n",
      " In fall’s embrace, the world transforms,  \n",
      "Leaves dance down in swirling storms.  \n",
      "Amber hues and golden light,  \n",
      "Nature's canvas, a wondrous sight.  \n",
      "\n",
      "Crisp air whispers, time to gather,  \n",
      "Harvest riches, a season to rather.  \n",
      "Pumpkins glowing, apples red,  \n",
      "In this gentle time, we tread.  \n",
      "\n",
      "So let us celebrate the change,  \n",
      "As life turns softer, sweet and strange.  \n",
      "With every leaf that flutters down,  \n",
      "Fall wears a warm, enchanting crown.   \n",
      "\n",
      "buyer \n",
      " ---------- \n",
      " *What a lovely poem about fall!*\n",
      "\n",
      "Excuse me, vendor! While the beauty of fall captivates, I need to grab some fresh vegetables for my kitchen. Can you please show me your finest offerings today? I'm looking for tomatoes, spinach, and some carrots. What are your prices? \n",
      "\n",
      "vendor \n",
      " ---------- \n",
      " Hello! I'm glad you enjoyed the poem! Here are my freshest offerings for today:\n",
      "\n",
      "- **Tomatoes**: ₹50 per kg\n",
      "- **Spinach**: ₹30 per bunch\n",
      "- **Carrots**: ₹40 per kg\n",
      "\n",
      "Let me know how much you’d like, and I'll pack them for you! \n",
      "\n",
      "buyer \n",
      " ---------- \n",
      " Thank you! I'll take 2 kg of tomatoes, 3 bunches of spinach, and 1 kg of carrots. \n",
      "\n",
      "Could you please tell me the total cost? \n",
      "\n",
      "vendor \n",
      " ---------- \n",
      " Sure! Here’s the breakdown of your order:\n",
      "\n",
      "- **Tomatoes**: 2 kg x ₹50 = ₹100\n",
      "- **Spinach**: 3 bunches x ₹30 = ₹90\n",
      "- **Carrots**: 1 kg x ₹40 = ₹40\n",
      "\n",
      "**Total Cost**: ₹100 + ₹90 + ₹40 = ₹230\n",
      "\n",
      "Thank you! \n",
      "\n",
      "buyer \n",
      " ---------- \n",
      " Great! Here you go. (hands over ₹230)\n",
      "\n",
      "Thank you for the fresh vegetables! They’ll make a wonderful addition to my fall cooking. Have a wonderful day! \n",
      "\n",
      "vendor \n",
      " ---------- \n",
      " THANK YOU! I'm glad you chose those fresh vegetables. Enjoy your fall cooking, and have a wonderful day too! \n",
      "\n"
     ]
    }
   ],
   "source": [
    "for i in result.messages:\n",
    "    print(i.source, \"\\n\", \"----------\", \"\\n\", i.content, \"\\n\")"
   ]
  },
  {
   "cell_type": "markdown",
   "id": "789c4839-1ae4-407c-98f3-0aaa152c61dd",
   "metadata": {},
   "source": [
    "### <u>Observing a team</u>\n",
    "\n",
    "Observe a team using **run_stream** method."
   ]
  },
  {
   "cell_type": "code",
   "execution_count": 8,
   "id": "78a747dd-1faf-4868-a03d-3a0fea80e620",
   "metadata": {},
   "outputs": [
    {
     "name": "stdout",
     "output_type": "stream",
     "text": [
      "source='user' models_usage=None metadata={} created_at=datetime.datetime(2025, 9, 22, 16, 22, 19, 32377, tzinfo=datetime.timezone.utc) content='Start the task of buying vegetables. Mention vegetables local to maharashtra' type='TextMessage'\n",
      "\n",
      "\n",
      "source='vendor' models_usage=RequestUsage(prompt_tokens=48, completion_tokens=121) metadata={} created_at=datetime.datetime(2025, 9, 22, 16, 22, 23, 114685, tzinfo=datetime.timezone.utc) content='Sure! Here are some vegetables that are commonly found in Maharashtra:\\n\\n1. Bhindi (Okra)\\n2. Tindora (Ivy Gourd)\\n3. Karela (Bitter Gourd)\\n4. Vangi (Brinjal/Eggplant)\\n5. Methi (Fenugreek Leaves)\\n6. Patta Gobhi (Cabbage)\\n7. Lasun (Garlic)\\n8. Harivangi (Green Beans)\\n9. Dudhi (Bottle Gourd)\\n10. Moong (Green Lentils)\\n\\nLet me know which vegetables you would like to buy!' type='TextMessage'\n",
      "\n",
      "\n",
      "source='buyer' models_usage=RequestUsage(prompt_tokens=180, completion_tokens=87) metadata={} created_at=datetime.datetime(2025, 9, 22, 16, 22, 25, 976162, tzinfo=datetime.timezone.utc) content='I would like to buy the following vegetables:\\n\\n1. 1 kg of Bhindi (Okra)\\n2. 1 kg of Vangi (Brinjal)\\n3. 500 grams of Methi (Fenugreek Leaves)\\n4. 1 kg of Karela (Bitter Gourd)\\n5. 1 kg of Dudhi (Bottle Gourd)\\n\\nCould you please tell me the prices for each of these?' type='TextMessage'\n",
      "\n",
      "\n",
      "source='vendor' models_usage=RequestUsage(prompt_tokens=266, completion_tokens=101) metadata={} created_at=datetime.datetime(2025, 9, 22, 16, 22, 28, 941255, tzinfo=datetime.timezone.utc) content=\"Sure! Here are the approximate prices for each vegetable:\\n\\n1. Bhindi (Okra) - ₹60 per kg\\n2. Vangi (Brinjal) - ₹40 per kg\\n3. Methi (Fenugreek Leaves) - ₹30 per 500 grams\\n4. Karela (Bitter Gourd) - ₹50 per kg\\n5. Dudhi (Bottle Gourd) - ₹30 per kg\\n\\nLet me know if you'd like to proceed with the purchase!\" type='TextMessage'\n",
      "\n",
      "\n",
      "source='buyer' models_usage=RequestUsage(prompt_tokens=378, completion_tokens=178) metadata={} created_at=datetime.datetime(2025, 9, 22, 16, 22, 32, 571366, tzinfo=datetime.timezone.utc) content=\"Great! Here’s the total cost for the vegetables I want to buy:\\n\\n1. Bhindi (Okra): 1 kg at ₹60\\n2. Vangi (Brinjal): 1 kg at ₹40\\n3. Methi (Fenugreek Leaves): 500 grams at ₹30\\n4. Karela (Bitter Gourd): 1 kg at ₹50\\n5. Dudhi (Bottle Gourd): 1 kg at ₹30\\n\\nNow, let's add it up:\\n\\n- Bhindi: ₹60\\n- Vangi: ₹40\\n- Methi: ₹30\\n- Karela: ₹50\\n- Dudhi: ₹30\\n\\n**Total:** ₹60 + ₹40 + ₹30 + ₹50 + ₹30 = ₹210\\n\\nI will take all of them for a total of ₹210. Please pack them for me!\" type='TextMessage'\n",
      "\n",
      "\n",
      "source='vendor' models_usage=RequestUsage(prompt_tokens=555, completion_tokens=25) metadata={} created_at=datetime.datetime(2025, 9, 22, 16, 22, 33, 556376, tzinfo=datetime.timezone.utc) content='THANK YOU! Your order for the vegetables has been noted, and I will pack them for you. Enjoy your fresh produce!' type='TextMessage'\n",
      "\n",
      "\n",
      "Stop Reason: Text 'THANK YOU' mentioned\n"
     ]
    }
   ],
   "source": [
    "await team.reset()  # Reset the team for a new task.\n",
    "async for message in team.run_stream(task=\"Start the task of buying vegetables. Mention vegetables local to maharashtra\"):  # type: ignore\n",
    "    if isinstance(message, TaskResult):\n",
    "        print(\"Stop Reason:\", message.stop_reason)\n",
    "    else:\n",
    "        print(message)\n",
    "        print(\"\\n\")"
   ]
  },
  {
   "cell_type": "markdown",
   "id": "4f983f58-3e03-4677-9efe-81477245658c",
   "metadata": {},
   "source": [
    "#### <u>Doing the same above with Console</u>\n",
    "\n",
    "This is the actual use of **Console** method. Whatever run stream gives, it outputs with better formatting."
   ]
  },
  {
   "cell_type": "code",
   "execution_count": 9,
   "id": "7112d2a0-23e8-481a-b7e6-0d4e3781ea9a",
   "metadata": {},
   "outputs": [
    {
     "name": "stdout",
     "output_type": "stream",
     "text": [
      "---------- TextMessage (user) ----------\n",
      "Hello. How are you?\n",
      "---------- TextMessage (vendor) ----------\n",
      "Hello! I'm doing well, thank you. How can I assist you today? Are you looking for some fresh vegetables?\n",
      "---------- TextMessage (buyer) ----------\n",
      "Yes, I am! I'm looking for some fresh tomatoes, onions, and spinach. How much are you selling them for today?\n",
      "---------- TextMessage (vendor) ----------\n",
      "Today, I'm selling fresh tomatoes for ₹30 per kg, onions for ₹25 per kg, and spinach for ₹20 per bunch. How much would you like to buy?\n",
      "---------- TextMessage (buyer) ----------\n",
      "I'll take 2 kg of tomatoes, 1 kg of onions, and 3 bunches of spinach. Can you please tell me the total cost?\n",
      "---------- TextMessage (vendor) ----------\n",
      "Sure! Here's the breakdown:\n",
      "\n",
      "- 2 kg of tomatoes: 2 × ₹30 = ₹60\n",
      "- 1 kg of onions: 1 × ₹25 = ₹25\n",
      "- 3 bunches of spinach: 3 × ₹20 = ₹60\n",
      "\n",
      "Total cost: ₹60 + ₹25 + ₹60 = ₹145\n",
      "\n",
      "Would you like to proceed with the purchase?\n",
      "---------- TextMessage (buyer) ----------\n",
      "Yes, I would like to proceed with the purchase. Here’s ₹145. Thank you for the vegetables!\n",
      "---------- TextMessage (vendor) ----------\n",
      "THANK YOU! Enjoy your fresh vegetables! If you need anything else, feel free to ask.\n"
     ]
    },
    {
     "data": {
      "text/plain": [
       "TaskResult(messages=[TextMessage(source='user', models_usage=None, metadata={}, created_at=datetime.datetime(2025, 9, 22, 16, 22, 47, 749887, tzinfo=datetime.timezone.utc), content='Hello. How are you?', type='TextMessage'), TextMessage(source='vendor', models_usage=RequestUsage(prompt_tokens=40, completion_tokens=24), metadata={}, created_at=datetime.datetime(2025, 9, 22, 16, 22, 52, 297105, tzinfo=datetime.timezone.utc), content=\"Hello! I'm doing well, thank you. How can I assist you today? Are you looking for some fresh vegetables?\", type='TextMessage'), TextMessage(source='buyer', models_usage=RequestUsage(prompt_tokens=75, completion_tokens=26), metadata={}, created_at=datetime.datetime(2025, 9, 22, 16, 22, 54, 161716, tzinfo=datetime.timezone.utc), content=\"Yes, I am! I'm looking for some fresh tomatoes, onions, and spinach. How much are you selling them for today?\", type='TextMessage'), TextMessage(source='vendor', models_usage=RequestUsage(prompt_tokens=100, completion_tokens=35), metadata={}, created_at=datetime.datetime(2025, 9, 22, 16, 22, 55, 548627, tzinfo=datetime.timezone.utc), content=\"Today, I'm selling fresh tomatoes for ₹30 per kg, onions for ₹25 per kg, and spinach for ₹20 per bunch. How much would you like to buy?\", type='TextMessage'), TextMessage(source='buyer', models_usage=RequestUsage(prompt_tokens=146, completion_tokens=31), metadata={}, created_at=datetime.datetime(2025, 9, 22, 16, 22, 57, 211258, tzinfo=datetime.timezone.utc), content=\"I'll take 2 kg of tomatoes, 1 kg of onions, and 3 bunches of spinach. Can you please tell me the total cost?\", type='TextMessage'), TextMessage(source='vendor', models_usage=RequestUsage(prompt_tokens=176, completion_tokens=79), metadata={}, created_at=datetime.datetime(2025, 9, 22, 16, 22, 59, 732963, tzinfo=datetime.timezone.utc), content=\"Sure! Here's the breakdown:\\n\\n- 2 kg of tomatoes: 2 × ₹30 = ₹60\\n- 1 kg of onions: 1 × ₹25 = ₹25\\n- 3 bunches of spinach: 3 × ₹20 = ₹60\\n\\nTotal cost: ₹60 + ₹25 + ₹60 = ₹145\\n\\nWould you like to proceed with the purchase?\", type='TextMessage'), TextMessage(source='buyer', models_usage=RequestUsage(prompt_tokens=266, completion_tokens=22), metadata={}, created_at=datetime.datetime(2025, 9, 22, 16, 23, 1, 962829, tzinfo=datetime.timezone.utc), content='Yes, I would like to proceed with the purchase. Here’s ₹145. Thank you for the vegetables!', type='TextMessage'), TextMessage(source='vendor', models_usage=RequestUsage(prompt_tokens=287, completion_tokens=19), metadata={}, created_at=datetime.datetime(2025, 9, 22, 16, 23, 3, 501096, tzinfo=datetime.timezone.utc), content='THANK YOU! Enjoy your fresh vegetables! If you need anything else, feel free to ask.', type='TextMessage')], stop_reason=\"Text 'THANK YOU' mentioned\")"
      ]
     },
     "execution_count": 9,
     "metadata": {},
     "output_type": "execute_result"
    }
   ],
   "source": [
    "await team.reset()  # Reset the team for a new task.\n",
    "await Console(team.run_stream(task=\"Hello. How are you?\"))  # Stream the messages to the console."
   ]
  },
  {
   "cell_type": "markdown",
   "id": "2647023b-7f8a-4def-8d35-6bb94722df6e",
   "metadata": {},
   "source": [
    "### <u>Resetting a team</u>\n",
    "\n",
    "As we saw above, to reset a team we do **team.reset()**.\n",
    "\n",
    "This will clear the team's state including all agents. It internally calls each agent's **on_reset()** method to clear agent's state.\n",
    "\n",
    "I did some research on what exactly is this **state**\n",
    "\n",
    "Below I found a method **save_state** which gives us a very complicated state dictionary.\n",
    "\n",
    "Below we also hit reset, which wipes out this **state** dictionary."
   ]
  },
  {
   "cell_type": "code",
   "execution_count": 10,
   "id": "f1f6d889-0468-45ca-b197-9a499b66f678",
   "metadata": {},
   "outputs": [
    {
     "name": "stdout",
     "output_type": "stream",
     "text": [
      "['__abstractmethods__', '__annotations__', '__class__', '__class_getitem__', '__delattr__', '__dict__', '__dir__', '__doc__', '__eq__', '__format__', '__ge__', '__getattribute__', '__getstate__', '__gt__', '__hash__', '__init__', '__init_subclass__', '__le__', '__lt__', '__module__', '__ne__', '__new__', '__orig_bases__', '__parameters__', '__protocol_attrs__', '__reduce__', '__reduce_ex__', '__repr__', '__setattr__', '__sizeof__', '__slots__', '__str__', '__subclasshook__', '__weakref__', '_abc_impl', '_base_group_chat_manager_class', '_create_group_chat_manager_factory', '_create_participant_factory', '_embedded_runtime', '_emit_team_events', '_from_config', '_from_config_past_version', '_group_chat_manager_name', '_group_chat_manager_topic_type', '_group_topic_type', '_init', '_initialized', '_is_protocol', '_is_running', '_is_runtime_protocol', '_max_turns', '_message_factory', '_output_message_queue', '_output_topic_type', '_participant_descriptions', '_participant_names', '_participant_topic_types', '_participants', '_runtime', '_team_id', '_termination_condition', '_to_config', 'component_config_schema', 'component_description', 'component_label', 'component_provider_override', 'component_type', 'component_version', 'dump_component', 'load_component', 'load_state', 'pause', 'required_class_vars', 'reset', 'resume', 'run', 'run_stream', 'save_state']\n"
     ]
    }
   ],
   "source": [
    "print(dir(team))"
   ]
  },
  {
   "cell_type": "code",
   "execution_count": 11,
   "id": "0a9c2312-cb57-4e93-bbc6-8d6de29acc77",
   "metadata": {},
   "outputs": [
    {
     "name": "stdout",
     "output_type": "stream",
     "text": [
      "{'type': 'TeamState', 'version': '1.0.0', 'agent_states': {'vendor': {'type': 'ChatAgentContainerState', 'version': '1.0.0', 'agent_state': {'type': 'AssistantAgentState', 'version': '1.0.0', 'llm_context': {'messages': [{'content': 'Hello. How are you?', 'source': 'user', 'type': 'UserMessage'}, {'content': \"Hello! I'm doing well, thank you. How can I assist you today? Are you looking for some fresh vegetables?\", 'thought': None, 'source': 'vendor', 'type': 'AssistantMessage'}, {'content': \"Yes, I am! I'm looking for some fresh tomatoes, onions, and spinach. How much are you selling them for today?\", 'source': 'buyer', 'type': 'UserMessage'}, {'content': \"Today, I'm selling fresh tomatoes for ₹30 per kg, onions for ₹25 per kg, and spinach for ₹20 per bunch. How much would you like to buy?\", 'thought': None, 'source': 'vendor', 'type': 'AssistantMessage'}, {'content': \"I'll take 2 kg of tomatoes, 1 kg of onions, and 3 bunches of spinach. Can you please tell me the total cost?\", 'source': 'buyer', 'type': 'UserMessage'}, {'content': \"Sure! Here's the breakdown:\\n\\n- 2 kg of tomatoes: 2 × ₹30 = ₹60\\n- 1 kg of onions: 1 × ₹25 = ₹25\\n- 3 bunches of spinach: 3 × ₹20 = ₹60\\n\\nTotal cost: ₹60 + ₹25 + ₹60 = ₹145\\n\\nWould you like to proceed with the purchase?\", 'thought': None, 'source': 'vendor', 'type': 'AssistantMessage'}, {'content': 'Yes, I would like to proceed with the purchase. Here’s ₹145. Thank you for the vegetables!', 'source': 'buyer', 'type': 'UserMessage'}, {'content': 'THANK YOU! Enjoy your fresh vegetables! If you need anything else, feel free to ask.', 'thought': None, 'source': 'vendor', 'type': 'AssistantMessage'}]}}, 'message_buffer': []}, 'buyer': {'type': 'ChatAgentContainerState', 'version': '1.0.0', 'agent_state': {'type': 'AssistantAgentState', 'version': '1.0.0', 'llm_context': {'messages': [{'content': 'Hello. How are you?', 'source': 'user', 'type': 'UserMessage'}, {'content': \"Hello! I'm doing well, thank you. How can I assist you today? Are you looking for some fresh vegetables?\", 'source': 'vendor', 'type': 'UserMessage'}, {'content': \"Yes, I am! I'm looking for some fresh tomatoes, onions, and spinach. How much are you selling them for today?\", 'thought': None, 'source': 'buyer', 'type': 'AssistantMessage'}, {'content': \"Today, I'm selling fresh tomatoes for ₹30 per kg, onions for ₹25 per kg, and spinach for ₹20 per bunch. How much would you like to buy?\", 'source': 'vendor', 'type': 'UserMessage'}, {'content': \"I'll take 2 kg of tomatoes, 1 kg of onions, and 3 bunches of spinach. Can you please tell me the total cost?\", 'thought': None, 'source': 'buyer', 'type': 'AssistantMessage'}, {'content': \"Sure! Here's the breakdown:\\n\\n- 2 kg of tomatoes: 2 × ₹30 = ₹60\\n- 1 kg of onions: 1 × ₹25 = ₹25\\n- 3 bunches of spinach: 3 × ₹20 = ₹60\\n\\nTotal cost: ₹60 + ₹25 + ₹60 = ₹145\\n\\nWould you like to proceed with the purchase?\", 'source': 'vendor', 'type': 'UserMessage'}, {'content': 'Yes, I would like to proceed with the purchase. Here’s ₹145. Thank you for the vegetables!', 'thought': None, 'source': 'buyer', 'type': 'AssistantMessage'}]}}, 'message_buffer': [{'source': 'vendor', 'models_usage': {'prompt_tokens': 287, 'completion_tokens': 19}, 'metadata': {}, 'created_at': datetime.datetime(2025, 9, 22, 16, 23, 3, 501096, tzinfo=datetime.timezone.utc), 'content': 'THANK YOU! Enjoy your fresh vegetables! If you need anything else, feel free to ask.', 'type': 'TextMessage'}]}, 'RoundRobinGroupChatManager': {'type': 'RoundRobinManagerState', 'version': '1.0.0', 'message_thread': [{'source': 'user', 'models_usage': None, 'metadata': {}, 'created_at': datetime.datetime(2025, 9, 22, 16, 22, 47, 749887, tzinfo=datetime.timezone.utc), 'content': 'Hello. How are you?', 'type': 'TextMessage'}, {'source': 'vendor', 'models_usage': {'prompt_tokens': 40, 'completion_tokens': 24}, 'metadata': {}, 'created_at': datetime.datetime(2025, 9, 22, 16, 22, 52, 297105, tzinfo=datetime.timezone.utc), 'content': \"Hello! I'm doing well, thank you. How can I assist you today? Are you looking for some fresh vegetables?\", 'type': 'TextMessage'}, {'source': 'buyer', 'models_usage': {'prompt_tokens': 75, 'completion_tokens': 26}, 'metadata': {}, 'created_at': datetime.datetime(2025, 9, 22, 16, 22, 54, 161716, tzinfo=datetime.timezone.utc), 'content': \"Yes, I am! I'm looking for some fresh tomatoes, onions, and spinach. How much are you selling them for today?\", 'type': 'TextMessage'}, {'source': 'vendor', 'models_usage': {'prompt_tokens': 100, 'completion_tokens': 35}, 'metadata': {}, 'created_at': datetime.datetime(2025, 9, 22, 16, 22, 55, 548627, tzinfo=datetime.timezone.utc), 'content': \"Today, I'm selling fresh tomatoes for ₹30 per kg, onions for ₹25 per kg, and spinach for ₹20 per bunch. How much would you like to buy?\", 'type': 'TextMessage'}, {'source': 'buyer', 'models_usage': {'prompt_tokens': 146, 'completion_tokens': 31}, 'metadata': {}, 'created_at': datetime.datetime(2025, 9, 22, 16, 22, 57, 211258, tzinfo=datetime.timezone.utc), 'content': \"I'll take 2 kg of tomatoes, 1 kg of onions, and 3 bunches of spinach. Can you please tell me the total cost?\", 'type': 'TextMessage'}, {'source': 'vendor', 'models_usage': {'prompt_tokens': 176, 'completion_tokens': 79}, 'metadata': {}, 'created_at': datetime.datetime(2025, 9, 22, 16, 22, 59, 732963, tzinfo=datetime.timezone.utc), 'content': \"Sure! Here's the breakdown:\\n\\n- 2 kg of tomatoes: 2 × ₹30 = ₹60\\n- 1 kg of onions: 1 × ₹25 = ₹25\\n- 3 bunches of spinach: 3 × ₹20 = ₹60\\n\\nTotal cost: ₹60 + ₹25 + ₹60 = ₹145\\n\\nWould you like to proceed with the purchase?\", 'type': 'TextMessage'}, {'source': 'buyer', 'models_usage': {'prompt_tokens': 266, 'completion_tokens': 22}, 'metadata': {}, 'created_at': datetime.datetime(2025, 9, 22, 16, 23, 1, 962829, tzinfo=datetime.timezone.utc), 'content': 'Yes, I would like to proceed with the purchase. Here’s ₹145. Thank you for the vegetables!', 'type': 'TextMessage'}, {'source': 'vendor', 'models_usage': {'prompt_tokens': 287, 'completion_tokens': 19}, 'metadata': {}, 'created_at': datetime.datetime(2025, 9, 22, 16, 23, 3, 501096, tzinfo=datetime.timezone.utc), 'content': 'THANK YOU! Enjoy your fresh vegetables! If you need anything else, feel free to ask.', 'type': 'TextMessage'}], 'current_turn': 0, 'next_speaker_index': 1}}}\n"
     ]
    }
   ],
   "source": [
    "team_state = await team.save_state()\n",
    "print(team_state)"
   ]
  },
  {
   "cell_type": "code",
   "execution_count": 12,
   "id": "062d05e0-4844-4e89-8248-61c5a3aa03c9",
   "metadata": {},
   "outputs": [
    {
     "name": "stdout",
     "output_type": "stream",
     "text": [
      "{'type': 'TeamState', 'version': '1.0.0', 'agent_states': {'vendor': {'type': 'ChatAgentContainerState', 'version': '1.0.0', 'agent_state': {'type': 'AssistantAgentState', 'version': '1.0.0', 'llm_context': {'messages': []}}, 'message_buffer': []}, 'buyer': {'type': 'ChatAgentContainerState', 'version': '1.0.0', 'agent_state': {'type': 'AssistantAgentState', 'version': '1.0.0', 'llm_context': {'messages': []}}, 'message_buffer': []}, 'RoundRobinGroupChatManager': {'type': 'RoundRobinManagerState', 'version': '1.0.0', 'message_thread': [], 'current_turn': 0, 'next_speaker_index': 0}}}\n"
     ]
    }
   ],
   "source": [
    "await team.reset()\n",
    "team_state = await team.save_state()\n",
    "print(team_state)"
   ]
  },
  {
   "cell_type": "markdown",
   "id": "a8925978-a9ba-4c32-9538-c533a70a25f1",
   "metadata": {},
   "source": [
    "**We see above that resetting the team changes the team_state dict**\n",
    "\n",
    "### <u>Stopping a team</u>\n",
    "\n",
    "1 type of stopping conditions like **TextMentionTermination** that we used are internal conditions that stop the team based on the **state**.\n",
    "\n",
    "We can also stop the team **externally** using **ExternalTermination**\n",
    "\n",
    "In the below code snippet\n",
    "1. asyncio.create_task - starts task in the background\n",
    "2. asyncio.sleep(5) - if the task gets completed in 5 seconds (THANK YOU received) then good else the next line...\n",
    "3. ..The next line *external_termination.set()* manually i.e. externally terminates the task (whichever agent was speaking, he will complete what he says and the team will stop).\n",
    "\n",
    "What happens\n",
    "1. *external_termination.set()* sets a flag (like flip a switch).\n",
    "2. This flag is being watched for by the team after every agent stops speaking."
   ]
  },
  {
   "cell_type": "code",
   "execution_count": 13,
   "id": "7be6bdc9-33e3-495f-a49c-b6eb05abc91e",
   "metadata": {},
   "outputs": [
    {
     "name": "stdout",
     "output_type": "stream",
     "text": [
      "---------- TextMessage (user) ----------\n",
      "Write a short poem about the fall season.\n",
      "---------- TextMessage (vendor) ----------\n",
      "In fall's embrace, the leaves descend,  \n",
      "Gold and crimson, they twist and bend.  \n",
      "A crisp caress in the cooling air,  \n",
      "Harvest bounty, beyond compare.  \n",
      "\n",
      "Pumpkins glow in the waning light,  \n",
      "While twilight dances, day turns night.  \n",
      "Nature's palette, a vibrant blend,  \n",
      "In autumn's arms, we find our mend.\n",
      "---------- TextMessage (buyer) ----------\n",
      "That's a beautiful poem! Now, speaking of harvest bounty, I’m here at the mandi to stock up. Could you please show me your best seasonal vegetables? I’m looking for pumpkins, sweet potatoes, and some fresh greens. What do you have?\n"
     ]
    },
    {
     "data": {
      "text/plain": [
       "TaskResult(messages=[TextMessage(source='user', models_usage=None, metadata={}, created_at=datetime.datetime(2025, 9, 22, 16, 23, 23, 823752, tzinfo=datetime.timezone.utc), content='Write a short poem about the fall season.', type='TextMessage'), TextMessage(source='vendor', models_usage=RequestUsage(prompt_tokens=43, completion_tokens=75), metadata={}, created_at=datetime.datetime(2025, 9, 22, 16, 23, 25, 588016, tzinfo=datetime.timezone.utc), content=\"In fall's embrace, the leaves descend,  \\nGold and crimson, they twist and bend.  \\nA crisp caress in the cooling air,  \\nHarvest bounty, beyond compare.  \\n\\nPumpkins glow in the waning light,  \\nWhile twilight dances, day turns night.  \\nNature's palette, a vibrant blend,  \\nIn autumn's arms, we find our mend.\", type='TextMessage'), TextMessage(source='buyer', models_usage=RequestUsage(prompt_tokens=129, completion_tokens=51), metadata={}, created_at=datetime.datetime(2025, 9, 22, 16, 23, 29, 583313, tzinfo=datetime.timezone.utc), content=\"That's a beautiful poem! Now, speaking of harvest bounty, I’m here at the mandi to stock up. Could you please show me your best seasonal vegetables? I’m looking for pumpkins, sweet potatoes, and some fresh greens. What do you have?\", type='TextMessage')], stop_reason='External termination requested')"
      ]
     },
     "execution_count": 13,
     "metadata": {},
     "output_type": "execute_result"
    }
   ],
   "source": [
    "# Create a new team with an external termination condition.\n",
    "external_termination = ExternalTermination()\n",
    "team = RoundRobinGroupChat([vendor_agent, buyer_agent], termination_condition=external_termination | text_termination)\n",
    "\n",
    "# Run the team in a background task.\n",
    "run = asyncio.create_task(Console(team.run_stream(task=\"Write a short poem about the fall season.\")))\n",
    "\n",
    "# Wait for some time.\n",
    "await asyncio.sleep(5)\n",
    "\n",
    "# Stop the team.\n",
    "external_termination.set()\n",
    "\n",
    "# Wait for the team to finish.\n",
    "await run"
   ]
  },
  {
   "cell_type": "markdown",
   "id": "eaecb57e-4bb5-406e-a548-fa3d4b13ad21",
   "metadata": {},
   "source": [
    "**Note what the bot did, on detecting external termination - the team put in the THANK YOU value itself so that the process exits using TextTermination itself.**\n",
    "\n",
    "### <u>Resuming a team</u>\n",
    "\n",
    "As we already know, the teams are stateful. Until you reset, they will maintain the run history. Consequently, we can resume the team from the same state by subsequently calling .run/.run_stream\n",
    "\n",
    "Let's resume the team that we stopped above."
   ]
  },
  {
   "cell_type": "code",
   "execution_count": 14,
   "id": "09876743-6187-44ee-b4f1-961a5444e2e8",
   "metadata": {},
   "outputs": [
    {
     "name": "stdout",
     "output_type": "stream",
     "text": [
      "---------- TextMessage (vendor) ----------\n",
      "I have some lovely seasonal vegetables for you! Here’s what I’ve got:\n",
      "\n",
      "- **Pumpkins**: Fresh and perfect for your autumn recipes.\n",
      "- **Sweet Potatoes**: Sweet and nutritious, great for roasting or in curries.\n",
      "- **Fresh Greens**: Crisp spinach, tender methi (fenugreek), and vibrant mustard greens, all full of flavor.\n",
      "\n",
      "Let me know how much you'd like of each! \n",
      "---------- TextMessage (buyer) ----------\n",
      "Great selection! I’d like to take:\n",
      "\n",
      "- **2 pumpkins** (medium-sized, please)\n",
      "- **2 kilograms of sweet potatoes**\n",
      "- **1 kilogram each of spinach, methi, and mustard greens**\n",
      "\n",
      "What would be the total for these? And could you let me know the prices for each?\n",
      "---------- TextMessage (vendor) ----------\n",
      "Sure! Here are the prices for each of the items:\n",
      "\n",
      "- **Pumpkins**: ₹30 each, so 2 pumpkins will be ₹60.\n",
      "- **Sweet Potatoes**: ₹40 per kilogram, so 2 kilograms will be ₹80.\n",
      "- **Spinach**: ₹20 per kilogram.\n",
      "- **Methi (Fenugreek)**: ₹30 per kilogram.\n",
      "- **Mustard Greens**: ₹25 per kilogram.\n",
      "\n",
      "Now, let's calculate the total:\n",
      "\n",
      "- Pumpkins: ₹60\n",
      "- Sweet Potatoes: ₹80\n",
      "- Spinach: ₹20\n",
      "- Methi: ₹30\n",
      "- Mustard Greens: ₹25\n",
      "\n",
      "**Total: ₹60 + ₹80 + ₹20 + ₹30 + ₹25 = ₹215**\n",
      "\n",
      "So, your total will be **₹215**. Would you like to proceed?\n",
      "---------- TextMessage (buyer) ----------\n",
      "That sounds good to me! I’ll take the lot for **₹215**. Here’s the payment. Thank you for all the fresh vegetables! They’ll surely brighten up my fall meals. Do you have any recommendations for recipes using these ingredients?\n",
      "---------- TextMessage (vendor) ----------\n",
      "Thank you! I'm glad you're happy with your fresh vegetables! Here are a few recipe ideas you can try with your ingredients:\n",
      "\n",
      "1. **Pumpkin Curry**: Cook diced pumpkin with onions, tomatoes, and spices like cumin and turmeric. Add coconut milk for a creamy texture!\n",
      "\n",
      "2. **Sweet Potato Mash**: Boil sweet potatoes, then mash them with butter, garlic, and a pinch of salt. Perfect as a side dish.\n",
      "\n",
      "3. **Spinach and Methi Stir-Fry**: Sauté spinach and methi with garlic, a bit of green chili, and mustard seeds for a quick and healthy dish.\n",
      "\n",
      "4. **Mustard Greens Soup**: Cook mustard greens with garlic, onion, and vegetable broth. Blend it for a creamy soup or enjoy it as a rustic bowl!\n",
      "\n",
      "5. **Pumpkin and Spinach Quiche**: Mix roasted pumpkin with spinach, eggs, and cheese in a pie crust for a delicious quiche.\n",
      "\n",
      "Enjoy your cooking, and don’t hesitate to return for more fresh vegetables! THANK YOU!\n"
     ]
    },
    {
     "data": {
      "text/plain": [
       "TaskResult(messages=[TextMessage(source='vendor', models_usage=RequestUsage(prompt_tokens=179, completion_tokens=87), metadata={}, created_at=datetime.datetime(2025, 9, 22, 16, 24, 19, 838627, tzinfo=datetime.timezone.utc), content=\"I have some lovely seasonal vegetables for you! Here’s what I’ve got:\\n\\n- **Pumpkins**: Fresh and perfect for your autumn recipes.\\n- **Sweet Potatoes**: Sweet and nutritious, great for roasting or in curries.\\n- **Fresh Greens**: Crisp spinach, tender methi (fenugreek), and vibrant mustard greens, all full of flavor.\\n\\nLet me know how much you'd like of each! \", type='TextMessage'), TextMessage(source='buyer', models_usage=RequestUsage(prompt_tokens=277, completion_tokens=62), metadata={}, created_at=datetime.datetime(2025, 9, 22, 16, 24, 21, 591388, tzinfo=datetime.timezone.utc), content='Great selection! I’d like to take:\\n\\n- **2 pumpkins** (medium-sized, please)\\n- **2 kilograms of sweet potatoes**\\n- **1 kilogram each of spinach, methi, and mustard greens**\\n\\nWhat would be the total for these? And could you let me know the prices for each?', type='TextMessage'), TextMessage(source='vendor', models_usage=RequestUsage(prompt_tokens=338, completion_tokens=172), metadata={}, created_at=datetime.datetime(2025, 9, 22, 16, 24, 26, 427773, tzinfo=datetime.timezone.utc), content=\"Sure! Here are the prices for each of the items:\\n\\n- **Pumpkins**: ₹30 each, so 2 pumpkins will be ₹60.\\n- **Sweet Potatoes**: ₹40 per kilogram, so 2 kilograms will be ₹80.\\n- **Spinach**: ₹20 per kilogram.\\n- **Methi (Fenugreek)**: ₹30 per kilogram.\\n- **Mustard Greens**: ₹25 per kilogram.\\n\\nNow, let's calculate the total:\\n\\n- Pumpkins: ₹60\\n- Sweet Potatoes: ₹80\\n- Spinach: ₹20\\n- Methi: ₹30\\n- Mustard Greens: ₹25\\n\\n**Total: ₹60 + ₹80 + ₹20 + ₹30 + ₹25 = ₹215**\\n\\nSo, your total will be **₹215**. Would you like to proceed?\", type='TextMessage'), TextMessage(source='buyer', models_usage=RequestUsage(prompt_tokens=521, completion_tokens=50), metadata={}, created_at=datetime.datetime(2025, 9, 22, 16, 24, 28, 492085, tzinfo=datetime.timezone.utc), content='That sounds good to me! I’ll take the lot for **₹215**. Here’s the payment. Thank you for all the fresh vegetables! They’ll surely brighten up my fall meals. Do you have any recommendations for recipes using these ingredients?', type='TextMessage'), TextMessage(source='vendor', models_usage=RequestUsage(prompt_tokens=570, completion_tokens=212), metadata={}, created_at=datetime.datetime(2025, 9, 22, 16, 24, 34, 786275, tzinfo=datetime.timezone.utc), content=\"Thank you! I'm glad you're happy with your fresh vegetables! Here are a few recipe ideas you can try with your ingredients:\\n\\n1. **Pumpkin Curry**: Cook diced pumpkin with onions, tomatoes, and spices like cumin and turmeric. Add coconut milk for a creamy texture!\\n\\n2. **Sweet Potato Mash**: Boil sweet potatoes, then mash them with butter, garlic, and a pinch of salt. Perfect as a side dish.\\n\\n3. **Spinach and Methi Stir-Fry**: Sauté spinach and methi with garlic, a bit of green chili, and mustard seeds for a quick and healthy dish.\\n\\n4. **Mustard Greens Soup**: Cook mustard greens with garlic, onion, and vegetable broth. Blend it for a creamy soup or enjoy it as a rustic bowl!\\n\\n5. **Pumpkin and Spinach Quiche**: Mix roasted pumpkin with spinach, eggs, and cheese in a pie crust for a delicious quiche.\\n\\nEnjoy your cooking, and don’t hesitate to return for more fresh vegetables! THANK YOU!\", type='TextMessage')], stop_reason=\"Text 'THANK YOU' mentioned\")"
      ]
     },
     "execution_count": 14,
     "metadata": {},
     "output_type": "execute_result"
    }
   ],
   "source": [
    "await Console(team.run_stream())  # Resume the team to continue the last task."
   ]
  },
  {
   "cell_type": "markdown",
   "id": "3c64d9ac-e86b-4cc7-b933-288dc1ef228c",
   "metadata": {},
   "source": [
    "You see above how seamlessly the conversation continued and stopped when the THANK YOU text was mentioned.\n",
    "\n",
    "### <u>Aborting a team</u>\n",
    "\n",
    "This is used to force cancel the team run (unlike the external termination where we cancel 'gracefully'). This is done using **cancellation_token** like below."
   ]
  },
  {
   "cell_type": "code",
   "execution_count": 15,
   "id": "1e0a56dd-4e17-4164-8bd2-c3126fce7d3d",
   "metadata": {},
   "outputs": [
    {
     "name": "stderr",
     "output_type": "stream",
     "text": [
      "Error processing publish message for vendor_8531a825-2fd3-47e1-80b8-90d6ec2de8b0/8531a825-2fd3-47e1-80b8-90d6ec2de8b0\n",
      "Traceback (most recent call last):\n",
      "  File \"D:\\Github\\autogen-quickstart\\agentchat\\.venv\\Lib\\site-packages\\autogen_core\\_single_threaded_agent_runtime.py\", line 605, in _on_message\n",
      "    return await agent.on_message(\n",
      "           ^^^^^^^^^^^^^^^^^^^^^^^\n",
      "  File \"D:\\Github\\autogen-quickstart\\agentchat\\.venv\\Lib\\site-packages\\autogen_core\\_base_agent.py\", line 119, in on_message\n",
      "    return await self.on_message_impl(message, ctx)\n",
      "           ^^^^^^^^^^^^^^^^^^^^^^^^^^^^^^^^^^^^^^^^\n",
      "  File \"D:\\Github\\autogen-quickstart\\agentchat\\.venv\\Lib\\site-packages\\autogen_agentchat\\teams\\_group_chat\\_sequential_routed_agent.py\", line 67, in on_message_impl\n",
      "    return await super().on_message_impl(message, ctx)\n",
      "           ^^^^^^^^^^^^^^^^^^^^^^^^^^^^^^^^^^^^^^^^^^^\n",
      "  File \"D:\\Github\\autogen-quickstart\\agentchat\\.venv\\Lib\\site-packages\\autogen_core\\_routed_agent.py\", line 485, in on_message_impl\n",
      "    return await h(self, message, ctx)\n",
      "           ^^^^^^^^^^^^^^^^^^^^^^^^^^^\n",
      "  File \"D:\\Github\\autogen-quickstart\\agentchat\\.venv\\Lib\\site-packages\\autogen_core\\_routed_agent.py\", line 268, in wrapper\n",
      "    return_value = await func(self, message, ctx)  # type: ignore\n",
      "                   ^^^^^^^^^^^^^^^^^^^^^^^^^^^^^^\n",
      "  File \"D:\\Github\\autogen-quickstart\\agentchat\\.venv\\Lib\\site-packages\\autogen_agentchat\\teams\\_group_chat\\_chat_agent_container.py\", line 79, in handle_request\n",
      "    async for msg in self._agent.on_messages_stream(self._message_buffer, ctx.cancellation_token):\n",
      "  File \"D:\\Github\\autogen-quickstart\\agentchat\\.venv\\Lib\\site-packages\\autogen_agentchat\\agents\\_assistant_agent.py\", line 852, in on_messages_stream\n",
      "    async for inference_output in self._call_llm(\n",
      "  File \"D:\\Github\\autogen-quickstart\\agentchat\\.venv\\Lib\\site-packages\\autogen_agentchat\\agents\\_assistant_agent.py\", line 981, in _call_llm\n",
      "    model_result = await model_client.create(\n",
      "                   ^^^^^^^^^^^^^^^^^^^^^^^^^^\n",
      "  File \"D:\\Github\\autogen-quickstart\\agentchat\\.venv\\Lib\\site-packages\\autogen_ext\\models\\openai\\_openai_client.py\", line 624, in create\n",
      "    result: Union[ParsedChatCompletion[BaseModel], ChatCompletion] = await future\n",
      "                                                                     ^^^^^^^^^^^^\n",
      "  File \"D:\\Github\\autogen-quickstart\\agentchat\\.venv\\Lib\\site-packages\\openai\\resources\\chat\\completions\\completions.py\", line 2583, in create\n",
      "    return await self._post(\n",
      "           ^^^^^^^^^^^^^^^^^\n",
      "  File \"D:\\Github\\autogen-quickstart\\agentchat\\.venv\\Lib\\site-packages\\openai\\_base_client.py\", line 1794, in post\n",
      "    return await self.request(cast_to, opts, stream=stream, stream_cls=stream_cls)\n",
      "           ^^^^^^^^^^^^^^^^^^^^^^^^^^^^^^^^^^^^^^^^^^^^^^^^^^^^^^^^^^^^^^^^^^^^^^^\n",
      "  File \"D:\\Github\\autogen-quickstart\\agentchat\\.venv\\Lib\\site-packages\\openai\\_base_client.py\", line 1529, in request\n",
      "    response = await self._client.send(\n",
      "               ^^^^^^^^^^^^^^^^^^^^^^^^\n",
      "  File \"D:\\Github\\autogen-quickstart\\agentchat\\.venv\\Lib\\site-packages\\httpx\\_client.py\", line 1629, in send\n",
      "    response = await self._send_handling_auth(\n",
      "               ^^^^^^^^^^^^^^^^^^^^^^^^^^^^^^^\n",
      "  File \"D:\\Github\\autogen-quickstart\\agentchat\\.venv\\Lib\\site-packages\\httpx\\_client.py\", line 1657, in _send_handling_auth\n",
      "    response = await self._send_handling_redirects(\n",
      "               ^^^^^^^^^^^^^^^^^^^^^^^^^^^^^^^^^^^^\n",
      "  File \"D:\\Github\\autogen-quickstart\\agentchat\\.venv\\Lib\\site-packages\\httpx\\_client.py\", line 1694, in _send_handling_redirects\n",
      "    response = await self._send_single_request(request)\n",
      "               ^^^^^^^^^^^^^^^^^^^^^^^^^^^^^^^^^^^^^^^^\n",
      "  File \"D:\\Github\\autogen-quickstart\\agentchat\\.venv\\Lib\\site-packages\\httpx\\_client.py\", line 1730, in _send_single_request\n",
      "    response = await transport.handle_async_request(request)\n",
      "               ^^^^^^^^^^^^^^^^^^^^^^^^^^^^^^^^^^^^^^^^^^^^^\n",
      "  File \"D:\\Github\\autogen-quickstart\\agentchat\\.venv\\Lib\\site-packages\\httpx\\_transports\\default.py\", line 394, in handle_async_request\n",
      "    resp = await self._pool.handle_async_request(req)\n",
      "           ^^^^^^^^^^^^^^^^^^^^^^^^^^^^^^^^^^^^^^^^^^\n",
      "  File \"D:\\Github\\autogen-quickstart\\agentchat\\.venv\\Lib\\site-packages\\httpcore\\_async\\connection_pool.py\", line 256, in handle_async_request\n",
      "    raise exc from None\n",
      "  File \"D:\\Github\\autogen-quickstart\\agentchat\\.venv\\Lib\\site-packages\\httpcore\\_async\\connection_pool.py\", line 236, in handle_async_request\n",
      "    response = await connection.handle_async_request(\n",
      "               ^^^^^^^^^^^^^^^^^^^^^^^^^^^^^^^^^^^^^^\n",
      "  File \"D:\\Github\\autogen-quickstart\\agentchat\\.venv\\Lib\\site-packages\\httpcore\\_async\\connection.py\", line 103, in handle_async_request\n",
      "    return await self._connection.handle_async_request(request)\n",
      "           ^^^^^^^^^^^^^^^^^^^^^^^^^^^^^^^^^^^^^^^^^^^^^^^^^^^^\n",
      "  File \"D:\\Github\\autogen-quickstart\\agentchat\\.venv\\Lib\\site-packages\\httpcore\\_async\\http11.py\", line 136, in handle_async_request\n",
      "    raise exc\n",
      "  File \"D:\\Github\\autogen-quickstart\\agentchat\\.venv\\Lib\\site-packages\\httpcore\\_async\\http11.py\", line 106, in handle_async_request\n",
      "    ) = await self._receive_response_headers(**kwargs)\n",
      "        ^^^^^^^^^^^^^^^^^^^^^^^^^^^^^^^^^^^^^^^^^^^^^^\n",
      "  File \"D:\\Github\\autogen-quickstart\\agentchat\\.venv\\Lib\\site-packages\\httpcore\\_async\\http11.py\", line 177, in _receive_response_headers\n",
      "    event = await self._receive_event(timeout=timeout)\n",
      "            ^^^^^^^^^^^^^^^^^^^^^^^^^^^^^^^^^^^^^^^^^^\n",
      "  File \"D:\\Github\\autogen-quickstart\\agentchat\\.venv\\Lib\\site-packages\\httpcore\\_async\\http11.py\", line 217, in _receive_event\n",
      "    data = await self._network_stream.read(\n",
      "           ^^^^^^^^^^^^^^^^^^^^^^^^^^^^^^^^\n",
      "  File \"D:\\Github\\autogen-quickstart\\agentchat\\.venv\\Lib\\site-packages\\httpcore\\_backends\\anyio.py\", line 35, in read\n",
      "    return await self._stream.receive(max_bytes=max_bytes)\n",
      "           ^^^^^^^^^^^^^^^^^^^^^^^^^^^^^^^^^^^^^^^^^^^^^^^\n",
      "  File \"D:\\Github\\autogen-quickstart\\agentchat\\.venv\\Lib\\site-packages\\anyio\\streams\\tls.py\", line 237, in receive\n",
      "    data = await self._call_sslobject_method(self._ssl_object.read, max_bytes)\n",
      "           ^^^^^^^^^^^^^^^^^^^^^^^^^^^^^^^^^^^^^^^^^^^^^^^^^^^^^^^^^^^^^^^^^^^\n",
      "  File \"D:\\Github\\autogen-quickstart\\agentchat\\.venv\\Lib\\site-packages\\anyio\\streams\\tls.py\", line 180, in _call_sslobject_method\n",
      "    data = await self.transport_stream.receive()\n",
      "           ^^^^^^^^^^^^^^^^^^^^^^^^^^^^^^^^^^^^^\n",
      "  File \"D:\\Github\\autogen-quickstart\\agentchat\\.venv\\Lib\\site-packages\\anyio\\_backends\\_asyncio.py\", line 1254, in receive\n",
      "    await self._protocol.read_event.wait()\n",
      "  File \"C:\\Users\\cgokh\\AppData\\Roaming\\uv\\python\\cpython-3.12.11-windows-x86_64-none\\Lib\\asyncio\\locks.py\", line 212, in wait\n",
      "    await fut\n",
      "asyncio.exceptions.CancelledError\n"
     ]
    }
   ],
   "source": [
    "from autogen_core import CancellationToken\n",
    "\n",
    "cancellation_token = CancellationToken()\n",
    "\n",
    "await team.reset()\n",
    "run = asyncio.create_task(\n",
    "    team.run(\n",
    "        task=\"Buy some vegetables\",\n",
    "        cancellation_token=cancellation_token\n",
    "    )\n",
    ")"
   ]
  },
  {
   "cell_type": "code",
   "execution_count": 16,
   "id": "9892b06b-eabe-4d37-8cd0-16ec263c1bf9",
   "metadata": {},
   "outputs": [
    {
     "name": "stdout",
     "output_type": "stream",
     "text": [
      "Task was cancelled.\n"
     ]
    }
   ],
   "source": [
    "cancellation_token.cancel()\n",
    "\n",
    "try:\n",
    "    result = await run  # This will raise a CancelledError.\n",
    "except asyncio.CancelledError:\n",
    "    print(\"Task was cancelled.\")"
   ]
  },
  {
   "cell_type": "markdown",
   "id": "09f5ddf0-c16f-4e38-be2c-5eb7f35bfb30",
   "metadata": {},
   "source": [
    "We see above, the **cancellation_token.cancel()** forcefully interrupts the task and returns a **asyncio.exceptions.CancelledError**\n",
    "\n",
    "### <u>Single team agent</u>\n",
    "\n",
    "Skipping"
   ]
  },
  {
   "cell_type": "code",
   "execution_count": null,
   "id": "7d9dde82-3544-49c9-a1ae-36a3162cab7b",
   "metadata": {},
   "outputs": [],
   "source": []
  }
 ],
 "metadata": {
  "kernelspec": {
   "display_name": "Python 3 (ipykernel)",
   "language": "python",
   "name": "python3"
  },
  "language_info": {
   "codemirror_mode": {
    "name": "ipython",
    "version": 3
   },
   "file_extension": ".py",
   "mimetype": "text/x-python",
   "name": "python",
   "nbconvert_exporter": "python",
   "pygments_lexer": "ipython3",
   "version": "3.12.11"
  }
 },
 "nbformat": 4,
 "nbformat_minor": 5
}
