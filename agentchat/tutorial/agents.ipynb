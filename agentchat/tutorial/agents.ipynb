{
 "cells": [
  {
   "attachments": {},
   "cell_type": "markdown",
   "id": "781b3fa0-b1bd-4cdc-9e58-d8190e08f0d3",
   "metadata": {},
   "source": [
    "## Agents\n",
    "\n",
    "[This is the agents section](https://microsoft.github.io/autogen/stable//user-guide/agentchat-user-guide/tutorial/agents.html#assistant-agent)\n",
    "\n",
    "Autogen Agentchat provides various agents that are capable of **responding** differently to user inputs\n",
    "\n",
    "The common attributes and methods of the agents are\n",
    "1. name\n",
    "2. description\n",
    "3. run (coroutine) - use await in jupyter :\n",
    "   - A method that runs the **task** given to the agent.\n",
    "   - Task is given as a **string** or **list of messages**.\n",
    "   - Returns a **TaskResult**\n",
    "   - Agents are expected to be stateful and this method is expected to be called with new messages, not complete history.\n",
    "   - Refer to below img on what **stateful** means. So effectively, only new messages are passed to the run method as Agents remember the history themselves.\n",
    "4. run_stream : Same as run but\n",
    "   - returns an iterator of messages (BaseAgentEvent or BaseChatMessage).\n",
    "   - Followed by TaskResult as the last item.\n",
    "\n",
    "### <u>Comment on statefulness of agents</u>\n",
    "\n",
    "<img src=\"images/image_1.png\" width=\"600\">\n",
    "\n",
    "## 1) <u>Assistant Agent</u>\n",
    "\n",
    "Uses LLMs and has ability to use Tools.\n",
    "\n",
    "**note**: This is a very general agent for educational purposes to understand all options. Ideally, once you understand then implement your own agent via [Custom Agent](https://microsoft.github.io/autogen/stable//user-guide/agentchat-user-guide/custom-agents.html)\n",
    "\n",
    "### 1.1) <u>Base Assistant Agent ex (already seen in quickstart. Pasting for completion purposes - skip if revising).</u>"
   ]
  },
  {
   "cell_type": "code",
   "execution_count": 1,
   "id": "133f69d0-971b-477b-9880-1d51f8a63212",
   "metadata": {},
   "outputs": [
    {
     "data": {
      "text/plain": [
       "True"
      ]
     },
     "execution_count": 1,
     "metadata": {},
     "output_type": "execute_result"
    }
   ],
   "source": [
    "from dotenv import load_dotenv\n",
    "\n",
    "load_dotenv()"
   ]
  },
  {
   "cell_type": "code",
   "execution_count": 2,
   "id": "feffdfd8-9e35-428b-bf2b-70ce4def6938",
   "metadata": {},
   "outputs": [],
   "source": [
    "from autogen_agentchat.agents import AssistantAgent\n",
    "from autogen_agentchat.messages import StructuredMessage\n",
    "from autogen_agentchat.ui import Console\n",
    "from autogen_ext.models.openai import OpenAIChatCompletionClient\n",
    "\n",
    "# Define a tool that searches the web for information.\n",
    "# For simplicity, we will use a mock function here that returns a static string.\n",
    "async def web_search(query: str) -> str:\n",
    "    \"\"\"Find information on the web\"\"\"\n",
    "    return \"AutoGen is a programming framework for building multi-agent applications.\"\n",
    "\n",
    "\n",
    "# Create an agent that uses the OpenAI GPT-4o model.\n",
    "model_client = OpenAIChatCompletionClient(\n",
    "    model=\"gpt-4.1-nano\",\n",
    "    # api_key=\"YOUR_API_KEY\",\n",
    ")\n",
    "agent = AssistantAgent(\n",
    "    name=\"assistant\",\n",
    "    model_client=model_client,\n",
    "    tools=[web_search],\n",
    "    system_message=\"Use tools to solve tasks.\",\n",
    ")"
   ]
  },
  {
   "cell_type": "code",
   "execution_count": 3,
   "id": "6d505ff9-85a9-4018-b569-0c653fef7f8f",
   "metadata": {},
   "outputs": [
    {
     "data": {
      "text/plain": [
       "autogen_agentchat.base._task.TaskResult"
      ]
     },
     "execution_count": 3,
     "metadata": {},
     "output_type": "execute_result"
    }
   ],
   "source": [
    "result = await agent.run(task=\"Find information on AutoGen\")\n",
    "type(result)"
   ]
  },
  {
   "cell_type": "code",
   "execution_count": 10,
   "id": "210505de-1e31-4b19-800a-355478bb52e6",
   "metadata": {
    "scrolled": true
   },
   "outputs": [
    {
     "data": {
      "text/plain": [
       "['_abc_impl',\n",
       " '_calculate_keys',\n",
       " '_copy_and_set_values',\n",
       " '_get_value',\n",
       " '_iter',\n",
       " '_setattr_handler',\n",
       " 'construct',\n",
       " 'copy',\n",
       " 'dict',\n",
       " 'from_orm',\n",
       " 'json',\n",
       " 'messages',\n",
       " 'model_computed_fields',\n",
       " 'model_config',\n",
       " 'model_construct',\n",
       " 'model_copy',\n",
       " 'model_dump',\n",
       " 'model_dump_json',\n",
       " 'model_extra',\n",
       " 'model_fields',\n",
       " 'model_fields_set',\n",
       " 'model_json_schema',\n",
       " 'model_parametrized_name',\n",
       " 'model_post_init',\n",
       " 'model_rebuild',\n",
       " 'model_validate',\n",
       " 'model_validate_json',\n",
       " 'model_validate_strings',\n",
       " 'parse_file',\n",
       " 'parse_obj',\n",
       " 'parse_raw',\n",
       " 'schema',\n",
       " 'schema_json',\n",
       " 'stop_reason',\n",
       " 'update_forward_refs',\n",
       " 'validate']"
      ]
     },
     "execution_count": 10,
     "metadata": {},
     "output_type": "execute_result"
    }
   ],
   "source": [
    "# attributes of this object (except dunder attrs)\n",
    "[i for i in dir(result) if i.find(\"__\") == -1]"
   ]
  },
  {
   "cell_type": "code",
   "execution_count": 12,
   "id": "f5202434-84dc-4db3-aace-0fd7c008f26a",
   "metadata": {},
   "outputs": [
    {
     "name": "stdout",
     "output_type": "stream",
     "text": [
      "[TextMessage(source='user', models_usage=None, metadata={}, created_at=datetime.datetime(2025, 9, 3, 15, 59, 55, 356894, tzinfo=datetime.timezone.utc), content='Find information on AutoGen', type='TextMessage'), ToolCallRequestEvent(source='assistant', models_usage=RequestUsage(prompt_tokens=61, completion_tokens=32), metadata={}, created_at=datetime.datetime(2025, 9, 3, 16, 0, 2, 233689, tzinfo=datetime.timezone.utc), content=[FunctionCall(id='call_Xuoy6QHgToaMU85Y7VXJNH2r', arguments='{\"query\": \"AutoGen\"}', name='web_search')], type='ToolCallRequestEvent'), ToolCallExecutionEvent(source='assistant', models_usage=None, metadata={}, created_at=datetime.datetime(2025, 9, 3, 16, 0, 2, 233689, tzinfo=datetime.timezone.utc), content=[FunctionExecutionResult(content='AutoGen is a programming framework for building multi-agent applications.', name='web_search', call_id='call_Xuoy6QHgToaMU85Y7VXJNH2r', is_error=False)], type='ToolCallExecutionEvent'), ToolCallSummaryMessage(source='assistant', models_usage=None, metadata={}, created_at=datetime.datetime(2025, 9, 3, 16, 0, 2, 233689, tzinfo=datetime.timezone.utc), content='AutoGen is a programming framework for building multi-agent applications.', type='ToolCallSummaryMessage')]\n"
     ]
    }
   ],
   "source": [
    "# Use asyncio.run(agent.run(...)) when running in a script.\n",
    "# result = await agent.run(task=\"Find information on AutoGen\")\n",
    "print(result.messages)"
   ]
  },
  {
   "cell_type": "markdown",
   "id": "a399819e-ec16-40cc-8be6-608f067acff4",
   "metadata": {},
   "source": [
    "### Testing statefulness of the agent"
   ]
  },
  {
   "cell_type": "code",
   "execution_count": 13,
   "id": "19bbd2fa-b0da-4cfe-9295-2ee329afbf0a",
   "metadata": {},
   "outputs": [
    {
     "name": "stdout",
     "output_type": "stream",
     "text": [
      "[TextMessage(source='user', models_usage=None, metadata={}, created_at=datetime.datetime(2025, 9, 3, 16, 6, 16, 107441, tzinfo=datetime.timezone.utc), content='what was the previous message user gave you?', type='TextMessage'), TextMessage(source='assistant', models_usage=RequestUsage(prompt_tokens=110, completion_tokens=16), metadata={}, created_at=datetime.datetime(2025, 9, 3, 16, 6, 17, 731086, tzinfo=datetime.timezone.utc), content='The previous message from the user was: \"Find information on AutoGen.\"', type='TextMessage')]\n"
     ]
    }
   ],
   "source": [
    "result2 = await agent.run(task=\"what was the previous message user gave you?\")\n",
    "print(result2.messages)"
   ]
  },
  {
   "cell_type": "code",
   "execution_count": 14,
   "id": "d4171d13-812d-4cb5-88ee-6c6350ae6e3c",
   "metadata": {},
   "outputs": [
    {
     "data": {
      "text/plain": [
       "[autogen_agentchat.messages.TextMessage,\n",
       " autogen_agentchat.messages.ToolCallRequestEvent,\n",
       " autogen_agentchat.messages.ToolCallExecutionEvent,\n",
       " autogen_agentchat.messages.ToolCallSummaryMessage]"
      ]
     },
     "execution_count": 14,
     "metadata": {},
     "output_type": "execute_result"
    }
   ],
   "source": [
    "[type(i) for i in result.messages]"
   ]
  },
  {
   "cell_type": "markdown",
   "id": "5c85ded7-6e0f-4a1b-ba70-9fe0b099ff0d",
   "metadata": {},
   "source": [
    "### <u>autogen_agentchat.messages</u>\n",
    "\n",
    "As seen above, holds both ***events*** and ***message*** classes"
   ]
  },
  {
   "cell_type": "code",
   "execution_count": 15,
   "id": "caccaa5b-f06d-4913-b49e-45f0a5d4ccf6",
   "metadata": {},
   "outputs": [
    {
     "data": {
      "text/plain": [
       "'AutoGen is a programming framework for building multi-agent applications.'"
      ]
     },
     "execution_count": 15,
     "metadata": {},
     "output_type": "execute_result"
    }
   ],
   "source": [
    "result.messages[-1].content"
   ]
  },
  {
   "attachments": {},
   "cell_type": "markdown",
   "id": "ded12638-382c-48c2-b1e5-7df24cb3cae0",
   "metadata": {},
   "source": [
    "So we saw above\n",
    "* RUN - returned a list of messages\n",
    "* This includes the input msg, internal agent events and then output message\n",
    "\n",
    "All this is stored in **.messages** - think of this storing **thought process** of the agent\n",
    "\n",
    "<img src=\"images/image_2.png\" width=\"600\">"
   ]
  },
  {
   "cell_type": "markdown",
   "id": "b6701fa4-31b3-4235-9fb3-3d6e3fb40411",
   "metadata": {},
   "source": [
    "### 1.2) Passing Multi-Modal input to the same AssistantAgent\n",
    "\n",
    "First let us check out the image"
   ]
  },
  {
   "cell_type": "code",
   "execution_count": 18,
   "id": "1528fc37-b938-42a3-b012-d73a1b853f54",
   "metadata": {},
   "outputs": [
    {
     "data": {
      "text/html": [
       "<img src=\"data:image/png;base64,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\"/>"
      ],
      "text/plain": [
       "<autogen_core._image.Image at 0x1fc0bfd9820>"
      ]
     },
     "execution_count": 18,
     "metadata": {},
     "output_type": "execute_result"
    }
   ],
   "source": [
    "from io import BytesIO\n",
    "\n",
    "import PIL\n",
    "import requests\n",
    "from autogen_agentchat.messages import MultiModalMessage\n",
    "from autogen_core import Image\n",
    "\n",
    "# Create a multi-modal message with random image and text.\n",
    "pil_image = PIL.Image.open(BytesIO(requests.get(\"https://picsum.photos/300/200\").content))\n",
    "img = Image(pil_image)\n",
    "multi_modal_message = MultiModalMessage(content=[\"Can you describe the content of this image?\", img], source=\"user\")\n",
    "img"
   ]
  },
  {
   "cell_type": "markdown",
   "id": "06157f6a-ba9d-40b0-8831-891ac5578cd6",
   "metadata": {},
   "source": [
    "Passing and retrieving results"
   ]
  },
  {
   "cell_type": "code",
   "execution_count": 19,
   "id": "2b5a7d14-2f48-4a40-af4b-92b4f29812c7",
   "metadata": {},
   "outputs": [
    {
     "name": "stdout",
     "output_type": "stream",
     "text": [
      "messages=[MultiModalMessage(source='user', models_usage=None, metadata={}, created_at=datetime.datetime(2025, 9, 3, 16, 30, 10, 358865, tzinfo=datetime.timezone.utc), content=['Can you describe the content of this image?', <autogen_core._image.Image object at 0x000001FC0BFD9820>], type='MultiModalMessage'), TextMessage(source='assistant', models_usage=RequestUsage(prompt_tokens=317, completion_tokens=50), metadata={}, created_at=datetime.datetime(2025, 9, 3, 16, 30, 46, 221407, tzinfo=datetime.timezone.utc), content='This image shows a person wearing a gray knit hat and a brown jacket with a hood. The person is facing away from the camera, and the background appears to be an outdoor scene with a cloudy sky, suggesting a cold or overcast day.', type='TextMessage')] stop_reason=None\n"
     ]
    }
   ],
   "source": [
    "result3 = await agent.run(task=multi_modal_message)\n",
    "print(result3)"
   ]
  },
  {
   "cell_type": "markdown",
   "id": "448e39d1-3dd5-4034-a72a-ad6db080530f",
   "metadata": {},
   "source": [
    "### <u>We can also stream each message as the agent returns it</u>\n",
    "\n",
    "Use the **.run_stream** method for that along with **autogen_agentchat.ui.Console**"
   ]
  },
  {
   "cell_type": "code",
   "execution_count": 25,
   "id": "977a686a-bbe1-4e17-902b-e01cc2e613f1",
   "metadata": {
    "scrolled": true
   },
   "outputs": [
    {
     "name": "stdout",
     "output_type": "stream",
     "text": [
      "---------- TextMessage (user) ----------\n",
      "Find information on AutoGen\n",
      "---------- ToolCallRequestEvent (assistant) ----------\n",
      "[FunctionCall(id='call_Z8CeamCyHkiL0AyQ7EENjERb', arguments='{\"query\": \"AutoGen\"}', name='web_search'), FunctionCall(id='call_IU2JWvHilvwhZT7nbrF2ehU3', arguments='{\"query\": \"AutoGen framework\"}', name='web_search')]\n",
      "[Prompt tokens: 380, Completion tokens: 47]\n",
      "---------- ToolCallExecutionEvent (assistant) ----------\n",
      "[FunctionExecutionResult(content='AutoGen is a programming framework for building multi-agent applications.', name='web_search', call_id='call_Z8CeamCyHkiL0AyQ7EENjERb', is_error=False), FunctionExecutionResult(content='AutoGen is a programming framework for building multi-agent applications.', name='web_search', call_id='call_IU2JWvHilvwhZT7nbrF2ehU3', is_error=False)]\n",
      "---------- ToolCallSummaryMessage (assistant) ----------\n",
      "AutoGen is a programming framework for building multi-agent applications.\n",
      "AutoGen is a programming framework for building multi-agent applications.\n",
      "---------- Summary ----------\n",
      "Number of messages: 4\n",
      "Finish reason: None\n",
      "Total prompt tokens: 380\n",
      "Total completion tokens: 47\n",
      "Duration: 2.29 seconds\n"
     ]
    },
    {
     "data": {
      "text/plain": [
       "TaskResult(messages=[TextMessage(source='user', models_usage=None, metadata={}, created_at=datetime.datetime(2025, 9, 3, 16, 36, 48, 222250, tzinfo=datetime.timezone.utc), content='Find information on AutoGen', type='TextMessage'), ToolCallRequestEvent(source='assistant', models_usage=RequestUsage(prompt_tokens=380, completion_tokens=47), metadata={}, created_at=datetime.datetime(2025, 9, 3, 16, 36, 50, 496860, tzinfo=datetime.timezone.utc), content=[FunctionCall(id='call_Z8CeamCyHkiL0AyQ7EENjERb', arguments='{\"query\": \"AutoGen\"}', name='web_search'), FunctionCall(id='call_IU2JWvHilvwhZT7nbrF2ehU3', arguments='{\"query\": \"AutoGen framework\"}', name='web_search')], type='ToolCallRequestEvent'), ToolCallExecutionEvent(source='assistant', models_usage=None, metadata={}, created_at=datetime.datetime(2025, 9, 3, 16, 36, 50, 502287, tzinfo=datetime.timezone.utc), content=[FunctionExecutionResult(content='AutoGen is a programming framework for building multi-agent applications.', name='web_search', call_id='call_Z8CeamCyHkiL0AyQ7EENjERb', is_error=False), FunctionExecutionResult(content='AutoGen is a programming framework for building multi-agent applications.', name='web_search', call_id='call_IU2JWvHilvwhZT7nbrF2ehU3', is_error=False)], type='ToolCallExecutionEvent'), ToolCallSummaryMessage(source='assistant', models_usage=None, metadata={}, created_at=datetime.datetime(2025, 9, 3, 16, 36, 50, 502287, tzinfo=datetime.timezone.utc), content='AutoGen is a programming framework for building multi-agent applications.\\nAutoGen is a programming framework for building multi-agent applications.', type='ToolCallSummaryMessage')], stop_reason=None)"
      ]
     },
     "execution_count": 25,
     "metadata": {},
     "output_type": "execute_result"
    }
   ],
   "source": [
    "await Console(\n",
    "    agent.run_stream(task=\"Find information on AutoGen\"),\n",
    "    output_stats=True,  # Enable stats printing.\n",
    ")"
   ]
  },
  {
   "attachments": {},
   "cell_type": "markdown",
   "id": "49db9cb7-6a1e-4f32-af47-5e770ae3b3eb",
   "metadata": {},
   "source": [
    "The **run_stream** method returns an asynchronous generator that yeilds each message generated by the agent, followed by **TaskResult** as the last item.\n",
    "\n",
    "#### <u>Breakdown of what happened above followed by notes</u>\n",
    "\n",
    "<img src=\"images/image_3.png\" width=\"650\">\n",
    "\n",
    "<u>Notes</u>\n",
    "1. ***Parses task*** -> Agent will compile the below information into a prompt and send to openai (& receive result)\n",
    "   - User message : \"Find information on autogen\"\n",
    "   - System message\n",
    "   - List of available tools\n",
    "   - Recent conversation history\n",
    "2. ***Plans tool use*** -> This was returned by the LLM call in 1. hence it parsed it out and now proceeding to run the 2 web_search calls\n",
    "3. ***Issues tool calls*** -> **ToolCallRequestEvent** is wrapped around these 2 calls (this is part of the **autogen-core** protocol)\n",
    "4. ***Execute and get tool results*** -> Since web_search is a python function tool, it executes in the same jupyter environment and returns results which are immediately wrapped into **ToolCallSummaryMessage**\n",
    "\n",
    "### Again testing if agent is storing history"
   ]
  },
  {
   "cell_type": "code",
   "execution_count": null,
   "id": "23a70822-4c96-45ce-9e09-fa72b4fb8740",
   "metadata": {},
   "outputs": [],
   "source": [
    "await agent.run(task=\"Can you print all the history of your conversations till now?\")"
   ]
  },
  {
   "cell_type": "markdown",
   "id": "0bde05d0-ae26-451a-9c6b-8f960ce600eb",
   "metadata": {},
   "source": [
    "## <u>Using tools and workbench</u>\n",
    "\n",
    "Modern LLMs are increasingly developing the ability to do **tool calling** i.e. taken in a schema of the tool/function and it's arguements and output the **function call**.\n",
    "\n",
    "**AssitantAgent** can use tools. *web_search* was 1 such example - it was a custom tool (python function). \n",
    "\n",
    "We can either create custom function using python function or subclass the **BaseTool** class.\n",
    "\n",
    "**Workbench** is a collection of tools that can share state and resources. [Advanced concept so need to look at it again later]\n",
    "\n",
    "By default **AssistantAgent** runs the tool and returns the response as a string in a **ToolCallSummaryMessage**. \n",
    "\n",
    "If our tool does not response with a string, we can use the ***reflect_on_tool_use=True*** option so that the response gets converted well to a string.\n",
    "\n",
    "### <u>Built-in tools & workbench</u>\n",
    "\n",
    "Autogen Ext provides a bunch of built-in tools.\n",
    "\n",
    "### <u>Function tool</u>\n",
    "\n",
    "If a python function is passed to the assistant agent, agent automatically converts it to a **FunctionTool** class under the hood. (illustrated below).\n",
    "\n",
    "**FunctionTool** class object has an underlying **function call schema** which is required in all LLMs today."
   ]
  },
  {
   "cell_type": "code",
   "execution_count": 1,
   "id": "a00e25f9-e603-47b2-9b3b-35f22b2453d5",
   "metadata": {},
   "outputs": [
    {
     "name": "stdout",
     "output_type": "stream",
     "text": [
      "<class 'autogen_core.tools._function_tool.FunctionTool'>\n",
      "{'name': 'web_search_func', 'description': 'Find information on the web', 'parameters': {'type': 'object', 'properties': {'query': {'description': 'query', 'title': 'Query', 'type': 'string'}}, 'required': ['query'], 'additionalProperties': False}, 'strict': False}\n"
     ]
    }
   ],
   "source": [
    "from autogen_core.tools import FunctionTool\n",
    "\n",
    "async def web_search_func(query: str) -> str:\n",
    "    \"\"\"Find information on the web\"\"\"\n",
    "    return \"AutoGen is a programming framework.\"\n",
    "\n",
    "# Below step is automatically performed by the agent\n",
    "web_search_function_tool = FunctionTool(web_search_func, description=\"Find information on the web\")\n",
    "\n",
    "print(type(web_search_function_tool))\n",
    "print(web_search_function_tool.schema)"
   ]
  },
  {
   "cell_type": "markdown",
   "id": "86f3f3fe-8d81-4e60-9fe1-2fb59d7575f6",
   "metadata": {},
   "source": [
    "### MCP Workbench\n",
    "\n",
    "Getting error - skipping for now"
   ]
  },
  {
   "cell_type": "code",
   "execution_count": 4,
   "id": "711a1f53-7aa5-4909-9fea-56399979c491",
   "metadata": {},
   "outputs": [
    {
     "data": {
      "text/plain": [
       "'\\nfrom autogen_agentchat.agents import AssistantAgent\\nfrom autogen_agentchat.messages import TextMessage\\nfrom autogen_ext.models.openai import OpenAIChatCompletionClient\\nfrom autogen_ext.tools.mcp import McpWorkbench, StdioServerParams\\n\\n# Get the fetch tool from mcp-server-fetch.\\nfetch_mcp_server = StdioServerParams(command=\"uvx\", args=[\"mcp-server-fetch\"])\\n\\n# Create an MCP workbench which provides a session to the mcp server.\\nasync with McpWorkbench(fetch_mcp_server) as workbench:  # type: ignore\\n    # Create an agent that can use the fetch tool.\\n    model_client = OpenAIChatCompletionClient(model=\"gpt-4.1-nano\")\\n    fetch_agent = AssistantAgent(\\n        name=\"fetcher\", model_client=model_client, workbench=workbench, reflect_on_tool_use=True\\n    )\\n\\n    # Let the agent fetch the content of a URL and summarize it.\\n    result = await fetch_agent.run(task=\"Summarize the content of https://en.wikipedia.org/wiki/Seattle\")\\n    assert isinstance(result.messages[-1], TextMessage)\\n    print(result.messages[-1].content)\\n\\n    # Close the connection to the model client.\\n    await model_client.close()\\n'"
      ]
     },
     "execution_count": 4,
     "metadata": {},
     "output_type": "execute_result"
    }
   ],
   "source": [
    "\"\"\"\n",
    "from autogen_agentchat.agents import AssistantAgent\n",
    "from autogen_agentchat.messages import TextMessage\n",
    "from autogen_ext.models.openai import OpenAIChatCompletionClient\n",
    "from autogen_ext.tools.mcp import McpWorkbench, StdioServerParams\n",
    "\n",
    "# Get the fetch tool from mcp-server-fetch.\n",
    "fetch_mcp_server = StdioServerParams(command=\"uvx\", args=[\"mcp-server-fetch\"])\n",
    "\n",
    "# Create an MCP workbench which provides a session to the mcp server.\n",
    "async with McpWorkbench(fetch_mcp_server) as workbench:  # type: ignore\n",
    "    # Create an agent that can use the fetch tool.\n",
    "    model_client = OpenAIChatCompletionClient(model=\"gpt-4.1-nano\")\n",
    "    fetch_agent = AssistantAgent(\n",
    "        name=\"fetcher\", model_client=model_client, workbench=workbench, reflect_on_tool_use=True\n",
    "    )\n",
    "\n",
    "    # Let the agent fetch the content of a URL and summarize it.\n",
    "    result = await fetch_agent.run(task=\"Summarize the content of https://en.wikipedia.org/wiki/Seattle\")\n",
    "    assert isinstance(result.messages[-1], TextMessage)\n",
    "    print(result.messages[-1].content)\n",
    "\n",
    "    # Close the connection to the model client.\n",
    "    await model_client.close()\n",
    "\"\"\""
   ]
  },
  {
   "attachments": {},
   "cell_type": "markdown",
   "id": "45bf8a1a-3e3a-454e-9cb5-d563b0520e7b",
   "metadata": {},
   "source": [
    "### <u>Agent as a tool</u>\n",
    "\n",
    "Any class that inherits from **BaseChatAgent** can be used as a *tool* by wrapping **AgentTool**. \n",
    "\n",
    "This allows for multi-agent workflows as one agent can refer to another agent as a tool to solve tasks.\n",
    "\n",
    "### <u>Parallel tool calls</u>\n",
    "\n",
    "*Many LLMs support returning multiple tool calls at a time.*\n",
    "\n",
    "I asked chatgpt for clarification. Below is how an LLM will return a tool call for prompt. Prompt & tool call 1 below another.\n",
    "\n",
    "<u>prompt</u>\n",
    "\n",
    "<img src=\"images/image_5.png\" width=\"350\">\n",
    "\n",
    "<u>tool call response</u>\n",
    "\n",
    "<img src=\"images/image_4.png\" width=\"450\">\n",
    "\n",
    "**AssistantAgent** will react positively to more than 1 tool call response by an LLM. \n",
    "\n",
    "We can disable this behavior if we do not want parallel tool calls. \n",
    "\n",
    "<u>IMPORTANT</u>: Note that this is done at the **model client level** i.e. we tell the LLM to not return more than 1 tool call. The example of **Console(run.stream)** in this same notebook above has an LLM returning 2 tool calls and agent executing 2 tool calls (default behavior).\n",
    "\n",
    "For **OpenAIChatCompletionClient** or **AzureOpenAIChatCompletionClient**, set ***parallel_tool_calls=False*** to tell the LLM to always return only 1 tool call.\n",
    "\n",
    "**<u>Note</u>**\n",
    "\n",
    "We **must mandatorily** disable parallel tool calls when we use **AgentTool** or **TeamTool**.\n",
    "\n",
    "<img src=\"images/image_6.png\" width=\"600\">"
   ]
  },
  {
   "cell_type": "code",
   "execution_count": null,
   "id": "1ce5ca67-36fb-406f-9262-aeb1fac2a55d",
   "metadata": {},
   "outputs": [],
   "source": [
    "model_client_no_parallel_tool_call = OpenAIChatCompletionClient(\n",
    "    model=\"gpt-4o-mini\",\n",
    "    parallel_tool_calls=False,  # type: ignore\n",
    ")\n",
    "agent_no_parallel_tool_call = AssistantAgent(\n",
    "    name=\"assistant\",\n",
    "    model_client=model_client_no_parallel_tool_call,\n",
    "    tools=[web_search],\n",
    "    system_message=\"Use tools to solve tasks.\",\n",
    ")"
   ]
  },
  {
   "attachments": {},
   "cell_type": "markdown",
   "id": "f814098e-3c1d-45fa-b0ca-db5db61888f6",
   "metadata": {},
   "source": [
    "### <u>Tool Iteration</u>\n",
    "\n",
    "By default, AssistantAgent executes only **1 tool iteration.**\n",
    "\n",
    "Ex : Imaging that your agent has 5 websearch tools, 1 of them is linkedin search. Then, below would constitute 1 iteration.\n",
    "\n",
    "<img src=\"images/image_7.png\" width=\"650\">\n",
    "\n",
    "Hence, 1 iteration = **User query -> Model -> tool selection -> agent executes -> agent returns result**\n",
    "\n",
    "Use **max_tool_iterations** to extend this."
   ]
  },
  {
   "cell_type": "code",
   "execution_count": null,
   "id": "fe8d2927-f5c8-4625-b335-acc400315ea5",
   "metadata": {},
   "outputs": [],
   "source": [
    "agent_loop = AssistantAgent(\n",
    "    name=\"assistant_loop\",\n",
    "    model_client=model_client_no_parallel_tool_call,\n",
    "    tools=[web_search],\n",
    "    system_message=\"Use tools to solve tasks.\",\n",
    "    max_tool_iterations=10,  # At most 10 iterations of tool calls before stopping the loop.\n",
    ")"
   ]
  },
  {
   "attachments": {},
   "cell_type": "markdown",
   "id": "823f72bf-9140-4c63-9f3b-17cc9e2b94da",
   "metadata": {},
   "source": [
    "### <u>Structured output</u>\n",
    "\n",
    "To get a structured output from the **AssistantAgent**, we create a **pydantic BaseModel** in **output_content_type** parameter.\n",
    "\n",
    "Once this is done -> **AssistantAgent** responds with an output of type **StructuredMessage**. \n",
    "\n",
    "**StructredMessage.content** is of the custom pydantic basemodel we provided.\n",
    "\n",
    "<u>Note:</u>\n",
    "\n",
    "\n",
    "When **output_content_type** is set, by default **reflect_on_tool_use** is set to True so that if the output is not structured, the additional step converts it to structured. If you don't want that then explicitly set reflect on tool use to false so that the output content type directly receives and outputs the value provided by the LLM.\n",
    "\n",
    "<u>IMPORTANT:</u>\n",
    "\n",
    "The naming **reflect_on_tool_use** is slightly misleading. \n",
    "\n",
    "It is not **reflect_on_tool_use** but in addition doing - **reflect_if_output_not_structured** (when **output_content_type** is set).\n",
    "\n",
    "See below for chatgpt clarification.\n",
    "\n",
    "<img src=\"images/image_9.png\" width=\"700\">\n",
    "\n",
    "<img src=\"images/image_8.png\" width=\"700\">"
   ]
  },
  {
   "cell_type": "code",
   "execution_count": null,
   "id": "490cf8b5-0469-4465-bb44-ac0e0f963223",
   "metadata": {},
   "outputs": [],
   "source": [
    "from typing import Literal\n",
    "from autogen_ext.models.openai import OpenAIChatCompletionClient\n",
    "from autogen_agentchat.ui import Console\n",
    "from pydantic import BaseModel\n",
    "from autogen_agentchat.agents import AssistantAgent\n",
    "\n",
    "\n",
    "# The response format for the agent as a Pydantic base model.\n",
    "class AgentResponse(BaseModel):\n",
    "    thoughts: str\n",
    "    response: Literal[\"happy\", \"sad\", \"neutral\"]\n",
    "\n",
    "\n",
    "# Create an agent that uses the OpenAI GPT-4o model.\n",
    "model_client = OpenAIChatCompletionClient(model=\"gpt-4o\")\n",
    "agent = AssistantAgent(\n",
    "    \"assistant\",\n",
    "    model_client=model_client,\n",
    "    system_message=\"Categorize the input as happy, sad, or neutral following the JSON format.\",\n",
    "    # Define the output content type of the agent.\n",
    "    output_content_type=AgentResponse,\n",
    ")\n",
    "\n",
    "result = await Console(agent.run_stream(task=\"I am happy.\"))"
   ]
  },
  {
   "cell_type": "code",
   "execution_count": 3,
   "id": "c4bbc7b1-d2f3-412d-b5ab-d028e9878e9d",
   "metadata": {},
   "outputs": [
    {
     "data": {
      "text/plain": [
       "[TextMessage(source='user', models_usage=None, metadata={}, created_at=datetime.datetime(2025, 9, 7, 11, 52, 20, 367377, tzinfo=datetime.timezone.utc), content='I am happy.', type='TextMessage'),\n",
       " StructuredMessage[AgentResponse](source='assistant', models_usage=RequestUsage(prompt_tokens=89, completion_tokens=18), metadata={}, created_at=datetime.datetime(2025, 9, 7, 11, 52, 22, 799935, tzinfo=datetime.timezone.utc), content=AgentResponse(thoughts='The user explicitly states that they are feeling happy.', response='happy'), format_string=None, type='StructuredMessage[AgentResponse]')]"
      ]
     },
     "execution_count": 3,
     "metadata": {},
     "output_type": "execute_result"
    }
   ],
   "source": [
    "result.messages"
   ]
  },
  {
   "cell_type": "code",
   "execution_count": 8,
   "id": "6c2c8cc1-fdc3-45ef-84ca-b446b0268681",
   "metadata": {},
   "outputs": [
    {
     "data": {
      "text/plain": [
       "AgentResponse(thoughts='The user explicitly states that they are feeling happy.', response='happy')"
      ]
     },
     "execution_count": 8,
     "metadata": {},
     "output_type": "execute_result"
    }
   ],
   "source": [
    "result.messages[-1].content"
   ]
  },
  {
   "attachments": {},
   "cell_type": "markdown",
   "id": "4ae2e4b8-be8e-4d99-8cde-4e0dc1c38be0",
   "metadata": {},
   "source": [
    "### <u>Streaming tokens</u>\n",
    "\n",
    "Setting the parameter **model_client_stream=True** in **AssistantAgent** will yield tokens & final **TextMessage** at the end\n",
    "\n",
    "<img src=\"images/image_10.png\" width=\"500\">"
   ]
  },
  {
   "cell_type": "code",
   "execution_count": null,
   "id": "85bc2f53-8330-45aa-a163-adb9bca60d1b",
   "metadata": {},
   "outputs": [],
   "source": [
    "###"
   ]
  },
  {
   "attachments": {},
   "cell_type": "markdown",
   "id": "ca155206-d9ab-4b9a-b946-cbd5b562880a",
   "metadata": {},
   "source": [
    "### <u>Control the history sent to the Agent using : Model Context</u>\n",
    "\n",
    "<img src=\"images/image_11.png\" width=\"600\">"
   ]
  },
  {
   "cell_type": "code",
   "execution_count": null,
   "id": "ccb0a7d4-f45b-4682-a0a8-35e8b1698d3e",
   "metadata": {},
   "outputs": [],
   "source": [
    "###"
   ]
  },
  {
   "attachments": {},
   "cell_type": "markdown",
   "id": "62f8e298-6db4-405b-962d-8846623a0d15",
   "metadata": {},
   "source": [
    "<img src=\"images/image_12.png\" width=\"600\">"
   ]
  }
 ],
 "metadata": {
  "kernelspec": {
   "display_name": "Python 3 (ipykernel)",
   "language": "python",
   "name": "python3"
  },
  "language_info": {
   "codemirror_mode": {
    "name": "ipython",
    "version": 3
   },
   "file_extension": ".py",
   "mimetype": "text/x-python",
   "name": "python",
   "nbconvert_exporter": "python",
   "pygments_lexer": "ipython3",
   "version": "3.13.3"
  }
 },
 "nbformat": 4,
 "nbformat_minor": 5
}
