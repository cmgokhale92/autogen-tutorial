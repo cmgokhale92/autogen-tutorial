{
 "cells": [
  {
   "cell_type": "markdown",
   "id": "31f35cf1-755a-4612-918f-55026c4daf5c",
   "metadata": {},
   "source": [
    "## <u>Human-in-the-loop</u>\n",
    "\n",
    "Provide human feedback to a team.\n",
    "\n",
    "Two main ways to achieve this\n",
    "1. During .run/.run_stream - provide feedback through UserProxyAgent.\n",
    "2. Once the run terminates, provide feedback through .run/.run_stream\n",
    "\n",
    "#### <u>Off topic : code samples on integration with web and UI frameworks</u>\n",
    "\n",
    "1. <u>[Agentchat + FastAPI](https://github.com/microsoft/autogen/tree/main/python/samples/agentchat_fastapi)</u>\n",
    "2. <u>[Agentchat + ChainLit](https://github.com/microsoft/autogen/tree/main/python/samples/agentchat_chainlit)</u>\n",
    "3. <u>[Agentchat + StreamLit](https://github.com/microsoft/autogen/tree/main/python/samples/agentchat_streamlit)</u>\n",
    "\n",
    "### <u>Providing feedback during the run</u>\n",
    "\n",
    "As the name goes **UserProxyAgent** is a built-in agent that acts as a proxy for the user and provides feedback.\n",
    "\n",
    "Create an instance of UPA and include it in the team definition. The team will decide when to call UPA to ask for feedback.\n",
    "\n",
    "In **RoundRobinGroupChat**, UPA is called by order but in **SelectorGroupChat**, the selector prompt or selector function determines when the UPA is called.\n",
    "\n",
    "<img src=\"images/image_14.png\" width=700>\n",
    "\n",
    "Task & TaskResult arrows signify the normal input of task (run/run_stream) and the output TaskResult. The bold arrows show us the flow when the group chat decides to take an opinion from the user and then use that to continue finding the solution.\n",
    "\n",
    "<u>**Note:**</u> When the UPA is called, until a human replies, the state is suspended mid-execution. If the system crashes at that time, there is no way for the team to resume later."
   ]
  },
  {
   "cell_type": "code",
   "execution_count": 2,
   "id": "235db540-cba7-4b84-aefb-19380eb4010b",
   "metadata": {},
   "outputs": [
    {
     "data": {
      "text/plain": [
       "True"
      ]
     },
     "execution_count": 2,
     "metadata": {},
     "output_type": "execute_result"
    }
   ],
   "source": [
    "from dotenv import load_dotenv\n",
    "\n",
    "load_dotenv()"
   ]
  },
  {
   "cell_type": "code",
   "execution_count": 3,
   "id": "0d76c4ad-98c0-43a9-8deb-01984ecc350e",
   "metadata": {},
   "outputs": [
    {
     "name": "stdout",
     "output_type": "stream",
     "text": [
      "---------- TextMessage (user) ----------\n",
      "Write a 4 line poem about Pune in Marathi.\n",
      "---------- TextMessage (assistant) ----------\n",
      "पुणे शहर, संस्कृतीची गळामिठी,  \n",
      "चहा-कॉफीचं, भेटींचं गाणं गाती,  \n",
      "सार्वजनिक उद्याने, सुखद सावली,  \n",
      "पुण्याची गोष्ट, हृदयात वसती.  \n",
      "\n",
      "TERMINATE\n"
     ]
    },
    {
     "name": "stdin",
     "output_type": "stream",
     "text": [
      "Enter your response:  do again\n"
     ]
    },
    {
     "name": "stdout",
     "output_type": "stream",
     "text": [
      "---------- TextMessage (user_promy) ----------\n",
      "do again\n",
      "---------- TextMessage (assistant) ----------\n",
      "पुणे म्हातारं, ज्ञानाचं घर,  \n",
      "पार्वती पर्वता, निसर्गात मजर,  \n",
      "छान गप्पा, चहा-भाजी,  \n",
      "पुण्याची माती, प्रेमभरी सावली.  \n",
      "\n",
      "TERMINATE\n"
     ]
    },
    {
     "name": "stdin",
     "output_type": "stream",
     "text": [
      "Enter your response:  APPROVE\n"
     ]
    },
    {
     "name": "stdout",
     "output_type": "stream",
     "text": [
      "---------- TextMessage (user_promy) ----------\n",
      "APPROVE\n"
     ]
    }
   ],
   "source": [
    "from autogen_agentchat.agents import AssistantAgent, UserProxyAgent\n",
    "from autogen_agentchat.conditions import TextMentionTermination\n",
    "from autogen_agentchat.teams import RoundRobinGroupChat\n",
    "from autogen_agentchat.ui import Console\n",
    "from autogen_ext.models.openai import OpenAIChatCompletionClient\n",
    "\n",
    "model_client = OpenAIChatCompletionClient(\n",
    "    model=\"gpt-4o-mini\"\n",
    ")\n",
    "assistant = AssistantAgent(\"assistant\", model_client=model_client)\n",
    "user_proxy = UserProxyAgent(\"user_proxy\", input_func=input)\n",
    "\n",
    "termination = TextMentionTermination(\"APPROVE\")\n",
    "team = RoundRobinGroupChat([assistant, user_proxy], termination_condition=termination)\n",
    "\n",
    "await Console(team.run_stream(task=\"Write a 4 line poem about Pune in Marathi.\"))\n",
    "await model_client.close()"
   ]
  },
  {
   "cell_type": "markdown",
   "id": "90be83b6-518b-40db-9799-9d7a408c0665",
   "metadata": {},
   "source": [
    "Done till here"
   ]
  },
  {
   "cell_type": "code",
   "execution_count": null,
   "id": "57f4f768-c770-42c5-a7e7-e9ee3dddec67",
   "metadata": {},
   "outputs": [],
   "source": []
  }
 ],
 "metadata": {
  "kernelspec": {
   "display_name": "Python 3 (ipykernel)",
   "language": "python",
   "name": "python3"
  },
  "language_info": {
   "codemirror_mode": {
    "name": "ipython",
    "version": 3
   },
   "file_extension": ".py",
   "mimetype": "text/x-python",
   "name": "python",
   "nbconvert_exporter": "python",
   "pygments_lexer": "ipython3",
   "version": "3.12.11"
  }
 },
 "nbformat": 4,
 "nbformat_minor": 5
}
