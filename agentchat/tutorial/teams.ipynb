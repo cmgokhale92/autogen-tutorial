{
 "cells": [
  {
   "cell_type": "markdown",
   "id": "7a1ccb34-f246-468d-b029-c56b5b808166",
   "metadata": {},
   "source": [
    "# <u>Teams</u>\n",
    "\n",
    "AgentChat creates **agent teams** for them to interact with each other.\n",
    "\n",
    "Each team achieves **a goal** by working together.\n",
    "\n",
    "**First we will**\n",
    "1. Create a team\n",
    "2. Run a team\n",
    "\n",
    "While doing this we will **observe team's behavior**, which is crucial along with common **operations to control team's behavior**\n",
    "\n",
    "**Team presets**\n",
    "1. RoundRobinGroupChat - runs group chat with agents participating sequentially (covered here)\n",
    "2. SelectorGroupChat - (advanced) team that selects the next participant using a judge (LLM)\n",
    "3. MagneticOneGroupChat - (advanced) generalist multi-agent to solve open ended web and file-based tasks\n",
    "4. Swarm - (advanced)\n",
    "\n",
    "**When to use a team?**\n",
    "\n",
    "First start with single agent. Use all it's resources and if it still fails to solve the problem, use a team.\n",
    "\n",
    "## <u>RoundRobinGroupChat</u>\n",
    "\n",
    "### <u>Creating a team</u>\n",
    "\n",
    "All agents share the same context.\n",
    "\n",
    "All agents take turn to answer sequuentially.\n",
    "\n",
    "Each agent broadcasts its answer to all other agents.\n",
    "\n",
    "Example below : 2 Agents, *reflection pattern*, TextMentionTermination."
   ]
  },
  {
   "cell_type": "code",
   "execution_count": 2,
   "id": "a9994638-bd3a-4949-a851-2fc497fcddb3",
   "metadata": {},
   "outputs": [
    {
     "data": {
      "text/plain": [
       "True"
      ]
     },
     "execution_count": 2,
     "metadata": {},
     "output_type": "execute_result"
    }
   ],
   "source": [
    "from dotenv import load_dotenv\n",
    "\n",
    "load_dotenv()"
   ]
  },
  {
   "cell_type": "code",
   "execution_count": 4,
   "id": "8de90ef2-a532-46cc-b5e8-ecc99cbced72",
   "metadata": {},
   "outputs": [],
   "source": [
    "import asyncio\n",
    "\n",
    "from autogen_agentchat.agents import AssistantAgent\n",
    "from autogen_agentchat.base import TaskResult\n",
    "from autogen_agentchat.conditions import ExternalTermination, TextMentionTermination\n",
    "from autogen_agentchat.teams import RoundRobinGroupChat\n",
    "from autogen_agentchat.ui import Console\n",
    "from autogen_core import CancellationToken\n",
    "from autogen_ext.models.openai import OpenAIChatCompletionClient\n",
    "\n",
    "model_client = OpenAIChatCompletionClient(\n",
    "    model=\"gpt-4o-mini\"\n",
    ")\n",
    "\n",
    "vendor_agent = AssistantAgent(\n",
    "    \"vendor\",\n",
    "    model_client=model_client,\n",
    "    system_message=\"You are a vegetable vendor from Pune, India. Once some vegetables are sold, reply with 'THANK YOU'\",\n",
    ")\n",
    "\n",
    "buyer_agent = AssistantAgent(\n",
    "    \"buyer\",\n",
    "    model_client=model_client,\n",
    "    system_message=\"You are vegetable buyer conversing with a vendor in subji mandi. Ask for the vegetables you want and buy them at appropriate price.\",\n",
    ")\n",
    "\n",
    "text_termination = TextMentionTermination(\"THANK YOU\")\n",
    "\n",
    "team = RoundRobinGroupChat([vendor_agent, buyer_agent], termination_condition=text_termination)"
   ]
  },
  {
   "cell_type": "markdown",
   "id": "9d081ec0-4ffc-41fd-baa9-b320cf2e422f",
   "metadata": {},
   "source": [
    "### RUn"
   ]
  },
  {
   "cell_type": "code",
   "execution_count": 5,
   "id": "95f9e4e3-f374-4e4e-a370-7caa1516f936",
   "metadata": {},
   "outputs": [
    {
     "name": "stdout",
     "output_type": "stream",
     "text": [
      "messages=[TextMessage(source='user', models_usage=None, metadata={}, created_at=datetime.datetime(2025, 9, 15, 17, 18, 56, 905831, tzinfo=datetime.timezone.utc), content='Write a short poem about the fall season.', type='TextMessage'), TextMessage(source='vendor', models_usage=RequestUsage(prompt_tokens=43, completion_tokens=77), metadata={}, created_at=datetime.datetime(2025, 9, 15, 17, 19, 7, 544153, tzinfo=datetime.timezone.utc), content=\"In the crisp air, leaves gently sway,  \\nGolden hues dance as they decay,  \\nPumpkins gleam while the harvest calls,  \\nNature's canvas, painted in stalls.  \\n\\nWarm spices waft from kitchens near,  \\nCider and warmth, as winter draws near,  \\nA tapestry woven with colors so bright,  \\nFall wraps us in beauty, a cozy delight.  \", type='TextMessage'), TextMessage(source='buyer', models_usage=RequestUsage(prompt_tokens=131, completion_tokens=64), metadata={}, created_at=datetime.datetime(2025, 9, 15, 17, 19, 10, 124166, tzinfo=datetime.timezone.utc), content='That’s a lovely poem! Now, shifting back to the subji mandi, I’d like to buy some vegetables. Can you tell me the prices for the following?\\n\\n- Potatoes\\n- Spinach\\n- Cauliflower\\n- Carrots\\n- Onions\\n\\nPlease let me know your best price for each!', type='TextMessage'), TextMessage(source='vendor', models_usage=RequestUsage(prompt_tokens=194, completion_tokens=68), metadata={}, created_at=datetime.datetime(2025, 9, 15, 17, 19, 12, 379472, tzinfo=datetime.timezone.utc), content='Sure! Here are the best prices for the vegetables you requested:\\n\\n- Potatoes: ₹20 per kg  \\n- Spinach: ₹30 per bunch  \\n- Cauliflower: ₹40 each  \\n- Carrots: ₹25 per kg  \\n- Onions: ₹15 per kg  \\n\\nLet me know how much you would like to buy!', type='TextMessage'), TextMessage(source='buyer', models_usage=RequestUsage(prompt_tokens=273, completion_tokens=58), metadata={}, created_at=datetime.datetime(2025, 9, 15, 17, 19, 15, 539323, tzinfo=datetime.timezone.utc), content='Great, thank you for the prices! I would like to buy the following:\\n\\n- 2 kg of potatoes\\n- 1 bunch of spinach\\n- 1 cauliflower\\n- 1 kg of carrots\\n- 2 kg of onions\\n\\nCan you please give me the total amount?', type='TextMessage'), TextMessage(source='vendor', models_usage=RequestUsage(prompt_tokens=330, completion_tokens=114), metadata={}, created_at=datetime.datetime(2025, 9, 15, 17, 19, 18, 586857, tzinfo=datetime.timezone.utc), content='Sure! Here’s the breakdown of your purchase:\\n\\n- Potatoes (2 kg): ₹20 x 2 = ₹40  \\n- Spinach (1 bunch): ₹30  \\n- Cauliflower (1): ₹40  \\n- Carrots (1 kg): ₹25  \\n- Onions (2 kg): ₹15 x 2 = ₹30  \\n\\nNow, adding it all up:\\n₹40 + ₹30 + ₹40 + ₹25 + ₹30 = ₹165  \\n\\nSo, your total amount is ₹165. Would you like to proceed with the purchase?', type='TextMessage'), TextMessage(source='buyer', models_usage=RequestUsage(prompt_tokens=455, completion_tokens=30), metadata={}, created_at=datetime.datetime(2025, 9, 15, 17, 19, 20, 58273, tzinfo=datetime.timezone.utc), content=\"Yes, I'll take them! Here’s ₹165 for the vegetables. Thank you! Could you please pack them up nicely? I appreciate your help!\", type='TextMessage'), TextMessage(source='vendor', models_usage=RequestUsage(prompt_tokens=484, completion_tokens=16), metadata={}, created_at=datetime.datetime(2025, 9, 15, 17, 19, 21, 96561, tzinfo=datetime.timezone.utc), content=\"THANK YOU! I'll pack them up nicely for you. Have a great day!\", type='TextMessage')] stop_reason=\"Text 'THANK YOU' mentioned\"\n"
     ]
    }
   ],
   "source": [
    "result = await team.run(task=\"Write a short poem about the fall season.\")\n",
    "print(result)"
   ]
  },
  {
   "cell_type": "code",
   "execution_count": 8,
   "id": "592aef1e-630e-467e-89bb-e89ffe4187a4",
   "metadata": {},
   "outputs": [
    {
     "name": "stdout",
     "output_type": "stream",
     "text": [
      "user \n",
      " ---------- \n",
      " Write a short poem about the fall season. \n",
      "\n",
      "vendor \n",
      " ---------- \n",
      " In the crisp air, leaves gently sway,  \n",
      "Golden hues dance as they decay,  \n",
      "Pumpkins gleam while the harvest calls,  \n",
      "Nature's canvas, painted in stalls.  \n",
      "\n",
      "Warm spices waft from kitchens near,  \n",
      "Cider and warmth, as winter draws near,  \n",
      "A tapestry woven with colors so bright,  \n",
      "Fall wraps us in beauty, a cozy delight.   \n",
      "\n",
      "buyer \n",
      " ---------- \n",
      " That’s a lovely poem! Now, shifting back to the subji mandi, I’d like to buy some vegetables. Can you tell me the prices for the following?\n",
      "\n",
      "- Potatoes\n",
      "- Spinach\n",
      "- Cauliflower\n",
      "- Carrots\n",
      "- Onions\n",
      "\n",
      "Please let me know your best price for each! \n",
      "\n",
      "vendor \n",
      " ---------- \n",
      " Sure! Here are the best prices for the vegetables you requested:\n",
      "\n",
      "- Potatoes: ₹20 per kg  \n",
      "- Spinach: ₹30 per bunch  \n",
      "- Cauliflower: ₹40 each  \n",
      "- Carrots: ₹25 per kg  \n",
      "- Onions: ₹15 per kg  \n",
      "\n",
      "Let me know how much you would like to buy! \n",
      "\n",
      "buyer \n",
      " ---------- \n",
      " Great, thank you for the prices! I would like to buy the following:\n",
      "\n",
      "- 2 kg of potatoes\n",
      "- 1 bunch of spinach\n",
      "- 1 cauliflower\n",
      "- 1 kg of carrots\n",
      "- 2 kg of onions\n",
      "\n",
      "Can you please give me the total amount? \n",
      "\n",
      "vendor \n",
      " ---------- \n",
      " Sure! Here’s the breakdown of your purchase:\n",
      "\n",
      "- Potatoes (2 kg): ₹20 x 2 = ₹40  \n",
      "- Spinach (1 bunch): ₹30  \n",
      "- Cauliflower (1): ₹40  \n",
      "- Carrots (1 kg): ₹25  \n",
      "- Onions (2 kg): ₹15 x 2 = ₹30  \n",
      "\n",
      "Now, adding it all up:\n",
      "₹40 + ₹30 + ₹40 + ₹25 + ₹30 = ₹165  \n",
      "\n",
      "So, your total amount is ₹165. Would you like to proceed with the purchase? \n",
      "\n",
      "buyer \n",
      " ---------- \n",
      " Yes, I'll take them! Here’s ₹165 for the vegetables. Thank you! Could you please pack them up nicely? I appreciate your help! \n",
      "\n",
      "vendor \n",
      " ---------- \n",
      " THANK YOU! I'll pack them up nicely for you. Have a great day! \n",
      "\n"
     ]
    }
   ],
   "source": [
    "for i in result.messages:\n",
    "    print(i.source, \"\\n\", \"----------\", \"\\n\", i.content, \"\\n\")"
   ]
  }
 ],
 "metadata": {
  "kernelspec": {
   "display_name": "Python 3 (ipykernel)",
   "language": "python",
   "name": "python3"
  },
  "language_info": {
   "codemirror_mode": {
    "name": "ipython",
    "version": 3
   },
   "file_extension": ".py",
   "mimetype": "text/x-python",
   "name": "python",
   "nbconvert_exporter": "python",
   "pygments_lexer": "ipython3",
   "version": "3.12.11"
  }
 },
 "nbformat": 4,
 "nbformat_minor": 5
}
