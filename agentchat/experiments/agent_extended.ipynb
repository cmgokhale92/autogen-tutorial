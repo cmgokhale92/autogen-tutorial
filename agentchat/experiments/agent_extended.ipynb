{
 "cells": [
  {
   "cell_type": "code",
   "execution_count": 1,
   "id": "7a70c644-4e60-4e8a-89ea-fe452f11cbe7",
   "metadata": {},
   "outputs": [
    {
     "data": {
      "text/plain": [
       "True"
      ]
     },
     "execution_count": 1,
     "metadata": {},
     "output_type": "execute_result"
    }
   ],
   "source": [
    "from dotenv import load_dotenv\n",
    "\n",
    "load_dotenv()"
   ]
  },
  {
   "cell_type": "code",
   "execution_count": 2,
   "id": "e2526695-4372-4a3e-a3f5-d38f54bde581",
   "metadata": {},
   "outputs": [
    {
     "name": "stdout",
     "output_type": "stream",
     "text": [
      "---------- TextMessage (user) ----------\n",
      "Hi, buddy how are you doing. What all can you do for me?\n",
      "---------- TextMessage (helpdesk) ----------\n",
      "Hello! Thank you for reaching out. I'm here to assist you with any questions or concerns related to Ayurveda and our healing practices. I can provide information about herbal remedies, suggest treatments for various health issues, explain Ayurvedic principles, and help you schedule an appointment with Dr. Ravish Mehta. \n",
      "\n",
      "Please feel free to tell me more about what you're looking for or how I can assist you today.\n"
     ]
    },
    {
     "data": {
      "text/plain": [
       "TaskResult(messages=[TextMessage(id='03101696-fb6e-455f-bbfd-74c77243fb5a', source='user', models_usage=None, metadata={}, created_at=datetime.datetime(2025, 9, 18, 12, 18, 39, 467267, tzinfo=datetime.timezone.utc), content='Hi, buddy how are you doing. What all can you do for me?', type='TextMessage'), TextMessage(id='fbbeab97-3d11-4bd5-b9aa-3f3e3b42b765', source='helpdesk', models_usage=RequestUsage(prompt_tokens=174, completion_tokens=81), metadata={}, created_at=datetime.datetime(2025, 9, 18, 12, 18, 42, 557425, tzinfo=datetime.timezone.utc), content=\"Hello! Thank you for reaching out. I'm here to assist you with any questions or concerns related to Ayurveda and our healing practices. I can provide information about herbal remedies, suggest treatments for various health issues, explain Ayurvedic principles, and help you schedule an appointment with Dr. Ravish Mehta. \\n\\nPlease feel free to tell me more about what you're looking for or how I can assist you today.\", type='TextMessage')], stop_reason=None)"
      ]
     },
     "execution_count": 2,
     "metadata": {},
     "output_type": "execute_result"
    }
   ],
   "source": [
    "from autogen_agentchat.agents import AssistantAgent\n",
    "from autogen_ext.models.openai import OpenAIChatCompletionClient\n",
    "from autogen_agentchat.ui import Console\n",
    "\n",
    "helpdesk_bot_system_message = \"\"\"\n",
    "    You are a helpful helpdesk bot of Ayurveda clinic in Pune, India. Your clinic specializes in ayurvedic healing methods. The clinic is\n",
    "    headed by Dr. Ravish Mehta. You will assist the customer by interacting with him and helping him in best possible way. Use all the tools\n",
    "    at your disposal for helping the customer. If you are unable to do something, honestly reply to the customer that the thing he/she is\n",
    "    looking for is beyond your scope and he/she may contact helpline number at 999-999-999 for better resolution to his/her query.\n",
    "\n",
    "    Keep an empathetic tone and do not piss off the customer. Genuinely find ways to help the customer.\n",
    "\"\"\"\n",
    "\n",
    "clinic_helpdesk = AssistantAgent(\n",
    "    name=\"helpdesk\",\n",
    "    model_client=OpenAIChatCompletionClient(model=\"gpt-4.1-nano\"),\n",
    "    system_message=helpdesk_bot_system_message\n",
    ")\n",
    "\n",
    "await Console(clinic_helpdesk.run_stream(task=\"Hi, buddy how are you doing. What all can you do for me?\"))"
   ]
  },
  {
   "cell_type": "markdown",
   "id": "a07d9062-5d45-4558-b3ef-ab089b7dc856",
   "metadata": {},
   "source": [
    "### <u>Extending above bot to something realistic</u>\n",
    "\n",
    "Above we saw a basic version of clinic helpdesk bot. Now we will try extending it to a better one.\n",
    "\n",
    "#### <u>What can we add</u>\n",
    "\n",
    "<br>\n",
    "<img src=\"images/image_1.png\" width=\"700\">"
   ]
  },
  {
   "cell_type": "code",
   "execution_count": 2,
   "id": "330a2a8d-5099-4bbe-a380-96b612e23e8e",
   "metadata": {},
   "outputs": [],
   "source": [
    "import asyncio\n",
    "import sqlite3\n",
    "from datetime import datetime, timedelta\n",
    "from typing import Optional\n",
    "\n",
    "from autogen_agentchat.agents import AssistantAgent\n",
    "from autogen_ext.models.openai import OpenAIChatCompletionClient"
   ]
  },
  {
   "cell_type": "code",
   "execution_count": 3,
   "id": "f509e6f3-b315-4b06-88fa-5fdddf7ee584",
   "metadata": {},
   "outputs": [],
   "source": [
    "helpdesk_bot_system_message = \"\"\"\n",
    "    You are a helpful helpdesk bot of Ayurveda clinic in Pune, India. Your clinic specializes in ayurvedic healing methods.\n",
    "    The clinic is headed by Dr. Ravish Mehta. You will assist the customer by interacting with them and helping them in the best possible way.\n",
    "    Use all the tools at your disposal for helping the customer. If you are unable to do something, honestly reply that it's beyond your scope\n",
    "    and the user may contact helpline number at 999-999-999 for better resolution.\n",
    "    \n",
    "    Keep an empathetic tone and do not piss off the customer. Genuinely find ways to help the customer.\n",
    "    \n",
    "    --- Tool instruction (for booking flows) ---\n",
    "    When a user asks to book, reschedule, cancel or list appointments, call the corresponding tool (check_availability, book_appointment, list_appointments, cancel_appointment)\n",
    "    and return the tool result. For booking, capture: patient_name, phone, date (YYYY-MM-DD), time (HH:MM), doctor (optional), and notes (optional).\n",
    "    Always confirm the appointment details after successful booking.\n",
    "\"\"\""
   ]
  },
  {
   "cell_type": "code",
   "execution_count": 4,
   "id": "98cc2600-92c5-4361-b77e-2bb28fe45536",
   "metadata": {},
   "outputs": [],
   "source": [
    "DB_PATH = \"appointments.db\"\n",
    "\n",
    "def init_db(db_path: str = DB_PATH) -> sqlite3.Connection:\n",
    "    conn = sqlite3.connect(db_path, check_same_thread=False)\n",
    "    cur = conn.cursor()\n",
    "    cur.execute(\n",
    "        \"\"\"\n",
    "        CREATE TABLE IF NOT EXISTS appointments (\n",
    "            id INTEGER PRIMARY KEY AUTOINCREMENT,\n",
    "            patient_name TEXT,\n",
    "            phone TEXT,\n",
    "            doctor TEXT,\n",
    "            datetime TEXT,\n",
    "            notes TEXT,\n",
    "            status TEXT DEFAULT 'booked'\n",
    "        )\n",
    "        \"\"\"\n",
    "    )\n",
    "    conn.commit()\n",
    "    return conn\n",
    "\n",
    "conn = init_db()"
   ]
  },
  {
   "cell_type": "code",
   "execution_count": 5,
   "id": "44ada87c-1282-49c4-8d21-03a76d8e7cde",
   "metadata": {},
   "outputs": [],
   "source": [
    "def _make_slot_str(date_str: str, time_str: str) -> str:\n",
    "    \"\"\"\n",
    "    Combine date and time into normalized string \"YYYY-MM-DD HH:MM\".\n",
    "    Expects date YYYY-MM-DD and time HH:MM. If parse fails, joins them as-is.\n",
    "    \"\"\"\n",
    "    try:\n",
    "        dt = datetime.fromisoformat(f\"{date_str} {time_str}\")\n",
    "        return dt.strftime(\"%Y-%m-%d %H:%M\")\n",
    "    except Exception:\n",
    "        try:\n",
    "            # If user gave an ISO datetime directly in 'date_str'\n",
    "            dt = datetime.fromisoformat(date_str)\n",
    "            return dt.strftime(\"%Y-%m-%d %H:%M\")\n",
    "        except Exception:\n",
    "            return f\"{date_str} {time_str}\""
   ]
  },
  {
   "attachments": {},
   "cell_type": "markdown",
   "id": "25a6baa3-5497-4552-83e7-c21e1a0087de",
   "metadata": {},
   "source": [
    "#### <u>ISO Date time</u>\n",
    "\n",
    "It is a standardized format for datetime\n",
    "\n",
    "**YYYY-MM-DD HH:MM:SS**"
   ]
  },
  {
   "cell_type": "code",
   "execution_count": 6,
   "id": "5a624e5f-2231-4aa0-8826-65bf7deb4823",
   "metadata": {},
   "outputs": [],
   "source": [
    "def check_availability(date: str, doctor: str = \"Dr. Ravish Mehta\") -> str:\n",
    "    \"\"\"\n",
    "    List available 30-minute slots for a given doctor and date (YYYY-MM-DD).\n",
    "    \"\"\"\n",
    "    try:\n",
    "        start = datetime.fromisoformat(f\"{date} 09:00\")\n",
    "        end = datetime.fromisoformat(f\"{date} 17:00\")\n",
    "    except Exception:\n",
    "        return \"Please provide date in YYYY-MM-DD format.\"\n",
    "\n",
    "    cur = conn.cursor()\n",
    "    cur.execute(\"SELECT datetime FROM appointments WHERE doctor=? AND status='booked'\", (doctor,))\n",
    "    booked = {r[0] for r in cur.fetchall()}\n",
    "\n",
    "    slots = []\n",
    "    slot = start\n",
    "    while slot < end:\n",
    "        s = slot.strftime(\"%Y-%m-%d %H:%M\")\n",
    "        if s not in booked:\n",
    "            slots.append(slot.strftime(\"%H:%M\"))\n",
    "        slot += timedelta(minutes=30)\n",
    "\n",
    "    if not slots:\n",
    "        return f\"No available slots for {doctor} on {date}.\"\n",
    "    return f\"Available slots for {doctor} on {date}: \" + \", \".join(slots)"
   ]
  },
  {
   "cell_type": "markdown",
   "id": "a6a610ae-a271-4ccc-a271-0f9efa19dc65",
   "metadata": {},
   "source": [
    "#### <u>cur.fetchall()</u>\n",
    "\n",
    "Returns the list of all rows from the query. If only 1 column in select, then the result would be like\n",
    "\n",
    "fetched rows: [(\"2025-09-20 14:30\",), (\"2025-09-20 15:00\",)]\n",
    "\n",
    "#### <u>Python DB libraries typical syntax (used to avoid SQL injection)</u>\n",
    "\n",
    "<img src=\"images/image_2.png\" width=700>"
   ]
  },
  {
   "cell_type": "code",
   "execution_count": 7,
   "id": "045087e5-f9fb-4c2c-8149-0d55e3014809",
   "metadata": {},
   "outputs": [],
   "source": [
    "def book_appointment(patient_name: str, phone: str, date: str, time: str,\n",
    "                     doctor: str = \"Dr. Ravish Mehta\", notes: str = \"\") -> str:\n",
    "    \"\"\"\n",
    "    Book an appointment with required fields:\n",
    "      - patient_name (str)\n",
    "      - phone (str)\n",
    "      - date (YYYY-MM-DD)\n",
    "      - time (HH:MM)\n",
    "    doctor and notes are optional.\n",
    "    Returns confirmation message with appointment ID on success or conflict message.\n",
    "    \"\"\"\n",
    "    slot = _make_slot_str(date, time)\n",
    "    cur = conn.cursor()\n",
    "    cur.execute(\"SELECT id FROM appointments WHERE doctor=? AND datetime=? AND status='booked'\", (doctor, slot))\n",
    "    # cur.fetchone() => returns the next row - if no rows then returns None\n",
    "    if cur.fetchone():\n",
    "        return f\"Sorry, {doctor} already has an appointment at {slot}. Please choose another slot.\"\n",
    "\n",
    "    cur.execute(\n",
    "        \"INSERT INTO appointments (patient_name, phone, doctor, datetime, notes) VALUES (?, ?, ?, ?, ?)\",\n",
    "        (patient_name, phone, doctor, slot, notes),\n",
    "    )\n",
    "    conn.commit()\n",
    "    # cur.lastrowid => gives the auto generated PK ID\n",
    "    appt_id = cur.lastrowid\n",
    "    return f\"Appointment booked! ID: {appt_id}. {patient_name} with {doctor} at {slot}. We'll send a reminder before the visit.\""
   ]
  },
  {
   "cell_type": "markdown",
   "id": "d6a902ba-af1f-4e8f-98ba-f8665c2d280b",
   "metadata": {},
   "source": [
    "cur.fetchone() => returns the next row - if no rows then returns None\n",
    "\n",
    "cur.lastrowid => gives the auto generated PK ID"
   ]
  },
  {
   "cell_type": "code",
   "execution_count": 8,
   "id": "28b68f01-ab2d-4cfd-820a-8c7ccc1af8b8",
   "metadata": {},
   "outputs": [],
   "source": [
    "def list_appointments(phone: Optional[str] = None) -> str:\n",
    "    \"\"\"\n",
    "    List appointments. If phone is provided, returns appointments for that phone number only.\n",
    "    \"\"\"\n",
    "    cur = conn.cursor()\n",
    "    if phone:\n",
    "        cur.execute(\"SELECT id, patient_name, doctor, datetime, status FROM appointments WHERE phone=? ORDER BY datetime\", (phone,))\n",
    "    else:\n",
    "        cur.execute(\"SELECT id, patient_name, doctor, datetime, status FROM appointments ORDER BY datetime\")\n",
    "    rows = cur.fetchall()\n",
    "    if not rows:\n",
    "        return \"No appointments found.\"\n",
    "    lines = []\n",
    "    for r in rows:\n",
    "        lines.append(f\"ID:{r[0]} | {r[1]} | {r[2]} | {r[3]} | {r[4]}\")\n",
    "    return \"\\n\".join(lines)"
   ]
  },
  {
   "cell_type": "code",
   "execution_count": 9,
   "id": "7c59a54d-7f03-4cd4-845e-48f90808a314",
   "metadata": {},
   "outputs": [],
   "source": [
    "def cancel_appointment(appointment_id: Optional[int] = None, phone: Optional[str] = None,\n",
    "                       date: Optional[str] = None, time: Optional[str] = None) -> str:\n",
    "    \"\"\"\n",
    "    Cancel an appointment either by appointment_id OR by (phone + date + time).\n",
    "    Date: YYYY-MM-DD, Time: HH:MM\n",
    "    \"\"\"\n",
    "    cur = conn.cursor()\n",
    "    if appointment_id:\n",
    "        cur.execute(\"SELECT status FROM appointments WHERE id=?\", (appointment_id,))\n",
    "        r = cur.fetchone()\n",
    "        if not r:\n",
    "            return f\"No appointment with ID {appointment_id}.\"\n",
    "        if r[0] == \"cancelled\":\n",
    "            return f\"Appointment {appointment_id} already cancelled.\"\n",
    "        cur.execute(\"UPDATE appointments SET status='cancelled' WHERE id=?\", (appointment_id,))\n",
    "        conn.commit()\n",
    "        return f\"Appointment {appointment_id} cancelled.\"\n",
    "\n",
    "    if phone and date and time:\n",
    "        slot = _make_slot_str(date, time)\n",
    "        cur.execute(\"SELECT id FROM appointments WHERE phone=? AND datetime=? AND status='booked'\", (phone, slot))\n",
    "        r = cur.fetchone()\n",
    "        if not r:\n",
    "            return f\"No matching booked appointment found for {phone} at {slot}.\"\n",
    "        cur.execute(\"UPDATE appointments SET status='cancelled' WHERE id=?\", (r[0],))\n",
    "        conn.commit()\n",
    "        return f\"Appointment {r[0]} cancelled.\"\n",
    "\n",
    "    return \"Please provide an appointment_id or (phone + date + time) to cancel.\""
   ]
  },
  {
   "cell_type": "code",
   "execution_count": 10,
   "id": "555d6798-513f-4a00-a157-a5bb9d953b7f",
   "metadata": {},
   "outputs": [
    {
     "name": "stdout",
     "output_type": "stream",
     "text": [
      "---------- TextMessage (user) ----------\n",
      "I want to book an appointment. But what are the slots available currently for 20th september 2025\n",
      "---------- ThoughtEvent (helpdesk) ----------\n",
      "Thank you for reaching out. Let me check the available time slots for 20th September 2025. Please hold on for a moment.\n",
      "---------- ToolCallRequestEvent (helpdesk) ----------\n",
      "[FunctionCall(id='call_2k6c1ODn5VDgnfTMuZ8HRPyk', arguments='{\"date\":\"2025-09-20\"}', name='check_availability')]\n",
      "[Prompt tokens: 508, Completion tokens: 50]\n",
      "---------- ToolCallExecutionEvent (helpdesk) ----------\n",
      "[FunctionExecutionResult(content='Available slots for Dr. Ravish Mehta on 2025-09-20: 09:00, 09:30, 10:00, 10:30, 11:00, 11:30, 12:30, 13:00, 13:30, 14:00, 14:30, 15:00, 15:30, 16:00, 16:30', name='check_availability', call_id='call_2k6c1ODn5VDgnfTMuZ8HRPyk', is_error=False)]\n",
      "---------- TextMessage (helpdesk) ----------\n",
      "The available slots for 20th September 2025 are from 09:00 to 16:30, with 30-minute intervals. Please let me know which time slot works best for you, so I can assist you in booking the appointment.\n",
      "[Prompt tokens: 662, Completion tokens: 52]\n",
      "---------- Summary ----------\n",
      "Number of messages: 5\n",
      "Finish reason: None\n",
      "Total prompt tokens: 1170\n",
      "Total completion tokens: 102\n",
      "Duration: 3.19 seconds\n"
     ]
    },
    {
     "data": {
      "text/plain": [
       "TaskResult(messages=[TextMessage(id='bdb543f5-a477-4f1e-b057-d643ba640be4', source='user', models_usage=None, metadata={}, created_at=datetime.datetime(2025, 9, 20, 9, 16, 23, 14217, tzinfo=datetime.timezone.utc), content='I want to book an appointment. But what are the slots available currently for 20th september 2025', type='TextMessage'), ThoughtEvent(id='5455b639-a749-49da-afb8-577b9017a2a4', source='helpdesk', models_usage=None, metadata={}, created_at=datetime.datetime(2025, 9, 20, 9, 16, 25, 50988, tzinfo=datetime.timezone.utc), content='Thank you for reaching out. Let me check the available time slots for 20th September 2025. Please hold on for a moment.', type='ThoughtEvent'), ToolCallRequestEvent(id='69f7bd91-86d2-4fe0-ba16-e00404385304', source='helpdesk', models_usage=RequestUsage(prompt_tokens=508, completion_tokens=50), metadata={}, created_at=datetime.datetime(2025, 9, 20, 9, 16, 25, 56076, tzinfo=datetime.timezone.utc), content=[FunctionCall(id='call_2k6c1ODn5VDgnfTMuZ8HRPyk', arguments='{\"date\":\"2025-09-20\"}', name='check_availability')], type='ToolCallRequestEvent'), ToolCallExecutionEvent(id='10d6824b-9d17-4177-8a93-d5586465de63', source='helpdesk', models_usage=None, metadata={}, created_at=datetime.datetime(2025, 9, 20, 9, 16, 25, 63844, tzinfo=datetime.timezone.utc), content=[FunctionExecutionResult(content='Available slots for Dr. Ravish Mehta on 2025-09-20: 09:00, 09:30, 10:00, 10:30, 11:00, 11:30, 12:30, 13:00, 13:30, 14:00, 14:30, 15:00, 15:30, 16:00, 16:30', name='check_availability', call_id='call_2k6c1ODn5VDgnfTMuZ8HRPyk', is_error=False)], type='ToolCallExecutionEvent'), TextMessage(id='29c5743d-256a-4dc5-820e-69fa6e2bec49', source='helpdesk', models_usage=RequestUsage(prompt_tokens=662, completion_tokens=52), metadata={}, created_at=datetime.datetime(2025, 9, 20, 9, 16, 26, 201326, tzinfo=datetime.timezone.utc), content='The available slots for 20th September 2025 are from 09:00 to 16:30, with 30-minute intervals. Please let me know which time slot works best for you, so I can assist you in booking the appointment.', type='TextMessage')], stop_reason=None)"
      ]
     },
     "execution_count": 10,
     "metadata": {},
     "output_type": "execute_result"
    }
   ],
   "source": [
    "from autogen_agentchat.ui import Console\n",
    "\n",
    "model_client = OpenAIChatCompletionClient(model=\"gpt-4.1-nano\")\n",
    "agent = AssistantAgent(\n",
    "    max_tool_iterations=5,\n",
    "    name=\"helpdesk\",\n",
    "    model_client=model_client,\n",
    "    system_message=helpdesk_bot_system_message,\n",
    "    tools=[check_availability, book_appointment, list_appointments],\n",
    "    reflect_on_tool_use=True,\n",
    ")\n",
    "await Console(\n",
    "    agent.run_stream(task=\"I want to book an appointment. But what are the slots available currently for 20th september 2025\"),\n",
    "    output_stats=True,  # Enable stats printing.\n",
    ")"
   ]
  },
  {
   "cell_type": "code",
   "execution_count": 12,
   "id": "9b4e4de3-5df1-444a-a8da-cd1590d3b61c",
   "metadata": {},
   "outputs": [
    {
     "name": "stdout",
     "output_type": "stream",
     "text": [
      "---------- TextMessage (user) ----------\n",
      "I would like to book a 12 pm appointment. Name is Chaitanya Mangesh Gokhale, number is 8007437334\n",
      "---------- ToolCallRequestEvent (helpdesk) ----------\n",
      "[FunctionCall(id='call_C1xzxXdyHaPe6VTY4d04I3Co', arguments='{\"patient_name\": \"Chaitanya Mangesh Gokhale\", \"phone\": \"8007437334\", \"date\": \"2025-09-20\", \"time\": \"12:00\"}', name='book_appointment'), FunctionCall(id='call_O8CjSmqpkJZLvvC0loHXi1Xr', arguments='{\"date\": \"2025-09-20\"}', name='check_availability')]\n",
      "[Prompt tokens: 752, Completion tokens: 82]\n",
      "---------- ToolCallExecutionEvent (helpdesk) ----------\n",
      "[FunctionExecutionResult(content='Sorry, Dr. Ravish Mehta already has an appointment at 2025-09-20 12:00. Please choose another slot.', name='book_appointment', call_id='call_C1xzxXdyHaPe6VTY4d04I3Co', is_error=False), FunctionExecutionResult(content='Available slots for Dr. Ravish Mehta on 2025-09-20: 09:00, 09:30, 10:00, 10:30, 11:00, 11:30, 12:30, 13:00, 13:30, 14:00, 14:30, 15:00, 15:30, 16:00, 16:30', name='check_availability', call_id='call_O8CjSmqpkJZLvvC0loHXi1Xr', is_error=False)]\n",
      "---------- TextMessage (helpdesk) ----------\n",
      "It seems that the 12:00 PM slot is already booked. The next available slots are from 12:30 PM onwards. Please let me know if you'd like to book for 12:30 PM or any other available time.\n",
      "[Prompt tokens: 969, Completion tokens: 49]\n",
      "---------- Summary ----------\n",
      "Number of messages: 4\n",
      "Finish reason: None\n",
      "Total prompt tokens: 1721\n",
      "Total completion tokens: 131\n",
      "Duration: 2.88 seconds\n"
     ]
    },
    {
     "data": {
      "text/plain": [
       "TaskResult(messages=[TextMessage(id='d74531e2-e34e-44cf-8b2f-a540254ad246', source='user', models_usage=None, metadata={}, created_at=datetime.datetime(2025, 9, 20, 9, 18, 34, 421663, tzinfo=datetime.timezone.utc), content='I would like to book a 12 pm appointment. Name is Chaitanya Mangesh Gokhale, number is 8007437334', type='TextMessage'), ToolCallRequestEvent(id='eea2b099-7eea-48f0-a89c-9852711035a0', source='helpdesk', models_usage=RequestUsage(prompt_tokens=752, completion_tokens=82), metadata={}, created_at=datetime.datetime(2025, 9, 20, 9, 18, 36, 491524, tzinfo=datetime.timezone.utc), content=[FunctionCall(id='call_C1xzxXdyHaPe6VTY4d04I3Co', arguments='{\"patient_name\": \"Chaitanya Mangesh Gokhale\", \"phone\": \"8007437334\", \"date\": \"2025-09-20\", \"time\": \"12:00\"}', name='book_appointment'), FunctionCall(id='call_O8CjSmqpkJZLvvC0loHXi1Xr', arguments='{\"date\": \"2025-09-20\"}', name='check_availability')], type='ToolCallRequestEvent'), ToolCallExecutionEvent(id='1b752eb0-1289-4275-b4c4-cbc67c38d5c5', source='helpdesk', models_usage=None, metadata={}, created_at=datetime.datetime(2025, 9, 20, 9, 18, 36, 498554, tzinfo=datetime.timezone.utc), content=[FunctionExecutionResult(content='Sorry, Dr. Ravish Mehta already has an appointment at 2025-09-20 12:00. Please choose another slot.', name='book_appointment', call_id='call_C1xzxXdyHaPe6VTY4d04I3Co', is_error=False), FunctionExecutionResult(content='Available slots for Dr. Ravish Mehta on 2025-09-20: 09:00, 09:30, 10:00, 10:30, 11:00, 11:30, 12:30, 13:00, 13:30, 14:00, 14:30, 15:00, 15:30, 16:00, 16:30', name='check_availability', call_id='call_O8CjSmqpkJZLvvC0loHXi1Xr', is_error=False)], type='ToolCallExecutionEvent'), TextMessage(id='ad10364b-2841-48ab-98ef-7577c1cba15f', source='helpdesk', models_usage=RequestUsage(prompt_tokens=969, completion_tokens=49), metadata={}, created_at=datetime.datetime(2025, 9, 20, 9, 18, 37, 297393, tzinfo=datetime.timezone.utc), content=\"It seems that the 12:00 PM slot is already booked. The next available slots are from 12:30 PM onwards. Please let me know if you'd like to book for 12:30 PM or any other available time.\", type='TextMessage')], stop_reason=None)"
      ]
     },
     "execution_count": 12,
     "metadata": {},
     "output_type": "execute_result"
    }
   ],
   "source": [
    "await Console(\n",
    "    agent.run_stream(task=\"I would like to book a 12 pm appointment. Name is Chaitanya Mangesh Gokhale, number is 8007437334\"),\n",
    "    output_stats=True,  # Enable stats printing.\n",
    ")"
   ]
  },
  {
   "cell_type": "code",
   "execution_count": 13,
   "id": "47687783-19d9-4eeb-946d-c2e34f9f5428",
   "metadata": {},
   "outputs": [
    {
     "name": "stdout",
     "output_type": "stream",
     "text": [
      "---------- TextMessage (user) ----------\n",
      "That would be fine. book it at the next one.\n",
      "---------- ToolCallRequestEvent (helpdesk) ----------\n",
      "[FunctionCall(id='call_5DF2tAUH7oXy5QHW92ACEF65', arguments='{\"patient_name\":\"Chaitanya Mangesh Gokhale\",\"phone\":\"8007437334\",\"date\":\"2025-09-20\",\"time\":\"12:30\"}', name='book_appointment')]\n",
      "[Prompt tokens: 1038, Completion tokens: 46]\n",
      "---------- ToolCallExecutionEvent (helpdesk) ----------\n",
      "[FunctionExecutionResult(content=\"Appointment booked! ID: 3. Chaitanya Mangesh Gokhale with Dr. Ravish Mehta at 2025-09-20 12:30. We'll send a reminder before the visit.\", name='book_appointment', call_id='call_5DF2tAUH7oXy5QHW92ACEF65', is_error=False)]\n",
      "---------- TextMessage (helpdesk) ----------\n",
      "Your appointment has been successfully booked for 12:30 PM on 20th September 2025 with Dr. Ravish Mehta. If you need any further assistance, please feel free to ask.\n",
      "[Prompt tokens: 1138, Completion tokens: 42]\n",
      "---------- Summary ----------\n",
      "Number of messages: 4\n",
      "Finish reason: None\n",
      "Total prompt tokens: 2176\n",
      "Total completion tokens: 88\n",
      "Duration: 2.23 seconds\n"
     ]
    },
    {
     "data": {
      "text/plain": [
       "TaskResult(messages=[TextMessage(id='68315c6b-98f3-4ceb-963c-113cb348a84c', source='user', models_usage=None, metadata={}, created_at=datetime.datetime(2025, 9, 20, 9, 19, 1, 732444, tzinfo=datetime.timezone.utc), content='That would be fine. book it at the next one.', type='TextMessage'), ToolCallRequestEvent(id='fd6819d6-0f3b-4a1d-9d8d-098541417b66', source='helpdesk', models_usage=RequestUsage(prompt_tokens=1038, completion_tokens=46), metadata={}, created_at=datetime.datetime(2025, 9, 20, 9, 19, 2, 831162, tzinfo=datetime.timezone.utc), content=[FunctionCall(id='call_5DF2tAUH7oXy5QHW92ACEF65', arguments='{\"patient_name\":\"Chaitanya Mangesh Gokhale\",\"phone\":\"8007437334\",\"date\":\"2025-09-20\",\"time\":\"12:30\"}', name='book_appointment')], type='ToolCallRequestEvent'), ToolCallExecutionEvent(id='10469b85-337e-4acc-87cf-68559a5caede', source='helpdesk', models_usage=None, metadata={}, created_at=datetime.datetime(2025, 9, 20, 9, 19, 2, 852755, tzinfo=datetime.timezone.utc), content=[FunctionExecutionResult(content=\"Appointment booked! ID: 3. Chaitanya Mangesh Gokhale with Dr. Ravish Mehta at 2025-09-20 12:30. We'll send a reminder before the visit.\", name='book_appointment', call_id='call_5DF2tAUH7oXy5QHW92ACEF65', is_error=False)], type='ToolCallExecutionEvent'), TextMessage(id='ded8ca5a-2e2f-46f9-9bf7-574446fd2bc1', source='helpdesk', models_usage=RequestUsage(prompt_tokens=1138, completion_tokens=42), metadata={}, created_at=datetime.datetime(2025, 9, 20, 9, 19, 3, 958352, tzinfo=datetime.timezone.utc), content='Your appointment has been successfully booked for 12:30 PM on 20th September 2025 with Dr. Ravish Mehta. If you need any further assistance, please feel free to ask.', type='TextMessage')], stop_reason=None)"
      ]
     },
     "execution_count": 13,
     "metadata": {},
     "output_type": "execute_result"
    }
   ],
   "source": [
    "await Console(\n",
    "    agent.run_stream(task=\"That would be fine. book it at the next one.\"),\n",
    "    output_stats=True,  # Enable stats printing.\n",
    ")"
   ]
  },
  {
   "cell_type": "code",
   "execution_count": 14,
   "id": "2aa57700-c0e9-4e55-98e0-e7d7489a50f5",
   "metadata": {},
   "outputs": [
    {
     "name": "stdout",
     "output_type": "stream",
     "text": [
      "---------- TextMessage (user) ----------\n",
      "List all appointments for 20th september.\n",
      "---------- ToolCallRequestEvent (helpdesk) ----------\n",
      "[FunctionCall(id='call_xqi3TfaeYMJL3YoZWJwoQiNa', arguments='{\"phone\":\"8007437334\"}', name='list_appointments')]\n",
      "[Prompt tokens: 1197, Completion tokens: 18]\n",
      "---------- ToolCallExecutionEvent (helpdesk) ----------\n",
      "[FunctionExecutionResult(content='ID:2 | Chaitanya Mangesh Gokhale | Dr. Ravish Mehta | 2025-09-20 12:00 | booked\\nID:3 | Chaitanya Mangesh Gokhale | Dr. Ravish Mehta | 2025-09-20 12:30 | booked', name='list_appointments', call_id='call_xqi3TfaeYMJL3YoZWJwoQiNa', is_error=False)]\n",
      "---------- TextMessage (helpdesk) ----------\n",
      "Here are the appointments for 20th September 2025:\n",
      "1. Chaitanya Mangesh Gokhale with Dr. Ravish Mehta at 12:00 PM\n",
      "2. Chaitanya Mangesh Gokhale with Dr. Ravish Mehta at 12:30 PM\n",
      "\n",
      "If you need to make any changes or have any other questions, please let me know.\n",
      "[Prompt tokens: 1293, Completion tokens: 82]\n",
      "---------- Summary ----------\n",
      "Number of messages: 4\n",
      "Finish reason: None\n",
      "Total prompt tokens: 2490\n",
      "Total completion tokens: 100\n",
      "Duration: 3.59 seconds\n"
     ]
    },
    {
     "data": {
      "text/plain": [
       "TaskResult(messages=[TextMessage(id='b9916792-e1cd-479e-8534-32ae71a326b3', source='user', models_usage=None, metadata={}, created_at=datetime.datetime(2025, 9, 20, 9, 20, 47, 928783, tzinfo=datetime.timezone.utc), content='List all appointments for 20th september.', type='TextMessage'), ToolCallRequestEvent(id='ffad8b14-45eb-4572-9a5d-769fae52adcb', source='helpdesk', models_usage=RequestUsage(prompt_tokens=1197, completion_tokens=18), metadata={}, created_at=datetime.datetime(2025, 9, 20, 9, 20, 49, 76993, tzinfo=datetime.timezone.utc), content=[FunctionCall(id='call_xqi3TfaeYMJL3YoZWJwoQiNa', arguments='{\"phone\":\"8007437334\"}', name='list_appointments')], type='ToolCallRequestEvent'), ToolCallExecutionEvent(id='2577b95a-7557-4b2c-8e77-71336343d405', source='helpdesk', models_usage=None, metadata={}, created_at=datetime.datetime(2025, 9, 20, 9, 20, 49, 81887, tzinfo=datetime.timezone.utc), content=[FunctionExecutionResult(content='ID:2 | Chaitanya Mangesh Gokhale | Dr. Ravish Mehta | 2025-09-20 12:00 | booked\\nID:3 | Chaitanya Mangesh Gokhale | Dr. Ravish Mehta | 2025-09-20 12:30 | booked', name='list_appointments', call_id='call_xqi3TfaeYMJL3YoZWJwoQiNa', is_error=False)], type='ToolCallExecutionEvent'), TextMessage(id='538292ff-9b3c-4702-9fb9-8b95b55c87de', source='helpdesk', models_usage=RequestUsage(prompt_tokens=1293, completion_tokens=82), metadata={}, created_at=datetime.datetime(2025, 9, 20, 9, 20, 51, 514842, tzinfo=datetime.timezone.utc), content='Here are the appointments for 20th September 2025:\\n1. Chaitanya Mangesh Gokhale with Dr. Ravish Mehta at 12:00 PM\\n2. Chaitanya Mangesh Gokhale with Dr. Ravish Mehta at 12:30 PM\\n\\nIf you need to make any changes or have any other questions, please let me know.', type='TextMessage')], stop_reason=None)"
      ]
     },
     "execution_count": 14,
     "metadata": {},
     "output_type": "execute_result"
    }
   ],
   "source": [
    "await Console(\n",
    "    agent.run_stream(task=\"List all appointments for 20th september.\"),\n",
    "    output_stats=True,  # Enable stats printing.\n",
    ")"
   ]
  },
  {
   "cell_type": "code",
   "execution_count": null,
   "id": "92d267f3-d89b-4f7a-860f-ebaec7b41bb9",
   "metadata": {},
   "outputs": [],
   "source": []
  }
 ],
 "metadata": {
  "kernelspec": {
   "display_name": "Python 3 (ipykernel)",
   "language": "python",
   "name": "python3"
  },
  "language_info": {
   "codemirror_mode": {
    "name": "ipython",
    "version": 3
   },
   "file_extension": ".py",
   "mimetype": "text/x-python",
   "name": "python",
   "nbconvert_exporter": "python",
   "pygments_lexer": "ipython3",
   "version": "3.13.3"
  }
 },
 "nbformat": 4,
 "nbformat_minor": 5
}
