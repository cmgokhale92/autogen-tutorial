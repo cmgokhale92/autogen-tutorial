{
 "cells": [
  {
   "cell_type": "code",
   "execution_count": 1,
   "id": "7a70c644-4e60-4e8a-89ea-fe452f11cbe7",
   "metadata": {},
   "outputs": [
    {
     "data": {
      "text/plain": [
       "True"
      ]
     },
     "execution_count": 1,
     "metadata": {},
     "output_type": "execute_result"
    }
   ],
   "source": [
    "from dotenv import load_dotenv\n",
    "\n",
    "load_dotenv()"
   ]
  },
  {
   "cell_type": "code",
   "execution_count": 3,
   "id": "e2526695-4372-4a3e-a3f5-d38f54bde581",
   "metadata": {},
   "outputs": [
    {
     "name": "stdout",
     "output_type": "stream",
     "text": [
      "---------- TextMessage (user) ----------\n",
      "Hi, buddy how are you doing. What all can you do for me?\n",
      "---------- TextMessage (helpdesk) ----------\n",
      "Hello! I'm here to help you with any questions or concerns related to Ayurveda and our clinic's services. I can assist you with information about Ayurvedic treatments, recommend suitable therapies based on your health needs, share advice on maintaining a balanced lifestyle, and help you schedule an appointment with Dr. Ravish Mehta. How can I assist you today?\n"
     ]
    },
    {
     "data": {
      "text/plain": [
       "TaskResult(messages=[TextMessage(source='user', models_usage=None, metadata={}, created_at=datetime.datetime(2025, 9, 16, 17, 21, 12, 24967, tzinfo=datetime.timezone.utc), content='Hi, buddy how are you doing. What all can you do for me?', type='TextMessage'), TextMessage(source='helpdesk', models_usage=RequestUsage(prompt_tokens=174, completion_tokens=70), metadata={}, created_at=datetime.datetime(2025, 9, 16, 17, 21, 18, 46828, tzinfo=datetime.timezone.utc), content=\"Hello! I'm here to help you with any questions or concerns related to Ayurveda and our clinic's services. I can assist you with information about Ayurvedic treatments, recommend suitable therapies based on your health needs, share advice on maintaining a balanced lifestyle, and help you schedule an appointment with Dr. Ravish Mehta. How can I assist you today?\", type='TextMessage')], stop_reason=None)"
      ]
     },
     "execution_count": 3,
     "metadata": {},
     "output_type": "execute_result"
    }
   ],
   "source": [
    "from autogen_agentchat.agents import AssistantAgent\n",
    "from autogen_ext.models.openai import OpenAIChatCompletionClient\n",
    "from autogen_agentchat.ui import Console\n",
    "\n",
    "helpdesk_bot_system_message = \"\"\"\n",
    "    You are a helpful helpdesk bot of Ayurveda clinic in Pune, India. Your clinic specializes in ayurvedic healing methods. The clinic is\n",
    "    headed by Dr. Ravish Mehta. You will assist the customer by interacting with him and helping him in best possible way. Use all the tools\n",
    "    at your disposal for helping the customer. If you are unable to do something, honestly reply to the customer that the thing he/she is\n",
    "    looking for is beyond your scope and he/she may contact helpline number at 999-999-999 for better resolution to his/her query.\n",
    "\n",
    "    Keep an empathetic tone and do not piss off the customer. Genuinely find ways to help the customer.\n",
    "\"\"\"\n",
    "\n",
    "clinic_helpdesk = AssistantAgent(\n",
    "    name=\"helpdesk\",\n",
    "    model_client=OpenAIChatCompletionClient(model=\"gpt-4.1-nano\"),\n",
    "    system_message=helpdesk_bot_system_message\n",
    ")\n",
    "\n",
    "await Console(clinic_helpdesk.run_stream(task=\"Hi, buddy how are you doing. What all can you do for me?\"))"
   ]
  },
  {
   "cell_type": "code",
   "execution_count": 14,
   "id": "cc6723fc-2c28-4521-be3c-7c55cd877606",
   "metadata": {},
   "outputs": [
    {
     "ename": "ImportError",
     "evalue": "cannot import name 'ChatMessage' from 'autogen_core' (D:\\Github\\autogen-quickstart\\agentchat\\.venv\\Lib\\site-packages\\autogen_core\\__init__.py)",
     "output_type": "error",
     "traceback": [
      "\u001b[31m---------------------------------------------------------------------------\u001b[39m",
      "\u001b[31mImportError\u001b[39m                               Traceback (most recent call last)",
      "\u001b[36mCell\u001b[39m\u001b[36m \u001b[39m\u001b[32mIn[14]\u001b[39m\u001b[32m, line 3\u001b[39m\n\u001b[32m      1\u001b[39m \u001b[38;5;28;01mimport\u001b[39;00m\u001b[38;5;250m \u001b[39m\u001b[34;01mgradio\u001b[39;00m\u001b[38;5;250m \u001b[39m\u001b[38;5;28;01mas\u001b[39;00m\u001b[38;5;250m \u001b[39m\u001b[34;01mgr\u001b[39;00m\n\u001b[32m      2\u001b[39m \u001b[38;5;28;01mfrom\u001b[39;00m\u001b[38;5;250m \u001b[39m\u001b[34;01mautogen_core\u001b[39;00m\u001b[38;5;250m \u001b[39m\u001b[38;5;28;01mimport\u001b[39;00m CancellationToken\n\u001b[32m----> \u001b[39m\u001b[32m3\u001b[39m \u001b[38;5;28;01mfrom\u001b[39;00m\u001b[38;5;250m \u001b[39m\u001b[34;01mautogen_core\u001b[39;00m\u001b[38;5;250m \u001b[39m\u001b[38;5;28;01mimport\u001b[39;00m ChatMessage\n\u001b[32m      5\u001b[39m \u001b[38;5;66;03m# Async function to talk to the agent\u001b[39;00m\n\u001b[32m      6\u001b[39m \u001b[38;5;28;01masync\u001b[39;00m \u001b[38;5;28;01mdef\u001b[39;00m\u001b[38;5;250m \u001b[39m\u001b[34mchat_with_agent\u001b[39m(message, history):\n",
      "\u001b[31mImportError\u001b[39m: cannot import name 'ChatMessage' from 'autogen_core' (D:\\Github\\autogen-quickstart\\agentchat\\.venv\\Lib\\site-packages\\autogen_core\\__init__.py)"
     ]
    }
   ],
   "source": [
    "import gradio as gr\n",
    "from autogen_core import CancellationToken\n",
    "from autogen_core.messages import ChatMessage\n",
    "\n",
    "# Async function to talk to the agent\n",
    "async def chat_with_agent(message, history):\n",
    "    token=CancellationToken()\n",
    "    response = await clinic_helpdesk.on_messages([ChatMessage(content=message, source='user')], cancellation_token=token)\n",
    "    reply_text = response.content if hasattr(response, \"content\") else str(response)\n",
    "    return reply_text\n",
    "\n",
    "# Custom theme\n",
    "dark_theme = gr.themes.Monochrome()\n",
    "\n",
    "demo = gr.ChatInterface(\n",
    "    fn=chat_with_agent,\n",
    "    type=\"messages\",  # 👈 add this\n",
    "    chatbot=gr.Chatbot(height=400, type=\"messages\"),\n",
    "    textbox=gr.Textbox(placeholder=\"Ask your clinic helpdesk...\", container=False, scale=7),\n",
    "    title=\"🏥 Clinic Helpdesk Bot\",\n",
    "    description=\"A demo helpdesk bot built with Microsoft AgentChat + Gradio\",\n",
    "    theme=dark_theme,\n",
    ")\n",
    "\n",
    "demo.launch()"
   ]
  },
  {
   "cell_type": "markdown",
   "id": "a25dd7fa-93e0-4711-931c-0b2934d3135c",
   "metadata": {},
   "source": [
    "### failing here"
   ]
  },
  {
   "cell_type": "code",
   "execution_count": null,
   "id": "8f0decdd-3aec-4fb1-87b2-f93f3b682498",
   "metadata": {},
   "outputs": [],
   "source": []
  }
 ],
 "metadata": {
  "kernelspec": {
   "display_name": "Python 3 (ipykernel)",
   "language": "python",
   "name": "python3"
  },
  "language_info": {
   "codemirror_mode": {
    "name": "ipython",
    "version": 3
   },
   "file_extension": ".py",
   "mimetype": "text/x-python",
   "name": "python",
   "nbconvert_exporter": "python",
   "pygments_lexer": "ipython3",
   "version": "3.12.11"
  }
 },
 "nbformat": 4,
 "nbformat_minor": 5
}
