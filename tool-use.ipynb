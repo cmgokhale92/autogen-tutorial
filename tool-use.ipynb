{
 "cells": [
  {
   "cell_type": "markdown",
   "id": "8f9e6020-03a0-4bbc-871e-1679ea00a84a",
   "metadata": {},
   "source": [
    "## Tool Use\n",
    "\n",
    "[tool use tutorial](https://microsoft.github.io/autogen/0.2/docs/tutorial/tool-use)\n",
    "\n",
    "In previous notebook we explored executor agents. Executors execute arbitary code written by code writing agent. But accurate code output from LLM is a challenge. This is where tools come in.\n",
    "\n",
    "Tools are pre-defined functions. Hence, rather than arbitary code, our executors can use tools to get outputs.\n",
    "\n",
    "*Note: Tools usage is supported only for LLMs supporting Open AI style tool API calls.*\n",
    "\n",
    "## Creating tools\n",
    "\n",
    "Tools can be regular python functions. Following is a function of a calculator that can perform a single operation at a time"
   ]
  },
  {
   "cell_type": "code",
   "execution_count": 1,
   "id": "ef74e5aa-966e-4f99-80c6-08de44aea97c",
   "metadata": {},
   "outputs": [],
   "source": [
    "from typing import Annotated, Literal\n",
    "\n",
    "Operator = Literal[\"+\", \"-\", \"*\", \"/\"]\n",
    "\n",
    "def calculator(a: int, b: int, operator: Annotated[Operator, \"operator\"]) -> int:\n",
    "    if operator == \"+\":\n",
    "        return a + b\n",
    "    elif operator == \"-\":\n",
    "        return a - b\n",
    "    elif operator == \"*\":\n",
    "        return a * b\n",
    "    elif operator == \"/\":\n",
    "        return int(a / b)\n",
    "    else:\n",
    "        raise ValueError(\"Invalid operator\")"
   ]
  },
  {
   "cell_type": "markdown",
   "id": "3a208f1a-f7ce-4a94-af05-d5f64ca5e20f",
   "metadata": {},
   "source": [
    "#### Note : always provide type hints. Helps agent perform best\n",
    "\n",
    "## Registering tools\n",
    "\n",
    "done till here"
   ]
  },
  {
   "cell_type": "code",
   "execution_count": null,
   "id": "5bb19da1-2346-4c17-a90a-4f1b6b2d46ee",
   "metadata": {},
   "outputs": [],
   "source": []
  }
 ],
 "metadata": {
  "kernelspec": {
   "display_name": "Python 3 (ipykernel)",
   "language": "python",
   "name": "python3"
  },
  "language_info": {
   "codemirror_mode": {
    "name": "ipython",
    "version": 3
   },
   "file_extension": ".py",
   "mimetype": "text/x-python",
   "name": "python",
   "nbconvert_exporter": "python",
   "pygments_lexer": "ipython3",
   "version": "3.10.5"
  }
 },
 "nbformat": 4,
 "nbformat_minor": 5
}
